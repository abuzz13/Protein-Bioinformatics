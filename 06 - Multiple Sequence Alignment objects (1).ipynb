{
 "cells": [
  {
   "cell_type": "markdown",
   "metadata": {},
   "source": [
    "**Source of the materials**: Biopython cookbook (adapted)\n",
    "<font color='red'>Status: Draft</font>"
   ]
  },
  {
   "cell_type": "markdown",
   "metadata": {},
   "source": [
    "Multiple Sequence Alignment objects {#chapter:Bio.AlignIO}\n",
    "===================================\n",
    "\n",
    "This chapter is about Multiple Sequence Alignments, by which we mean a\n",
    "collection of multiple sequences which have been aligned together –\n",
    "usually with the insertion of gap characters, and addition of leading or\n",
    "trailing gaps – such that all the sequence strings are the same length.\n",
    "Such an alignment can be regarded as a matrix of letters, where each row\n",
    "is held as a `SeqRecord` object internally.\n",
    "\n",
    "We will introduce the `MultipleSeqAlignment` object which holds this\n",
    "kind of data, and the `Bio.AlignIO` module for reading and writing them\n",
    "as various file formats (following the design of the `Bio.SeqIO` module\n",
    "from the previous chapter). Note that both `Bio.SeqIO` and `Bio.AlignIO`\n",
    "can read and write sequence alignment files. The appropriate choice will\n",
    "depend largely on what you want to do with the data.\n",
    "\n",
    "The final part of this chapter is about our command line wrappers for\n",
    "common multiple sequence alignment tools like ClustalW and MUSCLE.\n",
    "\n",
    "Parsing or Reading Sequence Alignments\n",
    "--------------------------------------\n",
    "\n",
    "We have two functions for reading in sequence alignments,\n",
    "`Bio.AlignIO.read()` and `Bio.AlignIO.parse()` which following the\n",
    "convention introduced in `Bio.SeqIO` are for files containing one or\n",
    "multiple alignments respectively.\n",
    "\n",
    "Using `Bio.AlignIO.parse()` will return an <span>*iterator*</span> which\n",
    "gives `MultipleSeqAlignment` objects. Iterators are typically used in a\n",
    "for loop. Examples of situations where you will have multiple different\n",
    "alignments include resampled alignments from the PHYLIP tool `seqboot`,\n",
    "or multiple pairwise alignments from the EMBOSS tools `water` or\n",
    "`needle`, or Bill Pearson’s FASTA tools.\n",
    "\n",
    "However, in many situations you will be dealing with files which contain\n",
    "only a single alignment. In this case, you should use the\n",
    "`Bio.AlignIO.read()` function which returns a single\n",
    "`MultipleSeqAlignment` object.\n",
    "\n",
    "Both functions expect two mandatory arguments:\n",
    "\n",
    "1.  The first argument is a <span>*handle*</span> to read the data from,\n",
    "    typically an open file (see Section \\[sec:appendix-handles\\]), or\n",
    "    a filename.\n",
    "\n",
    "2.  The second argument is a lower case string specifying the\n",
    "    alignment format. As in `Bio.SeqIO` we don’t try and guess the file\n",
    "    format for you! See <http://biopython.org/wiki/AlignIO> for a full\n",
    "    listing of supported formats.\n",
    "\n",
    "There is also an optional `seq_count` argument which is discussed in\n",
    "Section \\[sec:AlignIO-count-argument\\] below for dealing with ambiguous\n",
    "file formats which may contain more than one alignment.\n",
    "\n",
    "A further optional `alphabet` argument allowing you to specify the\n",
    "expected alphabet. This can be useful as many alignment file formats do\n",
    "not explicitly label the sequences as RNA, DNA or protein – which means\n",
    "`Bio.AlignIO` will default to using a generic alphabet.\n",
    "\n",
    "### Single Alignments\n",
    "\n",
    "As an example, consider the following annotation rich protein alignment\n",
    "in the PFAM or Stockholm file format:\n",
    "\n"
   ]
  },
  {
   "cell_type": "markdown",
   "metadata": {},
   "source": [
    "```\n",
    "# STOCKHOLM 1.0\n",
    "#=GS COATB_BPIKE/30-81  AC P03620.1\n",
    "#=GS COATB_BPIKE/30-81  DR PDB; 1ifl ; 1-52;\n",
    "#=GS Q9T0Q8_BPIKE/1-52  AC Q9T0Q8.1\n",
    "#=GS COATB_BPI22/32-83  AC P15416.1\n",
    "#=GS COATB_BPM13/24-72  AC P69541.1\n",
    "#=GS COATB_BPM13/24-72  DR PDB; 2cpb ; 1-49;\n",
    "#=GS COATB_BPM13/24-72  DR PDB; 2cps ; 1-49;\n",
    "#=GS COATB_BPZJ2/1-49   AC P03618.1\n",
    "#=GS Q9T0Q9_BPFD/1-49   AC Q9T0Q9.1\n",
    "#=GS Q9T0Q9_BPFD/1-49   DR PDB; 1nh4 A; 1-49;\n",
    "#=GS COATB_BPIF1/22-73  AC P03619.2\n",
    "#=GS COATB_BPIF1/22-73  DR PDB; 1ifk ; 1-50;\n",
    "COATB_BPIKE/30-81             AEPNAATNYATEAMDSLKTQAIDLISQTWPVVTTVVVAGLVIRLFKKFSSKA\n",
    "#=GR COATB_BPIKE/30-81  SS    -HHHHHHHHHHHHHH--HHHHHHHH--HHHHHHHHHHHHHHHHHHHHH----\n",
    "Q9T0Q8_BPIKE/1-52             AEPNAATNYATEAMDSLKTQAIDLISQTWPVVTTVVVAGLVIKLFKKFVSRA\n",
    "COATB_BPI22/32-83             DGTSTATSYATEAMNSLKTQATDLIDQTWPVVTSVAVAGLAIRLFKKFSSKA\n",
    "COATB_BPM13/24-72             AEGDDP...AKAAFNSLQASATEYIGYAWAMVVVIVGATIGIKLFKKFTSKA\n",
    "#=GR COATB_BPM13/24-72  SS    ---S-T...CHCHHHHCCCCTCCCTTCHHHHHHHHHHHHHHHHHHHHCTT--\n",
    "COATB_BPZJ2/1-49              AEGDDP...AKAAFDSLQASATEYIGYAWAMVVVIVGATIGIKLFKKFASKA\n",
    "Q9T0Q9_BPFD/1-49              AEGDDP...AKAAFDSLQASATEYIGYAWAMVVVIVGATIGIKLFKKFTSKA\n",
    "#=GR Q9T0Q9_BPFD/1-49   SS    ------...-HHHHHHHHHHHHHHHHHHHHHHHHHHHHHHHHHHHHHHHH--\n",
    "COATB_BPIF1/22-73             FAADDATSQAKAAFDSLTAQATEMSGYAWALVVLVVGATVGIKLFKKFVSRA\n",
    "#=GR COATB_BPIF1/22-73  SS    XX-HHHH--HHHHHH--HHHHHHH--HHHHHHHHHHHHHHHHHHHHHHH---\n",
    "#=GC SS_cons                  XHHHHHHHHHHHHHHHCHHHHHHHHCHHHHHHHHHHHHHHHHHHHHHHHC--\n",
    "#=GC seq_cons                 AEssss...AptAhDSLpspAT-hIu.sWshVsslVsAsluIKLFKKFsSKA\n",
    "//\n",
    "\n",
    "```"
   ]
  },
  {
   "cell_type": "markdown",
   "metadata": {},
   "source": [
    "\n",
    "This is the seed alignment for the Phage\\_Coat\\_Gp8 (PF05371) PFAM\n",
    "entry, downloaded from a now out of date release of PFAM from\n",
    "<http://pfam.sanger.ac.uk/>. We can load this file as follows (assuming\n",
    "it has been saved to disk as “PF05371\\_seed.sth” in the current working\n",
    "directory):\n",
    "\n"
   ]
  },
  {
   "cell_type": "code",
   "execution_count": null,
   "metadata": {},
   "outputs": [],
   "source": [
    "from Bio import AlignIO\n",
    "alignment = AlignIO.read(\"SEED.ann\", \"stockholm\")"
   ]
  },
  {
   "cell_type": "markdown",
   "metadata": {},
   "source": [
    "\n",
    "This code will print out a summary of the alignment:\n",
    "\n"
   ]
  },
  {
   "cell_type": "code",
   "execution_count": 17,
   "metadata": {},
   "outputs": [
    {
     "name": "stdout",
     "output_type": "stream",
     "text": [
      "Alignment with 50 rows and 431 columns\n",
      "LIIPCLLISCLTVLVFYLPSEC-GEKITLCISVLLSLTVFLLLI...GLF ACHA2_RAT/249-502\n",
      "LIIPCLLISCLTVLVFYLPSDC-GEKITLCISVLLSLTVFLLLI...GLF ACHA2_CHICK/247-519\n",
      "LIIPCLLISCLTVLVFYLPSEC-GEKITLCISVLLSLTVFLLLI...GLF ACHA4_CHICK/245-613\n",
      "LIIPCLLISCLTVLVFYLPSEC-GEKVTLCISVLLSLTVFLLLI...GLF ACHA4_RAT/252-622\n",
      "LIIPCLLISFLTILVFYLPSDC-GEKVTLCISVLLSLTVFLLVI...GLF ACHA3_CARAU/240-503\n",
      "MIIPCLLISFLTVLVFYLPSDC-GEKVTLCISVLLSLTVFLLVI...GLF ACHA3_CHICK/239-486\n",
      "VVIPCLLFSFLTGLVFYLPTDS-GEKITLSVSVLLSLVVFLLVI...AIF ACHAA_XENLA/238-446\n",
      "LIIPCLGLSFLTVLVFYLPSDE-GEKLSLSTSVLVSLTVFLLVI...LIF ACHB3_RAT/246-452\n",
      "LIIPCLGLSFLTVLVFYLPSDE-GEKVSLSTSVLVSLTVFLLVI...LIF ACHN2_CARAU/242-446\n",
      "LIIPCVGISYLSVLVFYLPADS-GEKIALCISILLSQTMFFLLI...VIL B4HH26_DROSE/268-544\n",
      "LIVPCVGISYLSVLVFYLPADS-GEKIALCISILLSQTMFFLLI...AIL ACH1_SCHGR/249-526\n",
      "LIVPCVALTFLTVLVFYLPSDS-GEKVTLCISILVSLTVFFLLL...AII B4QT71_DROSI/252-480\n",
      "LIIPCVGISFLSVLVFYLPSDS-GEKISLCISILLSLTVFFLLL...LII ACH1_DROME/247-531\n",
      "LLIPCVLISALALLVFLLPADS-GEKISLGITVLLSLTVFMLLV...GIL ACHA7_CHICK/237-487\n",
      "LLLPSIFLMVVDIVGFCLPPDS-GERVSFKITLLLGYSVFLIIV...TLV 5HT3A_MOUSE/253-478\n",
      "IYTPCIMTVILSQVSFWINKESVPARTVFGITTVLTMTTLSISA...VYW GBRA6_MOUSE/247-437\n",
      "TYIPCIMTVILSQVSFWINKESVPARTVFGITTVLTMTTLSISA...VYW GBRA4_BOVIN/263-539\n",
      "TYIPCILTVVLSWVSFWINKDAVPARTSLGITTVLTMTTLSTIA...VYW GBRG1_RAT/277-459\n",
      "...\n",
      "LIIPCVLITSLAILVFYLPSDC-GEKVTLCMSVLLALTVFLLLI...GLF ACHB2_CARAU/211-439\n"
     ]
    }
   ],
   "source": [
    "print(alignment)"
   ]
  },
  {
   "cell_type": "markdown",
   "metadata": {},
   "source": [
    "\n",
    "You’ll notice in the above output the sequences have been truncated. We\n",
    "could instead write our own code to format this as we please by\n",
    "iterating over the rows as `SeqRecord` objects:\n",
    "\n"
   ]
  },
  {
   "cell_type": "code",
   "execution_count": 18,
   "metadata": {},
   "outputs": [
    {
     "name": "stdout",
     "output_type": "stream",
     "text": [
      "Alignment length 431\n"
     ]
    }
   ],
   "source": [
    "from Bio import AlignIO\n",
    "alignment = AlignIO.read(\"SEED.ann\", \"stockholm\")\n",
    "print(\"Alignment length %i\" % alignment.get_alignment_length())"
   ]
  },
  {
   "cell_type": "code",
   "execution_count": 19,
   "metadata": {},
   "outputs": [
    {
     "name": "stdout",
     "output_type": "stream",
     "text": [
      "LIIPCLLISCLTVLVFYLPSEC-GEKITLCISVLLSLTVFLLLITEIIP-STSLVIPLIGEYLLFTMIFVTLSIVITVFVLNVHH--RSPST-HNMPNWVRVALLGRVPRWLMMNRPLPPMELHGSPDLKLS---------------------------------------------------------------PSYHWLETNMDAGEREETEEEE-----------------EEEDENICVCAG---------------------------------------------------------------LPDSSMGVLYGHGGLHLRAMEPETKTPSQASE---------------------ILLSP--QIQKALEGVHYIA------DRLRSEDADSSVKEDWKYVAMVVDRIFLWLFIIVCFLGTIGLF - ACHA2_RAT/249-502\n",
      "LIIPCLLISCLTVLVFYLPSDC-GEKITLCISVLLSLTVFLLLITEIIP-STSLVIPLIGEYLLFTMIFVTLSIIITVFVLNVHH--RSPST-HTMPHWVRSFFLGFIPRWLFMKRPPLLLPAEGTT----------------------------------GQYDPP----------------------------GTRLSTSRCWLETDVDDKWEEE-----------------EEEEEEEEEEEE-------------------------------------------------E-------------EKAYPSRVPSGGSQGTQCHYSCERQAGKASGGPAPQVPLKGEEVGSDQG----LTLSP--SILRALEGVQYIA------DHLRAEDADFSVKEDWKYVAMVIDRIFLWMFIIVCLLGTVGLF - ACHA2_CHICK/247-519\n",
      "LIIPCLLISCLTVLVFYLPSEC-GEKITLCISVLLSLTVFLLLITEIIP-STSLVIPLIGEYLLFTMIFVTLSIIITVFVLNVHH--RSPRT-HTMPDWVRRVFLDIVPRLLFMKRPSTVKDNCKKLIESMHKLTNSPRLWSETDMEPNFTTSSSPSPQSNEPSPTS----------------------------SFCAHLEEPAKPMCKSPSGQYSMLHP-------------EPPQVTCSSPKPSCHPLSDTQTTSISKGRSLSVQQMYSPNKTEEGSIRCRSRSIQYCYLQEDSSQTNGHSSASPASQRCHLNEEQPQHKPHQCKCKCRKGEAAGTPTQGSKSHSNKGEHL--------VLMSP--ALKLAVEGVHYIA------DHLRAEDADFSVKEDWKYVAMVIDRIFLWMFIIVCLLGTVGLF - ACHA4_CHICK/245-613\n",
      "LIIPCLLISCLTVLVFYLPSEC-GEKVTLCISVLLSLTVFLLLITEIIPSPTSLVIPLIGEYLLFTMIFVTLSIVITVFVLNVHH--RSPRT-HTMPAWVRRVFLDIVPRLLFMKRPSVVKDNCRRLIESMHKMANAPRFWPEPVGEPGILSDICNQGLSPAPTFCNPTDTAVETQPTCRSPPLEVPDLKTSEVEKASPCPSPGSCPPPKSSSGAPMLIKARSLSVQHVPSSQEAAEDGIRCRSRSIQYCVSQDG----------------------------------------AASLADSKPTSSPTSLKARPSQLPVSDQASPCKCTCKEPSPVSPVTVLKAGGTKAPPQH--------LPLSP--ALTRAVEGVQYIA------DHLKAEDTDFSVKEDWKYVAMVIDRIFLWMFIIVCLLGTVGLF - ACHA4_RAT/252-622\n",
      "LIIPCLLISFLTILVFYLPSDC-GEKVTLCISVLLSLTVFLLVITETIP-STSLVIPLIGEYLLFTMIFVTLSIVITVFVLNVHY--RTPMT-HTMPSWVRTVFLRALPRVMLMRRPIDLSESSGKGG---------------------------------GEIAGS----------------------------SGTGGGRGAEGKKMKSSASQQG-----------------AMNSLEFGEGKA-------------------------------------------------A-------------LEGKKGGCPCHPIKEAIEGDCGKVSRQLTPQAINTVVTF--------------SVVSP--EIKQAIESVKYIA------ENMRSRNKAKEVEDDWKYVAMVIDRIFLWVFVLVCVLGTLGLF - ACHA3_CARAU/240-503\n",
      "MIIPCLLISFLTVLVFYLPSDC-GEKVTLCISVLLSLTVFLLVITETIP-STSLVIPLIGEYLLFTMIFVTLSIVITVFVLNVHY--RTPKT-HTMPVWVRTIFLNLLPRIMFMTRPTSDEENNQK-------------------------------------------------------------------------------------PKPFYT-----------------SEFSNLNCFNSS-------------------------------------------------E-------------IKCCKDGFVCQDMACSCCQYQRMKFSDFSGNLTRSSSSESVDPLFSF------SVLSP--EMRDAIESVKYIA------ENMKMQNEAKEIQDDWKYVAMVIDRIFLWVFILVCILGTAGLF - ACHA3_CHICK/239-486\n",
      "VVIPCLLFSFLTGLVFYLPTDS-GEKITLSVSVLLSLVVFLLVIVELIP-STSSAVPLIGKYMLFTMVFVIASIVITVIVINTHH--RSPST-HIMPQWLKKIFIETIPRVMFFS----------------------------------------------------------------------------------------------------TM-----------------KRPAQDQHKKKI-------------------------------------------------F-------------TEDIDISDISGKLGPTAVKYQSP------------------------------ILKNP--DVKSAIEGAKYVA------ETMKSDQESTKASEEWKFVAMVLDHLLLAVFMIVCIIGTLAIF - ACHAA_XENLA/238-446\n",
      "LIIPCLGLSFLTVLVFYLPSDE-GEKLSLSTSVLVSLTVFLLVIEEIIP-SSSKVIPLIGEYLLFIMIFVTLSIIVTVFVINVHH--RSSSTYHPMAPWVKRLFLQRLPRWLCMKDP----------------------------------------------------------------------------------------------------------------------MDRFSFPDGKE---------------------------------------------------------------SDTAVRGKVSGKRKQTPASDGE-------------------------------RVLVA--FLEKASESIRYIS------RHVKKEHFISQVVQDWKFVAQVLDRIFLWLFLIASVLGSILIF - ACHB3_RAT/246-452\n",
      "LIIPCLGLSFLTVLVFYLPSDE-GEKVSLSTSVLVSLTVFLLVIEEIIP-SSSKVIPLIGEYLLFIMIFVTLSIIVTIFVINVHH--RSSATYHPMSPWVRSLFLQRLPHLLCMRG----------------------------------------------------------------------------------------------------------------------NTDRYHYPELEP-------------------------------------------------H-------------SPDLKPRNKKGPPGPEGEG----------------------------------QALIN--LLEQATNSVRYIS------RHIKKEHFIREVVQDWKFVAQVLDRIFLWTFLTVSVLGTILIF - ACHN2_CARAU/242-446\n",
      "LIIPCVGISYLSVLVFYLPADS-GEKIALCISILLSQTMFFLLISEIIP-STSLALPLLGKYLLFTMLLVGLSVVITIIILNIHY--RKPST-HKMRPWIRSFFIKRLPKLLLMRVPKDLLRDLAAN----------------------------------KINYGL----------------------------KFSKTKFGQALMDEMQMNSGGS-----------------SPDSLRRMQGRV-------------------------------------------------GAGGCNGMHVTTATNRFSGLVGALGGGLSTLSGYNGLPSVLSGLDDSLSDVAA--------------RKKYPF-ELEKAIHNVMFIQ------HHMQRQDEFNAEDQDWGFVAMVMDRLFLWLFMIASLVGTFVIL - B4HH26_DROSE/268-544\n",
      "LIVPCVGISYLSVLVFYLPADS-GEKIALCISILLSQTMFFLLISEIIP-STSLALPLLGKYLLFTMVLVGLSVVITIMVLNVHY--RKPST-HKMAPWVRKVFIRRLPKLLLMRVPEQLLADLASK----------------------------------RLLRHA----------------------------HNSKLSAAAAAAVAAAASSSAA-----------------SSPDSLRHHHLH-------------------------------------------------Q-------------HQHQHHLQLHHLQRPGGCNGLHSATNRFGGSAGAFGGLPSVVGLDGSLSDVATRKKYP-FELEKAIHNVLFIQ------NHMQRQDEFDAEDQDWGFVAMVLDRLFLWIFTIASIVGTFAIL - ACH1_SCHGR/249-526\n",
      "LIVPCVALTFLTVLVFYLPSDS-GEKVTLCISILVSLTVFFLLLAEIIP-PTSLAVPLLGKYLLFTMILVSLSVWTTVCVLNIHF--RSPST-HNMSPLVRKLFLHFMPKLMMMRRTQYTLPDYDD-------------------------------------------------------------------------------------STPSNG-----------------YTNEIDVRDSIS-------------------------------------------------D-------------FPSEFKDSQDGAYDNGMQNSVDSDNVIP-------------------------RNLTP--EVLQALRAVRFIA------QHIKDADKDNEIVEDWKFVSMVLDRFFLWLFTLSCVFGTLAII - B4QT71_DROSI/252-480\n",
      "LIIPCVGISFLSVLVFYLPSDS-GEKISLCISILLSLTVFFLLLAEIIP-PTSLTVPLLGKYLLFTMMLVTLSVVVTIAVLNVNF--RSPVT-HRMAPWVQRLFIQILPKLLCIERPKKEEPEEDQPPEVLTDVYHLPPDVD-----------------------------------------------------KFVNYDSKRFSGDYGIPALPAS-----------------HRFDLAAAGGIS-------------------------------------------------AHCFAEPPLPSSLPLPGADDDLFSPSGLNGDISPGCCPAAAAAAAADLSPTFE--------------KPYAR--EMEKTIEGSRFIA------QHVKNKDKFESVEEDWKYVAMVLDRMFLWIFAIACVVGTALII - ACH1_DROME/247-531\n",
      "LLIPCVLISALALLVFLLPADS-GEKISLGITVLLSLTVFMLLVAEIMP-ATSDSVPLIAQYFASTMIIVGLSVVVTVIVLQYHH--HDPDG-GKMPKWTRVILLNWCAWFLRMKRPGEDKVRPAC-----------------------------------QHKQRR----------------------------CSLSSMEMNTVS----GQQCSN-----------------GNMLYIGFRGLD-------------------------------------------------G-------------VHCTPTTDSGVICGRMTCSPTE--EENLLHSGHP-------------------SEGDP--DLAKILEEVRYIA------NRFRDQDEEEAICNEWKFAASVVDRLCLMAFSVFTIICTIGIL - ACHA7_CHICK/237-487\n",
      "LLLPSIFLMVVDIVGFCLPPDS-GERVSFKITLLLGYSVFLIIVSDTLP--ATIGTPLIGVYFVVCMALLVISLAETIFIVRLVH--KQDLQ-RPVPDWLRHLVLDRIAWILCLGEQPMAHRPPA------------------------------------------------------------------------------------------TF-----------------QANKTDDCSGSD-------------------------------------------------L-------------LPAMGNHCSHVGGPQDLEKTPR--GRGSPLPPP--------------------REASL--AVRGLLQELSSIR------HFLEKRDEMREVARDWLRVGYVLDRLLFRIYLLAVLAYSITLV - 5HT3A_MOUSE/253-478\n",
      "IYTPCIMTVILSQVSFWINKESVPARTVFGITTVLTMTTLSISARHSLP-KVSYATAMDW-FIAVCFAFVFSALIEFAAVNYFTN-LQSQKA-------ERQAQTAATPPVAK--------------------------------------------------------------------------------------------------SKASES-----------------LQAEIVVHSDSK-------------------------------------------------Y-----------------------HLKKRISSLTLP-------------------------------IVPSS--EASKALSRT----------PILKSTPVSPPLLLPATGGTSKIDQYSRILFPVAFAGFNLVYW - GBRA6_MOUSE/247-437\n",
      "TYIPCIMTVILSQVSFWINKESVPARTVFGITTVLTMTTLSISARHSLP-KVSYATAMDW-FIAVCFAFVFSALIEFAAVNYFTNVQMEKAK-RKTSKAPQEISAAPVLREKHPETPLQNTNANLSMRKRANALV--------------------------HSESDV----------------------------GSRTDVGNHSSKSSTVVQGSSE-----------------ATPQSYLASSPN-------------------------------------------------P-------------FSRANAAETISAARAIPSALPSTPSRTGYVPRQVPVGSASTQ-----------HVFGS--RLQRIKTTVNSIGT-----SGKLSATTTPSAPPPSGSGTSKIDKYARILFPVTFGAFNMVYW - GBRA4_BOVIN/263-539\n",
      "TYIPCILTVVLSWVSFWINKDAVPARTSLGITTVLTMTTLSTIARKSLP-KVSYVTAMDL-FVSVCFIFVFAALMEYGTLHYFTS--------NNKGKTTRDRKLK--------------------------------------------------------------------------------------------------------------------------------SKTSVSPGLHAG---------------------------------------------------------------STLIPMNNISMPQGEDDYGYQCLEGKDC-------------------------ATFFC--CFEDCRT------------GSWREGRIHIRIAK--------IDSYSRIFFPTAFALFNLVYW - GBRG1_RAT/277-459\n",
      "TYIPCTLIVVLSWVSFWINKDAVPARTSLGITTVLTMTTLSTIARKSLP-KVSYVTAMDL-FVSVCFIFVFSALVEYGTLHYFVS-NRKPS--KDKDKKKKNPLLRMFS-----------------------------------------------------------------------------------------------------------------------------FKAPTIDIRPRS---------------------------------------------------------------ATIQMNNATHLQERDEEYGYECLDGKDC-------------------------ASFFC--CFEDCRT------------GAWRHGRIHIRIAK--------MDSYARIFFPTAFCLFNLVYW - GBRG2_BOVIN/279-469\n",
      "TYIPCILTVVLSWVSFWIKKDATPARTTLGITTVLTMTTLSTIARKSLP-RVSYVTAMDL-FVTVCFLFVFAALMEYATLNYYSS-CRKPTIRKKKTSLLHPDSTRWIPDRISLQAP---------------------------------------------------------------------------------------------------------------------SNYSLLDMRPPP-------------------------------------------------P-------------VMITLNNSMYWQEFEDTCVYECLDGKDC-------------------------QSFFC--CYEECKS------------GSWRRGRIHIDVSE--------LDSYSRVFFPTSFLLFNLVYW - GBRG3_MOUSE/260-461\n",
      "TYIPCILTVVLSWVSFWIKRDSTPARTSLGITTVLTMTTLSTISRKHLP-RVSYITAMDL-FVSVCFIFVFAALMEYATLNYLVG-NKKPLEHSSRKARLPPAGAQVMPSFTAIN-----------------------------------------------------------------------------------------------------------------------ININNIMHWPPE------------------------------------------------------------------------IEEDEDDDPGSPCLEGKEC-------------------------ERFFC--CIEDCQT------------GMWREGRVRIHISR--------LDSYSRVFFPTAFLLFNIVYW - GBRG4_CHICK/262-451\n",
      "TYFPATLMVMLSWVSFWIDRRAVPARVSLGITTVLTMTTIITGVNASMP-RVSYVKAVDI-YLWVSFVFVFLSVLEYAAVNYL----------TTVQERKERKLREKFPCMCGM------------------------------------------------------------------------------------------------------------------------LHSKTMMLDGS----------------------------------------------------------------YSESEANSLAGYPRSHILTEEERQDKIVVH-----------------------LGLSG--EANAARK------------KGLLKGQTGFRIFQN----THAIDKYSRLIFPASYIFFNLIYW - GBRR2_HUMAN/268-461\n",
      "TYFPATLMVMLSWVSFWIDRRAVPARVPLGITTVLTMSTIITGVNASMP-RVSYIKAVDI-YLWVSFVFVFLSVLEYAAVNYL----------TTVQERKEQKLREKLPCTSGLPPP---------------------------------------------------------------------------------------------------------------------RTAMLDGNYSDG-------------------------------------------------E-------------VNDLDNYMPENGEKPDRMMVQLTLAS---------------------------ERSSP---------------------QRKSQRSSYVSMRID----THAIDKYSRIIFPAAYILFNLIYW - GBRR1_HUMAN/288-475\n",
      "TYLPSILIVMLSWVSFWINHEATSARVALGITTVLTMTTISNGVRSSLP-RISYVKAIDI-YLVMCFVFVFAALLEYAAVNYTYWGARAKRK-AKRLRERATSVRKRVDDGDQMNNTNMDTVELKEVHMVPTS------------------------------------------------------------------------------VGVTNS-----------------QSFNLDLDDGSG-------------------------------------------------D---------------DTGFRVVPPIPRSFTHSHATTHGYIPTNVVRRRSS----------------SHVPP--RRRRLL-------------SHFRQKAKSIKVKIPRVQDVNTIDKYARLMFPLLFIIFNTSYW - GBRB_LYMST/256-493\n",
      "TYMPSILITILSWVSFWINYDASAARVALGITTVLTMTTINTHLRETLP-KIPYVKAIDM-YLMGCFVFVFLALLEYAFVNYIFF-GKGPQR-QKKLAEKSAKANNDRSRFEGSRVDTH-------------------------------------------------------------------------------------------------------------------GNILLTSLEIHN-------------------------------------------------E-------------VASNEVTTSVTDARNSTISFDNSGIQYRKQSSH--------------------RESLG--RRSSDRTGSHSKR------GHLRRRSSQLKIKIPDLTDVNAIDRWSRMVFPFTFSLFNLIYW - GBRB3_CHICK/250-471\n",
      "TYMPSILITILSWVSFWINYDASAARVALGVTTVLTMTTINTHLRETLP-KIPYVKAIDV-YLMGCFVFVFLALLEYAFVNYIFF-GRGPRQ-QKKQSERISKANNERHRYEEKRVR----------------------------------------------------------------------------------------------EQVDPY-----------------GNILLSTLDMNN-------------------------------------------------E-------------LLATDMMSSVGDSRNSVMSFEGSGIQFRKPLASRDG-----------------FGHHP--TLDRHVPLTHHAAARNRANCRLRRRSSKLKLKIPDLTDVSTIDKWSRIIFPITFGFFNLVYW - GBRB4_CHICK/249-483\n",
      "TYMPSTLITILSWVSFWINYDASAARVALGITTVLTMTTISTHLRETLP-KIPYVKAIDI-YLMGCFVFVFLALLEYAFVNYIFF-GKGP---QKKGAGKQDQSANEKNKLEMNKVQVDAH-----------------------------------------------------------------------------------------------------------------GNILLSTLEIRN-------------------------------------------------E-------------TSGSEVLTGVGDPKTTMYSYDSASIQYRKPMSSR-------------------EGYGR--ALDRHGAHSK---------GRIRRRASQLKVKIPDLTDVNSIDKWSRMFFPITFSLFNVVYW - GBRB1_BOVIN/250-469\n",
      "VYAPTLLIVVLSWLSFWINPDASAARVPLGIFSVLSLASECTTLAAELP-KVSYVKALDV-WLIACLLFGFASLVEYAVVQVMLN--------NPKRVEAEKARIAKAEQADGKGGNAAKK------------------------------------------------------------------------------------------NTVNGT-----------------GTPVHISTLQVG-------------------------------------------------E-------------TRCKKVCTSKSDLRSNDFSIVGSLPRDFE------------------------LSNYD--CYGKPIEVNNGLG------KPQAKNKKPPPAKPVIPTAAKRIDLYARALFPFCFLFFNVIYW - GLRB_RAT/273-492\n",
      "MYIPSLLIVILSWISFWINMDAAPARVGLGITTVLTMTTQSSGSRASLP-KVSYVKAIDI-WMAVCLLFVFSALLEYAAVNFVSR-----QH-KELLRFRRKRRHHKSPMLNLFQED----------------------------------------------------------------------------------------------EAGEGR-----------------FNFSAYGMGPAC-------------------------------------------------L-------------QAKDGISVKGANNSNTTNPPPA-------------------------------PSKSP------------------------------EEMRKLFIQRAKKIDKISRIGFPMAFLIFNMFYW - G3REP2_GORGO/255-443\n",
      "IYIPSGLIVIISWVSFWLNRNATPARVALGVTTVLTMTTLMSSTNAALP-KISYVKSIDV-YLGTCFVMVFASLLEYATVGYMAK--RIQMR-KQRFMAIQKIAEQKKQQLDGANQQQANPNPNANVGGPGGVGVGPGGPGGPGGGVNVGVGMGMGPEHGHGHGHHA----------------------------HSHGHPHAPKQTVSNRPIGFSNIQQNVGTRGCSIVGPLFQEVRFKVHDPKA-------------------------------------------------H-------------SKGGTLENTVNGGRGGPQSHGPGPGQGGGPPGGGGGGG---------------GGGGP--PEGGGDPEAAVPA------HLLHPGKVKKDINKLLGITPSDIDKYSRIVFPVCFVCFNLMYW - GBRB_DROME/274-586\n",
      "SYMPSVLLVAMSWVSFWISQAAVPARVSLGITTVLTMTTLMVSARSSLP-RASAIKALDV-YFWICYVFVFAALVEYAFAHFNAD-YRKKRK-AKVKVTKPRAEMDVRNAIVLFSL-----------------------------------------------------------------------------------------------SAAGVS-----------------QELAISRRQGR----------------------------------------------------------------VPGNLMGSYRSVEVEAKKEGGS-------------------------------RPGGP---------------------GGIRSRLKPIDADT--------IDIYARAVFPAAFAAVNIIYW - GBRD_MOUSE/254-444\n",
      "TYLPCIMTVILSQVSFWLNRESVPARTVFGVTTVLTMTTLSISARNSLP-KVAYATAMDW-FMAVCYAFVFSALIEFATVNYFT---------KRSWAWEGK----KVPEALEMKKKTPAVP-----------------------------------------------------------------------------------------TKKTST-----------------TFNIVGTTYPIN-------------------------------------------------L-------------AKDTEFSAISKGAAPSTSSTPT-------------------------------IIASP---KTTCVQ------------DIPTETKTYNSVSK--------VDKISRIIFPVLFAIFNLVYW - GBRA3_BOVIN/282-475\n",
      "TYLPCIMTVILSQVSFWLNRESVPARTVFGVTTVLTMTTLSISARNSLP-KVAYATAMDW-FIAVCYAFVFSALIEFATVNYFT---------KRGYAWDGKSVVPEKPK----------------------------------------------------------------------------------------------------------------------------KVKDPLIKKNNT-------------------------------------------------Y-------------APTATSYTPNLARGDPGLATIAKS-----------------------------ATIEP---------------------KEVKPETKPPEPKKTFNSVSK-IDRLSRIAFPLLFGIFNLVYW - A0A452F9D8_CAPHI/257-439\n",
      "TYLPCIMTVILSQVSFWLNRESVPARTVFGVTTVLTMTTLSISARNSLP-KVAYATAMDW-FIAVCYAFVFSALIEFATVNYFT---------KRGWAWDGKKALEAAKIK---------------------------------------------------------------------------------------------------------------------------KKREVILNKSTN-------------------------------------------------A-------------FTTGKMSHPPNIPKEQTPAGTS-------------------------------NTTSV--SVKPSEE------------KTSESKKTYNSISK--------IDKMSRIVFPVLFGTFNLVYW - A0A2I3GX20_NOMLE/264-445\n",
      "FITPCVLISFLASLAFYLPAES-GEKMSTAISVLLAQAVFLLLTSQRLP-ETALAVPLIGKYLMFIMSLVTGVIVNCGIVLNFHF--RTPST-HVLSTRVKQIFLEKLPRILHMSRADESEQPDWQN----------------------------------DLKLRR----------------------------SS--------------SVGYIS-----------------KAQEYFNIKSRS-------------------------------------------------E-------------LMFEKQSERHGLVPRVTPRIGFGNNNENIAAS---------------------DQLHD--EIKSGIDSTNYIV------KQIKEKNAYDEEVGNWNLVGQTIDRLSMFIITPVMVLGTIFIF - ACHD_TETCF/253-494\n",
      "ILAPCVLIALMANLVFYLPADS-GEKMTLAISVLLAQSVFLLLISQRLP-ETSFAIPLISKYLMFIMVLVTIVVVSCVIVLNLHF--RTPST-HAISERMKEIFLNKLPRILHMSQPAEPEPEPWSGVLLRRSS-----------------------------------------------------------------------------SVGYIV-----------------KAEEYYSVKSRS-------------------------------------------------E-------------LMFEKQSERHGLTSRATPARVNPLNANNSQ-----------------------DQLYG--EIKPAIDGANFIV------KHIRDKNDYNEEKDNWYRIARTVDRLCLFLVTPVMIIGTLWIF - B7ZQ13_XENLA/255-493\n",
      "ILVPCVLISFMINLVFYLPADC-GEKTSMAISVLLAQSVFLLLISKRLP-ATSMAIPLIGKFLLFGMVLVTMVVVICVIVLNIHF--RTPST-HVLSEPVKKLFLETLPEILHMSRPAEDGPSPGTLIRRSS-------------------------------------------------------------------------------SLGYIS-----------------KAEEYFSLKSRS-------------------------------------------------D-------------LMFEKQSERHGLARRLTTARRPPAGSEQAQ-----------------------QELFS--ELKPAVDGANFIV------NHMKDQNNYNEEKDCWNRVARTVDRLCLFVVTPIMVVGTAWIF - ACHD_BOVIN/252-488\n",
      "IVTPCVLIAFMAILVFYLPADS-GEKMTLVISVLLAQSVFLLLVSQRLP-ATSHAIPLIGKYLLFIMLLVTAVVVICVVVLNFHF--RTPST-HVMSDWVRGVFLEILPRLLHMSHPAESPAGAPCIRRCS--------------------------------------------------------------------------------SAGYIA-----------------KAEEYYSVKSRS-------------------------------------------------E-------------LMFEKQSERHGLASRVTPARFAPAATSE-------------------------EQLYD--HLKPTLDEANFIV------KHMREKNSYNEEKDNWNRVARTLDRLCLFLITPMLVVGTLWIF - ACHD_CHICK/252-485\n",
      "IIVPCVLISSMAVLVYFLPAKAGGQKCTVSINVLLAQTVFLFLIAQKVP-ETSQAVPLIGKYLTFLMVVTVVIVVNAVIVLNVSL--RTPNT-HSMSQRVRQVWLHLLPRYLGMHMPEEAPGPPQATRRRS--------------------------------------------------------------------------------SLGLMV-----------------KADEYMLWKART-------------------------------------------------E-------------LLFEKQKERDGLMKTVLEKIGRGLESNCAQDFCQSL-----------------EEASP--EIRACVEACNHIA------NATREQNDFSSENEEWILVGRVIDRVCFFIMASLFVCGTIGIF - ACHG_CHICK/249-491\n",
      "IIAPCVLISSVAILIYFLPAKAGGQKCTVAINVLLAQTVFLFLVAKKVP-ETSQAVPLISKYLTFLLVVTILIVVNAVVVLNVSL--RSPHT-HSMARGVRKVFLRLLPQLLRMHVRPLAPVAVQ------------------------------------DAHPRL----------------------------QN-------GSS----SGWPIT-----------------AGEEVALCLPRS-------------------------------------------------E-------------LLF-RQRQRNGLVRAALEKLEK--GPESGQSPEWCGSL---------------KQAAP--AIQACVEACNLIA------RARHQQTHFDSGNKEWFLVGRVLDRVCFLAMLSLFVCGTAGIF - ACHG_BOVIN/248-494\n",
      "IIVPCVLISFVSILVYFLPAKAGGQKCTVSINILLAQTVFLFLVAQKIP-ETSTSVPLIVKYLTFLMVVTITIVANAVIVLNISL--RTPNT-HSMSSTVRELCLRTVPRLLRMHLRPTDAAPPLAPLMRRSS------------------------------------------------------------------------------SLGLMM-----------------KADEYMLRKPRS-------------------------------------------------Q-------------LMFEKQKERDGLMKVVLDKIGRGMENNTSDDLVHSL-----------------NHAAP--EIRTCVEACCHIA------SATREKNDFKSENEEWILMGRVIDRVCFLVMCFVFFLGTIGTF - ACHG_XENLA/242-486\n",
      "IIVPCVLISGLVLLAYFLPAQAGGQKCTVSINVLLAQTVFLFLIAQKTP-ETSLSVPLLGRYLIFVMVVATLIVMNCVIVLNVSL--RTPTT-HAMSPRLRYVLLELLPQLLGSGAPPEIPRA--------------------------------------ASPPRR----------------------------AS--------------SLGLLL-----------------RAEELILKKPRS-------------------------------------------------E-------------LVFEQQRHRHGTWTATLCQNLG--------------------------------AAAP--EIRCCVDAVNFVA------SSTRDQEATGEEVSDWVRMGKALDSICFWAALVLFLVGSSLIF - ACHE_BOVIN/247-474\n",
      "IIAPCVLISSLVVLVYFLPAQAGGQKCTLSISVLLAQTIFLFLIAQKVP-ETSLNVPLIGKYLIFVMFVSMLIVMNCVIVLNVSL--RTPNT-HSLSEKIKHLFLGFLPKYLGMQLEPSEETPEKPQPRRRS-------------------------------------------------------------------------------SFGIMI-----------------KAEEYILKKPRS-------------------------------------------------E-------------LMFEEQKDRHGLKRVNKMTSDIDIGTTVDLYKDL-------------------ANFAP--EIKSCVEACNFIA------KSTKEQNDSGSENENWVLIGKVIDKACFWIALLLFSIGTLAIF - ACHG_TETCF/243-484\n",
      "TIIPCILISILAILVFYLPPDA-GEKMSLSISALLAVTVFLLLLADKVP-ETSLSVPIIIRYLMFIMILVAFSVILSVVVLNLHH--RSPNT-HTMPNWIRQIFIETLPPFLWIQRPVTTPSPDSK-------------------------------------------------------------------------------------PTIISR-----------------ANDEYFIRKPAG-------------------------------------------------D-------------FVCPVDNARVAVQPERLFSEMKWHLNGLTQP----------------------VTLPQ--DLKEAVEAIKYIA------EQLESASEFDDLKKDWQYVAMVADRLFLYVFFVICSIGTFSIF - ACHB_TETCF/248-479\n",
      "VIAPCILITLLAIFVFYLPPDA-GEKMGLSIFALLTLTVFLLLLADKVP-ETSLSVPIIIKYLMFTMVLVTFSVILSVVVLNLHH--RSPHT-HQMPLWVRQIFIHKLPLYLGLKRPKPERDQMQEP---------------------------------------------------------------------------PSIAPRDSPGSGWGR-----------------GTDEYFIRKPPN-------------------------------------------------D-------------FLFPKPNRFQPELSAPDLRRFIDGPNRA-------------------------VGLPP--ELREVVSSISYIA------RQLQEQEDHDVLKEDWQFVAMVVDRLFLWTFIIFTSVGTLVIF - ACHB_BOVIN/253-491\n",
      "LILPTVLISFLCVLVFYLPAEA-GEKVTLGISILLSLVVFLLLVSKILP-PTSLVLPLIAKYLLFTFIMNTVSILVTVIIINWNF--RGPRT-HRMPMYIRSIFLHYLPAFLFMKRPRKTRLRWMMEMP--------------------------------GMSMPA----------------------------HPHPSYGSPAELPKHISAIGGK-----------------QSKMEVMELSDL-------------------------------------------------H-------------HPNCKINRKVNSGGELGLGDGCRRESESSDS----------------------ILLSP--EASKATEAVEFIA------EHLRNEDLYIQTREDWKYVAMVIDRLQLYIFFIVTTAGTVGIL - ACH3_DROME/243-499\n",
      "LIIPCILITSLAILVFYLPSDC-GEKMTLCISVLLALTVFLLLISKIVP-PTSLDVPLVGKYLMFTMVLVTFSIVTSVCVLNVHH--RSPTT-HTMPPWVRTLFLRKLPALLFMKQPQQNCARQRLR------------------------------------------------------------------------------------QRRQTQ-----------------ERAAAATLFLRA-------------------------------------------------G-------------ARACACYANPGAAKAEGLNGYRERQGQGPDPP---------------------APCGC--GLEEAVEGVRFIA------DHMRSEDDDQSVSEDWKYVAMVIDRLFLWIFVFVCVFGTVGMF - ACHB2_CHICK/234-467\n",
      "LIIPCVLITSLAILVFYLPSDC-GEKMTLCISVLLALTVFLLLISKIVP-PTSLDVPLIGKYLMFTMVLVTFSIVTSVCVLNVHH--RSPST-HTMPPWVKLVFLERLPAYLFMKRPENNSPRQK--------------------------------------------------------------------------------------PANCKK-----------------TRAENLCMDPAD-------------------------------------------------F-------------YKNSTYFVNTASAKKYDMKITDTLDNVSSHQDFRLRTG---------------TKFSP--EVQEAIDGVSFIA------EHMKSDDNDQSVIEDWKYVAMVVDRLFLWIFVLVCVLGTVGLF - ACHB4_CHICK/219-456\n",
      "LIIPCVLITSLAILVFYLPSDC-GEKMTLCISVLLALTFFLLLISKIVP-PTSLDIPLIGKYLLFTMVLVTFSIVTTVCVLNVHH--RSPST-HTMASWVKECFLHKLPTFLFMKRPGLEVSLVRVPHPSQLH------------------------------------------------------------------------------LATADT-----------------AATSALGPTSPS-------------------------------------------------N--------------LYGSSMYFVNPVPAAPKSAVSSHTAGLPRDARLRSS----------------GRFRE--DLQEALEGVSFIA------QHLESDDRDQSVIEDWKFVAMVVDRLFLWVFVFVCILGTMGLF - ACHB4_RAT/238-481\n",
      "LIIPCVLITSLAILVFYLPSDC-GEKVTLCMSVLLALTVFLLLISKIVP-PTSLAVPLIGKYLMFTMVLVTFSIVTSVCVLNVHH--RSPST-HYMPEWVKCVFLHKLPAFLLMRRPGRSNVRER--------------------------------------------------------------------------------------FRRKHQ-----------------RKSFSSHQDGDS-------------------------------------------------F-------------FLTDDPGRVCGAWRVGDLPEGSEFRQRVK------------------------VRHDQ--DVDEAIDGVRFIA------EHMKIEDDDEGIIEDWKYVAMVIDRLFLWIFILVCVVGTLGLF - ACHB2_CARAU/211-439\n"
     ]
    }
   ],
   "source": [
    "for record in alignment:\n",
    "    print(\"%s - %s\" % (record.seq, record.id))"
   ]
  },
  {
   "cell_type": "markdown",
   "metadata": {},
   "source": [
    "\n",
    "You could also use the alignment object’s `format` method to show it in\n",
    "a particular file format – see Section \\[sec:alignment-format-method\\]\n",
    "for details.\n",
    "\n",
    "Did you notice in the raw file above that several of the sequences\n",
    "include database cross-references to the PDB and the associated known\n",
    "secondary structure? Try this:\n",
    "\n"
   ]
  },
  {
   "cell_type": "code",
   "execution_count": 20,
   "metadata": {},
   "outputs": [
    {
     "name": "stdout",
     "output_type": "stream",
     "text": [
      "5HT3A_MOUSE/253-478 ['PDB; 6Y59 B; 227-453;', 'PDB; 6HIS D; 227-453;', 'PDB; 6Y5B A; 227-453;', 'PDB; 6W1Y C; 227-453;', 'PDB; 6BE1 B; 227-453;', 'PDB; 6DG8 E; 227-453;', 'PDB; 6DG7 D; 227-453;', 'PDB; 6W1J E; 227-453;', 'PDB; 6HIN E; 227-453;', 'PDB; 6W1Y E; 227-453;', 'PDB; 6Y5A E; 227-453;', 'PDB; 6HIS A; 227-453;', 'PDB; 6W1J A; 227-453;', 'PDB; 6HIN A; 227-453;', 'PDB; 6HIO E; 227-453;', 'PDB; 6Y5A B; 227-453;', 'PDB; 6HIS E; 227-453;', 'PDB; 6Y1Z D; 227-453;', 'PDB; 4PIR B; 227-453;', 'PDB; 6W1J B; 227-453;', 'PDB; 6BE1 D; 227-453;', 'PDB; 6HIN C; 227-453;', 'PDB; 6W1J C; 227-453;', 'PDB; 6DG8 A; 227-453;', 'PDB; 6Y59 A; 227-453;', 'PDB; 6Y59 E; 227-453;', 'PDB; 6W1M B; 227-453;', 'PDB; 6DG7 B; 227-453;', 'PDB; 6HIO A; 227-453;', 'PDB; 6W1Y A; 227-453;', 'PDB; 6HIO C; 227-453;', 'PDB; 6DG8 D; 227-453;', 'PDB; 6W1Y B; 227-453;', 'PDB; 6DG8 B; 227-453;', 'PDB; 6NP0 B; 227-453;', 'PDB; 6W1J D; 227-453;', 'PDB; 6W1M E; 227-453;', 'PDB; 6NP0 C; 227-453;', 'PDB; 6HIS C; 227-453;', 'PDB; 6HIQ A; 227-453;', 'PDB; 6Y5B D; 227-453;', 'PDB; 4PIR C; 227-453;', 'PDB; 6Y1Z A; 227-453;', 'PDB; 6Y5A C; 227-453;', 'PDB; 6HIQ E; 227-453;', 'PDB; 6BE1 A; 227-453;', 'PDB; 4PIR D; 227-453;', 'PDB; 6HIN D; 227-453;', 'PDB; 6DG7 A; 227-453;', 'PDB; 6Y59 C; 227-453;', 'PDB; 6BE1 E; 227-453;', 'PDB; 6NP0 A; 227-453;', 'PDB; 6Y5B C; 227-453;', 'PDB; 6DG7 E; 227-453;', 'PDB; 6Y5B B; 227-453;', 'PDB; 6Y1Z C; 227-453;', 'PDB; 6W1M D; 227-453;', 'PDB; 6W1Y D; 227-453;', 'PDB; 6DG8 C; 227-453;', 'PDB; 6Y1Z E; 227-453;', 'PDB; 4PIR A; 227-453;', 'PDB; 6HIQ C; 227-453;', 'PDB; 6W1M A; 227-453;', 'PDB; 6Y5A A; 227-453;', 'PDB; 6BE1 C; 227-453;', 'PDB; 6HIO D; 227-453;', 'PDB; 6Y5B E; 227-453;', 'PDB; 6NP0 E; 227-453;', 'PDB; 6Y59 D; 227-453;', 'PDB; 6Y5A D; 227-453;', 'PDB; 6HIO B; 227-453;', 'PDB; 6HIN B; 227-453;', 'PDB; 6W1M C; 227-453;', 'PDB; 6HIQ B; 227-453;', 'PDB; 6HIQ D; 227-453;', 'PDB; 6NP0 D; 227-453;', 'PDB; 4PIR E; 227-453;', 'PDB; 6Y1Z B; 227-453;', 'PDB; 6DG7 C; 227-453;', 'PDB; 6HIS B; 227-453;']\n",
      "GLRB_RAT/273-492 ['PDB; 2FTS P; 398-410;', 'PDB; 4PD1 C; 397-406;']\n",
      "ACHD_TETCF/253-494 ['PDB; 6UWZ B; 232-473;', 'PDB; 1EQ8 A; 1-23;', 'PDB; 1EQ8 C; 1-23;', 'PDB; 1EQ8 E; 1-23;', 'PDB; 1EQ8 B; 1-23;', 'PDB; 1EQ8 D; 1-23;', 'PDB; 1OED C; 232-473;']\n",
      "ACHG_TETCF/243-484 ['PDB; 1OED E; 226-467;', 'PDB; 6UWZ E; 226-467;']\n",
      "ACHB_TETCF/248-479 ['PDB; 1OED B; 224-455;', 'PDB; 6UWZ C; 224-455;']\n"
     ]
    }
   ],
   "source": [
    "for record in alignment:\n",
    "    if record.dbxrefs:\n",
    "        print(\"%s %s\" % (record.id, record.dbxrefs))"
   ]
  },
  {
   "cell_type": "markdown",
   "metadata": {},
   "source": [
    "\n",
    "To have a look at all the sequence annotation, try this:\n",
    "\n"
   ]
  },
  {
   "cell_type": "code",
   "execution_count": 21,
   "metadata": {},
   "outputs": [
    {
     "name": "stdout",
     "output_type": "stream",
     "text": [
      "ID: ACHA2_RAT/249-502\n",
      "Name: ACHA2_RAT\n",
      "Description: ACHA2_RAT/249-502\n",
      "Number of features: 0\n",
      "/accession=P12389.2\n",
      "/start=249\n",
      "/end=502\n",
      "Seq('LIIPCLLISCLTVLVFYLPSEC-GEKITLCISVLLSLTVFLLLITEIIP-STSL...GLF')\n",
      "ID: ACHA2_CHICK/247-519\n",
      "Name: ACHA2_CHICK\n",
      "Description: ACHA2_CHICK/247-519\n",
      "Number of features: 0\n",
      "/accession=P09480.1\n",
      "/start=247\n",
      "/end=519\n",
      "Seq('LIIPCLLISCLTVLVFYLPSDC-GEKITLCISVLLSLTVFLLLITEIIP-STSL...GLF')\n",
      "ID: ACHA4_CHICK/245-613\n",
      "Name: ACHA4_CHICK\n",
      "Description: ACHA4_CHICK/245-613\n",
      "Number of features: 0\n",
      "/accession=P09482.1\n",
      "/start=245\n",
      "/end=613\n",
      "Seq('LIIPCLLISCLTVLVFYLPSEC-GEKITLCISVLLSLTVFLLLITEIIP-STSL...GLF')\n",
      "ID: ACHA4_RAT/252-622\n",
      "Name: ACHA4_RAT\n",
      "Description: ACHA4_RAT/252-622\n",
      "Number of features: 0\n",
      "/accession=P09483.3\n",
      "/start=252\n",
      "/end=622\n",
      "Seq('LIIPCLLISCLTVLVFYLPSEC-GEKVTLCISVLLSLTVFLLLITEIIPSPTSL...GLF')\n",
      "ID: ACHA3_CARAU/240-503\n",
      "Name: ACHA3_CARAU\n",
      "Description: ACHA3_CARAU/240-503\n",
      "Number of features: 0\n",
      "/accession=P18845.1\n",
      "/start=240\n",
      "/end=503\n",
      "Seq('LIIPCLLISFLTILVFYLPSDC-GEKVTLCISVLLSLTVFLLVITETIP-STSL...GLF')\n",
      "ID: ACHA3_CHICK/239-486\n",
      "Name: ACHA3_CHICK\n",
      "Description: ACHA3_CHICK/239-486\n",
      "Number of features: 0\n",
      "/accession=P09481.2\n",
      "/start=239\n",
      "/end=486\n",
      "Seq('MIIPCLLISFLTVLVFYLPSDC-GEKVTLCISVLLSLTVFLLVITETIP-STSL...GLF')\n",
      "ID: ACHAA_XENLA/238-446\n",
      "Name: ACHAA_XENLA\n",
      "Description: ACHAA_XENLA/238-446\n",
      "Number of features: 0\n",
      "/accession=P22456.1\n",
      "/start=238\n",
      "/end=446\n",
      "Seq('VVIPCLLFSFLTGLVFYLPTDS-GEKITLSVSVLLSLVVFLLVIVELIP-STSS...AIF')\n",
      "ID: ACHB3_RAT/246-452\n",
      "Name: ACHB3_RAT\n",
      "Description: ACHB3_RAT/246-452\n",
      "Number of features: 0\n",
      "/accession=P12391.1\n",
      "/start=246\n",
      "/end=452\n",
      "Seq('LIIPCLGLSFLTVLVFYLPSDE-GEKLSLSTSVLVSLTVFLLVIEEIIP-SSSK...LIF')\n",
      "ID: ACHN2_CARAU/242-446\n",
      "Name: ACHN2_CARAU\n",
      "Description: ACHN2_CARAU/242-446\n",
      "Number of features: 0\n",
      "/accession=P13908.1\n",
      "/start=242\n",
      "/end=446\n",
      "Seq('LIIPCLGLSFLTVLVFYLPSDE-GEKVSLSTSVLVSLTVFLLVIEEIIP-SSSK...LIF')\n",
      "ID: B4HH26_DROSE/268-544\n",
      "Name: B4HH26_DROSE\n",
      "Description: B4HH26_DROSE/268-544\n",
      "Number of features: 0\n",
      "/accession=B4HH26.1\n",
      "/start=268\n",
      "/end=544\n",
      "Seq('LIIPCVGISYLSVLVFYLPADS-GEKIALCISILLSQTMFFLLISEIIP-STSL...VIL')\n",
      "ID: ACH1_SCHGR/249-526\n",
      "Name: ACH1_SCHGR\n",
      "Description: ACH1_SCHGR/249-526\n",
      "Number of features: 0\n",
      "/accession=P23414.1\n",
      "/start=249\n",
      "/end=526\n",
      "Seq('LIVPCVGISYLSVLVFYLPADS-GEKIALCISILLSQTMFFLLISEIIP-STSL...AIL')\n",
      "ID: B4QT71_DROSI/252-480\n",
      "Name: B4QT71_DROSI\n",
      "Description: B4QT71_DROSI/252-480\n",
      "Number of features: 0\n",
      "/accession=B4QT71.1\n",
      "/start=252\n",
      "/end=480\n",
      "Seq('LIVPCVALTFLTVLVFYLPSDS-GEKVTLCISILVSLTVFFLLLAEIIP-PTSL...AII')\n",
      "ID: ACH1_DROME/247-531\n",
      "Name: ACH1_DROME\n",
      "Description: ACH1_DROME/247-531\n",
      "Number of features: 0\n",
      "/accession=P09478.2\n",
      "/start=247\n",
      "/end=531\n",
      "Seq('LIIPCVGISFLSVLVFYLPSDS-GEKISLCISILLSLTVFFLLLAEIIP-PTSL...LII')\n",
      "ID: ACHA7_CHICK/237-487\n",
      "Name: ACHA7_CHICK\n",
      "Description: ACHA7_CHICK/237-487\n",
      "Number of features: 0\n",
      "/accession=P22770.1\n",
      "/start=237\n",
      "/end=487\n",
      "Seq('LLIPCVLISALALLVFLLPADS-GEKISLGITVLLSLTVFMLLVAEIMP-ATSD...GIL')\n",
      "ID: 5HT3A_MOUSE/253-478\n",
      "Name: 5HT3A_MOUSE\n",
      "Description: 5HT3A_MOUSE/253-478\n",
      "Database cross-references: PDB; 6Y59 B; 227-453;, PDB; 6HIS D; 227-453;, PDB; 6Y5B A; 227-453;, PDB; 6W1Y C; 227-453;, PDB; 6BE1 B; 227-453;, PDB; 6DG8 E; 227-453;, PDB; 6DG7 D; 227-453;, PDB; 6W1J E; 227-453;, PDB; 6HIN E; 227-453;, PDB; 6W1Y E; 227-453;, PDB; 6Y5A E; 227-453;, PDB; 6HIS A; 227-453;, PDB; 6W1J A; 227-453;, PDB; 6HIN A; 227-453;, PDB; 6HIO E; 227-453;, PDB; 6Y5A B; 227-453;, PDB; 6HIS E; 227-453;, PDB; 6Y1Z D; 227-453;, PDB; 4PIR B; 227-453;, PDB; 6W1J B; 227-453;, PDB; 6BE1 D; 227-453;, PDB; 6HIN C; 227-453;, PDB; 6W1J C; 227-453;, PDB; 6DG8 A; 227-453;, PDB; 6Y59 A; 227-453;, PDB; 6Y59 E; 227-453;, PDB; 6W1M B; 227-453;, PDB; 6DG7 B; 227-453;, PDB; 6HIO A; 227-453;, PDB; 6W1Y A; 227-453;, PDB; 6HIO C; 227-453;, PDB; 6DG8 D; 227-453;, PDB; 6W1Y B; 227-453;, PDB; 6DG8 B; 227-453;, PDB; 6NP0 B; 227-453;, PDB; 6W1J D; 227-453;, PDB; 6W1M E; 227-453;, PDB; 6NP0 C; 227-453;, PDB; 6HIS C; 227-453;, PDB; 6HIQ A; 227-453;, PDB; 6Y5B D; 227-453;, PDB; 4PIR C; 227-453;, PDB; 6Y1Z A; 227-453;, PDB; 6Y5A C; 227-453;, PDB; 6HIQ E; 227-453;, PDB; 6BE1 A; 227-453;, PDB; 4PIR D; 227-453;, PDB; 6HIN D; 227-453;, PDB; 6DG7 A; 227-453;, PDB; 6Y59 C; 227-453;, PDB; 6BE1 E; 227-453;, PDB; 6NP0 A; 227-453;, PDB; 6Y5B C; 227-453;, PDB; 6DG7 E; 227-453;, PDB; 6Y5B B; 227-453;, PDB; 6Y1Z C; 227-453;, PDB; 6W1M D; 227-453;, PDB; 6W1Y D; 227-453;, PDB; 6DG8 C; 227-453;, PDB; 6Y1Z E; 227-453;, PDB; 4PIR A; 227-453;, PDB; 6HIQ C; 227-453;, PDB; 6W1M A; 227-453;, PDB; 6Y5A A; 227-453;, PDB; 6BE1 C; 227-453;, PDB; 6HIO D; 227-453;, PDB; 6Y5B E; 227-453;, PDB; 6NP0 E; 227-453;, PDB; 6Y59 D; 227-453;, PDB; 6Y5A D; 227-453;, PDB; 6HIO B; 227-453;, PDB; 6HIN B; 227-453;, PDB; 6W1M C; 227-453;, PDB; 6HIQ B; 227-453;, PDB; 6HIQ D; 227-453;, PDB; 6NP0 D; 227-453;, PDB; 4PIR E; 227-453;, PDB; 6Y1Z B; 227-453;, PDB; 6DG7 C; 227-453;, PDB; 6HIS B; 227-453;\n",
      "Number of features: 0\n",
      "/accession=P23979.1\n",
      "/start=253\n",
      "/end=478\n",
      "Per letter annotation for: secondary_structure\n",
      "Seq('LLLPSIFLMVVDIVGFCLPPDS-GERVSFKITLLLGYSVFLIIVSDTLP--ATI...TLV')\n",
      "ID: GBRA6_MOUSE/247-437\n",
      "Name: GBRA6_MOUSE\n",
      "Description: GBRA6_MOUSE/247-437\n",
      "Number of features: 0\n",
      "/accession=P16305.3\n",
      "/start=247\n",
      "/end=437\n",
      "Seq('IYTPCIMTVILSQVSFWINKESVPARTVFGITTVLTMTTLSISARHSLP-KVSY...VYW')\n",
      "ID: GBRA4_BOVIN/263-539\n",
      "Name: GBRA4_BOVIN\n",
      "Description: GBRA4_BOVIN/263-539\n",
      "Number of features: 0\n",
      "/accession=P20237.2\n",
      "/start=263\n",
      "/end=539\n",
      "Seq('TYIPCIMTVILSQVSFWINKESVPARTVFGITTVLTMTTLSISARHSLP-KVSY...VYW')\n",
      "ID: GBRG1_RAT/277-459\n",
      "Name: GBRG1_RAT\n",
      "Description: GBRG1_RAT/277-459\n",
      "Number of features: 0\n",
      "/accession=P23574.1\n",
      "/start=277\n",
      "/end=459\n",
      "Seq('TYIPCILTVVLSWVSFWINKDAVPARTSLGITTVLTMTTLSTIARKSLP-KVSY...VYW')\n",
      "ID: GBRG2_BOVIN/279-469\n",
      "Name: GBRG2_BOVIN\n",
      "Description: GBRG2_BOVIN/279-469\n",
      "Number of features: 0\n",
      "/accession=P22300.1\n",
      "/start=279\n",
      "/end=469\n",
      "Seq('TYIPCTLIVVLSWVSFWINKDAVPARTSLGITTVLTMTTLSTIARKSLP-KVSY...VYW')\n",
      "ID: GBRG3_MOUSE/260-461\n",
      "Name: GBRG3_MOUSE\n",
      "Description: GBRG3_MOUSE/260-461\n",
      "Number of features: 0\n",
      "/accession=P27681.2\n",
      "/start=260\n",
      "/end=461\n",
      "Seq('TYIPCILTVVLSWVSFWIKKDATPARTTLGITTVLTMTTLSTIARKSLP-RVSY...VYW')\n",
      "ID: GBRG4_CHICK/262-451\n",
      "Name: GBRG4_CHICK\n",
      "Description: GBRG4_CHICK/262-451\n",
      "Number of features: 0\n",
      "/accession=P34904.1\n",
      "/start=262\n",
      "/end=451\n",
      "Seq('TYIPCILTVVLSWVSFWIKRDSTPARTSLGITTVLTMTTLSTISRKHLP-RVSY...VYW')\n",
      "ID: GBRR2_HUMAN/268-461\n",
      "Name: GBRR2_HUMAN\n",
      "Description: GBRR2_HUMAN/268-461\n",
      "Number of features: 0\n",
      "/accession=P28476.5\n",
      "/start=268\n",
      "/end=461\n",
      "Seq('TYFPATLMVMLSWVSFWIDRRAVPARVSLGITTVLTMTTIITGVNASMP-RVSY...IYW')\n",
      "ID: GBRR1_HUMAN/288-475\n",
      "Name: GBRR1_HUMAN\n",
      "Description: GBRR1_HUMAN/288-475\n",
      "Number of features: 0\n",
      "/accession=P24046.2\n",
      "/start=288\n",
      "/end=475\n",
      "Seq('TYFPATLMVMLSWVSFWIDRRAVPARVPLGITTVLTMSTIITGVNASMP-RVSY...IYW')\n",
      "ID: GBRB_LYMST/256-493\n",
      "Name: GBRB_LYMST\n",
      "Description: GBRB_LYMST/256-493\n",
      "Number of features: 0\n",
      "/accession=P26714.1\n",
      "/start=256\n",
      "/end=493\n",
      "Seq('TYLPSILIVMLSWVSFWINHEATSARVALGITTVLTMTTISNGVRSSLP-RISY...SYW')\n",
      "ID: GBRB3_CHICK/250-471\n",
      "Name: GBRB3_CHICK\n",
      "Description: GBRB3_CHICK/250-471\n",
      "Number of features: 0\n",
      "/accession=P19019.1\n",
      "/start=250\n",
      "/end=471\n",
      "Seq('TYMPSILITILSWVSFWINYDASAARVALGITTVLTMTTINTHLRETLP-KIPY...IYW')\n",
      "ID: GBRB4_CHICK/249-483\n",
      "Name: GBRB4_CHICK\n",
      "Description: GBRB4_CHICK/249-483\n",
      "Number of features: 0\n",
      "/accession=P24045.1\n",
      "/start=249\n",
      "/end=483\n",
      "Seq('TYMPSILITILSWVSFWINYDASAARVALGVTTVLTMTTINTHLRETLP-KIPY...VYW')\n",
      "ID: GBRB1_BOVIN/250-469\n",
      "Name: GBRB1_BOVIN\n",
      "Description: GBRB1_BOVIN/250-469\n",
      "Number of features: 0\n",
      "/accession=P08220.1\n",
      "/start=250\n",
      "/end=469\n",
      "Seq('TYMPSTLITILSWVSFWINYDASAARVALGITTVLTMTTISTHLRETLP-KIPY...VYW')\n",
      "ID: GLRB_RAT/273-492\n",
      "Name: GLRB_RAT\n",
      "Description: GLRB_RAT/273-492\n",
      "Database cross-references: PDB; 2FTS P; 398-410;, PDB; 4PD1 C; 397-406;\n",
      "Number of features: 0\n",
      "/accession=P20781.1\n",
      "/start=273\n",
      "/end=492\n",
      "Per letter annotation for: secondary_structure\n",
      "Seq('VYAPTLLIVVLSWLSFWINPDASAARVPLGIFSVLSLASECTTLAAELP-KVSY...IYW')\n",
      "ID: G3REP2_GORGO/255-443\n",
      "Name: G3REP2_GORGO\n",
      "Description: G3REP2_GORGO/255-443\n",
      "Number of features: 0\n",
      "/accession=G3REP2.1\n",
      "/start=255\n",
      "/end=443\n",
      "Seq('MYIPSLLIVILSWISFWINMDAAPARVGLGITTVLTMTTQSSGSRASLP-KVSY...FYW')\n",
      "ID: GBRB_DROME/274-586\n",
      "Name: GBRB_DROME\n",
      "Description: GBRB_DROME/274-586\n",
      "Number of features: 0\n",
      "/accession=P25123.4\n",
      "/start=274\n",
      "/end=586\n",
      "Seq('IYIPSGLIVIISWVSFWLNRNATPARVALGVTTVLTMTTLMSSTNAALP-KISY...MYW')\n",
      "ID: GBRD_MOUSE/254-444\n",
      "Name: GBRD_MOUSE\n",
      "Description: GBRD_MOUSE/254-444\n",
      "Number of features: 0\n",
      "/accession=P22933.1\n",
      "/start=254\n",
      "/end=444\n",
      "Seq('SYMPSVLLVAMSWVSFWISQAAVPARVSLGITTVLTMTTLMVSARSSLP-RASA...IYW')\n",
      "ID: GBRA3_BOVIN/282-475\n",
      "Name: GBRA3_BOVIN\n",
      "Description: GBRA3_BOVIN/282-475\n",
      "Number of features: 0\n",
      "/accession=P10064.1\n",
      "/start=282\n",
      "/end=475\n",
      "Seq('TYLPCIMTVILSQVSFWLNRESVPARTVFGVTTVLTMTTLSISARNSLP-KVAY...VYW')\n",
      "ID: A0A452F9D8_CAPHI/257-439\n",
      "Name: A0A452F9D8_CAPHI\n",
      "Description: A0A452F9D8_CAPHI/257-439\n",
      "Number of features: 0\n",
      "/accession=A0A452F9D8.1\n",
      "/start=257\n",
      "/end=439\n",
      "Seq('TYLPCIMTVILSQVSFWLNRESVPARTVFGVTTVLTMTTLSISARNSLP-KVAY...VYW')\n",
      "ID: A0A2I3GX20_NOMLE/264-445\n",
      "Name: A0A2I3GX20_NOMLE\n",
      "Description: A0A2I3GX20_NOMLE/264-445\n",
      "Number of features: 0\n",
      "/accession=A0A2I3GX20.1\n",
      "/start=264\n",
      "/end=445\n",
      "Seq('TYLPCIMTVILSQVSFWLNRESVPARTVFGVTTVLTMTTLSISARNSLP-KVAY...VYW')\n",
      "ID: ACHD_TETCF/253-494\n",
      "Name: ACHD_TETCF\n",
      "Description: ACHD_TETCF/253-494\n",
      "Database cross-references: PDB; 6UWZ B; 232-473;, PDB; 1EQ8 A; 1-23;, PDB; 1EQ8 C; 1-23;, PDB; 1EQ8 E; 1-23;, PDB; 1EQ8 B; 1-23;, PDB; 1EQ8 D; 1-23;, PDB; 1OED C; 232-473;\n",
      "Number of features: 0\n",
      "/accession=P02718.1\n",
      "/start=253\n",
      "/end=494\n",
      "Per letter annotation for: secondary_structure\n",
      "Seq('FITPCVLISFLASLAFYLPAES-GEKMSTAISVLLAQAVFLLLTSQRLP-ETAL...FIF')\n",
      "ID: B7ZQ13_XENLA/255-493\n",
      "Name: B7ZQ13_XENLA\n",
      "Description: B7ZQ13_XENLA/255-493\n",
      "Number of features: 0\n",
      "/accession=B7ZQ13.1\n",
      "/start=255\n",
      "/end=493\n",
      "Seq('ILAPCVLIALMANLVFYLPADS-GEKMTLAISVLLAQSVFLLLISQRLP-ETSF...WIF')\n",
      "ID: ACHD_BOVIN/252-488\n",
      "Name: ACHD_BOVIN\n",
      "Description: ACHD_BOVIN/252-488\n",
      "Number of features: 0\n",
      "/accession=P04759.1\n",
      "/start=252\n",
      "/end=488\n",
      "Seq('ILVPCVLISFMINLVFYLPADC-GEKTSMAISVLLAQSVFLLLISKRLP-ATSM...WIF')\n",
      "ID: ACHD_CHICK/252-485\n",
      "Name: ACHD_CHICK\n",
      "Description: ACHD_CHICK/252-485\n",
      "Number of features: 0\n",
      "/accession=P02717.1\n",
      "/start=252\n",
      "/end=485\n",
      "Seq('IVTPCVLIAFMAILVFYLPADS-GEKMTLVISVLLAQSVFLLLVSQRLP-ATSH...WIF')\n",
      "ID: ACHG_CHICK/249-491\n",
      "Name: ACHG_CHICK\n",
      "Description: ACHG_CHICK/249-491\n",
      "Number of features: 0\n",
      "/accession=P02713.1\n",
      "/start=249\n",
      "/end=491\n",
      "Seq('IIVPCVLISSMAVLVYFLPAKAGGQKCTVSINVLLAQTVFLFLIAQKVP-ETSQ...GIF')\n",
      "ID: ACHG_BOVIN/248-494\n",
      "Name: ACHG_BOVIN\n",
      "Description: ACHG_BOVIN/248-494\n",
      "Number of features: 0\n",
      "/accession=P13536.1\n",
      "/start=248\n",
      "/end=494\n",
      "Seq('IIAPCVLISSVAILIYFLPAKAGGQKCTVAINVLLAQTVFLFLVAKKVP-ETSQ...GIF')\n",
      "ID: ACHG_XENLA/242-486\n",
      "Name: ACHG_XENLA\n",
      "Description: ACHG_XENLA/242-486\n",
      "Number of features: 0\n",
      "/accession=P05376.1\n",
      "/start=242\n",
      "/end=486\n",
      "Seq('IIVPCVLISFVSILVYFLPAKAGGQKCTVSINILLAQTVFLFLVAQKIP-ETST...GTF')\n",
      "ID: ACHE_BOVIN/247-474\n",
      "Name: ACHE_BOVIN\n",
      "Description: ACHE_BOVIN/247-474\n",
      "Number of features: 0\n",
      "/accession=P02715.1\n",
      "/start=247\n",
      "/end=474\n",
      "Seq('IIVPCVLISGLVLLAYFLPAQAGGQKCTVSINVLLAQTVFLFLIAQKTP-ETSL...LIF')\n",
      "ID: ACHG_TETCF/243-484\n",
      "Name: ACHG_TETCF\n",
      "Description: ACHG_TETCF/243-484\n",
      "Database cross-references: PDB; 1OED E; 226-467;, PDB; 6UWZ E; 226-467;\n",
      "Number of features: 0\n",
      "/accession=P02714.1\n",
      "/start=243\n",
      "/end=484\n",
      "Per letter annotation for: secondary_structure\n",
      "Seq('IIAPCVLISSLVVLVYFLPAQAGGQKCTLSISVLLAQTIFLFLIAQKVP-ETSL...AIF')\n",
      "ID: ACHB_TETCF/248-479\n",
      "Name: ACHB_TETCF\n",
      "Description: ACHB_TETCF/248-479\n",
      "Database cross-references: PDB; 1OED B; 224-455;, PDB; 6UWZ C; 224-455;\n",
      "Number of features: 0\n",
      "/accession=P02712.1\n",
      "/start=248\n",
      "/end=479\n",
      "Per letter annotation for: secondary_structure\n",
      "Seq('TIIPCILISILAILVFYLPPDA-GEKMSLSISALLAVTVFLLLLADKVP-ETSL...SIF')\n",
      "ID: ACHB_BOVIN/253-491\n",
      "Name: ACHB_BOVIN\n",
      "Description: ACHB_BOVIN/253-491\n",
      "Number of features: 0\n",
      "/accession=P04758.1\n",
      "/start=253\n",
      "/end=491\n",
      "Seq('VIAPCILITLLAIFVFYLPPDA-GEKMGLSIFALLTLTVFLLLLADKVP-ETSL...VIF')\n",
      "ID: ACH3_DROME/243-499\n",
      "Name: ACH3_DROME\n",
      "Description: ACH3_DROME/243-499\n",
      "Number of features: 0\n",
      "/accession=P04755.1\n",
      "/start=243\n",
      "/end=499\n",
      "Seq('LILPTVLISFLCVLVFYLPAEA-GEKVTLGISILLSLVVFLLLVSKILP-PTSL...GIL')\n",
      "ID: ACHB2_CHICK/234-467\n",
      "Name: ACHB2_CHICK\n",
      "Description: ACHB2_CHICK/234-467\n",
      "Number of features: 0\n",
      "/accession=P09484.1\n",
      "/start=234\n",
      "/end=467\n",
      "Seq('LIIPCILITSLAILVFYLPSDC-GEKMTLCISVLLALTVFLLLISKIVP-PTSL...GMF')\n",
      "ID: ACHB4_CHICK/219-456\n",
      "Name: ACHB4_CHICK\n",
      "Description: ACHB4_CHICK/219-456\n",
      "Number of features: 0\n",
      "/accession=P26153.1\n",
      "/start=219\n",
      "/end=456\n",
      "Seq('LIIPCVLITSLAILVFYLPSDC-GEKMTLCISVLLALTVFLLLISKIVP-PTSL...GLF')\n",
      "ID: ACHB4_RAT/238-481\n",
      "Name: ACHB4_RAT\n",
      "Description: ACHB4_RAT/238-481\n",
      "Number of features: 0\n",
      "/accession=P12392.1\n",
      "/start=238\n",
      "/end=481\n",
      "Seq('LIIPCVLITSLAILVFYLPSDC-GEKMTLCISVLLALTFFLLLISKIVP-PTSL...GLF')\n",
      "ID: ACHB2_CARAU/211-439\n",
      "Name: ACHB2_CARAU\n",
      "Description: ACHB2_CARAU/211-439\n",
      "Number of features: 0\n",
      "/accession=P19370.1\n",
      "/start=211\n",
      "/end=439\n",
      "Seq('LIIPCVLITSLAILVFYLPSDC-GEKVTLCMSVLLALTVFLLLISKIVP-PTSL...GLF')\n"
     ]
    }
   ],
   "source": [
    "for record in alignment:\n",
    "    print(record)"
   ]
  },
  {
   "cell_type": "markdown",
   "metadata": {},
   "source": [
    "\n",
    "Sanger provide a nice web interface at\n",
    "<http://pfam.sanger.ac.uk/family?acc=PF05371> which will actually let\n",
    "you download this alignment in several other formats. This is what the\n",
    "file looks like in the FASTA file format:\n",
    "\n"
   ]
  },
  {
   "cell_type": "markdown",
   "metadata": {},
   "source": [
    "```\n",
    ">COATB_BPIKE/30-81\n",
    "AEPNAATNYATEAMDSLKTQAIDLISQTWPVVTTVVVAGLVIRLFKKFSSKA\n",
    ">Q9T0Q8_BPIKE/1-52\n",
    "AEPNAATNYATEAMDSLKTQAIDLISQTWPVVTTVVVAGLVIKLFKKFVSRA\n",
    ">COATB_BPI22/32-83\n",
    "DGTSTATSYATEAMNSLKTQATDLIDQTWPVVTSVAVAGLAIRLFKKFSSKA\n",
    ">COATB_BPM13/24-72\n",
    "AEGDDP---AKAAFNSLQASATEYIGYAWAMVVVIVGATIGIKLFKKFTSKA\n",
    ">COATB_BPZJ2/1-49\n",
    "AEGDDP---AKAAFDSLQASATEYIGYAWAMVVVIVGATIGIKLFKKFASKA\n",
    ">Q9T0Q9_BPFD/1-49\n",
    "AEGDDP---AKAAFDSLQASATEYIGYAWAMVVVIVGATIGIKLFKKFTSKA\n",
    ">COATB_BPIF1/22-73\n",
    "FAADDATSQAKAAFDSLTAQATEMSGYAWALVVLVVGATVGIKLFKKFVSRA\n",
    "\n",
    "```"
   ]
  },
  {
   "cell_type": "markdown",
   "metadata": {},
   "source": [
    "\n",
    "Note the website should have an option about showing gaps as periods\n",
    "(dots) or dashes, we’ve shown dashes above. Assuming you download and\n",
    "save this as file “PF05371\\_seed.faa” then you can load it with almost\n",
    "exactly the same code:\n",
    "\n"
   ]
  },
  {
   "cell_type": "markdown",
   "metadata": {},
   "source": [
    "```\n",
    "from Bio import AlignIO\n",
    "alignment = AlignIO.read(\"PF05371_seed.faa\", \"fasta\")\n",
    "print(alignment)\n",
    "\n",
    "```"
   ]
  },
  {
   "cell_type": "markdown",
   "metadata": {},
   "source": [
    "\n",
    "All that has changed in this code is the filename and the format string.\n",
    "You’ll get the same output as before, the sequences and record\n",
    "identifiers are the same. However, as you should expect, if you check\n",
    "each `SeqRecord` there is no annotation nor database cross-references\n",
    "because these are not included in the FASTA file format.\n",
    "\n",
    "Note that rather than using the Sanger website, you could have used\n",
    "`Bio.AlignIO` to convert the original Stockholm format file into a FASTA\n",
    "file yourself (see below).\n",
    "\n",
    "With any supported file format, you can load an alignment in exactly the\n",
    "same way just by changing the format string. For example, use “phylip”\n",
    "for PHYLIP files, “nexus” for NEXUS files or “emboss” for the alignments\n",
    "output by the EMBOSS tools. There is a full listing on the wiki page\n",
    "(<http://biopython.org/wiki/AlignIO>) and in the built in documentation\n",
    "(also\n",
    "[online](http://biopython.org/DIST/docs/api/Bio.AlignIO-module.html)):\n",
    "\n"
   ]
  },
  {
   "cell_type": "code",
   "execution_count": 22,
   "metadata": {},
   "outputs": [
    {
     "name": "stdout",
     "output_type": "stream",
     "text": [
      "Help on package Bio.AlignIO in Bio:\n",
      "\n",
      "NAME\n",
      "    Bio.AlignIO - Multiple sequence alignment input/output as alignment objects.\n",
      "\n",
      "DESCRIPTION\n",
      "    The Bio.AlignIO interface is deliberately very similar to Bio.SeqIO, and in\n",
      "    fact the two are connected internally.  Both modules use the same set of file\n",
      "    format names (lower case strings).  From the user's perspective, you can read\n",
      "    in a PHYLIP file containing one or more alignments using Bio.AlignIO, or you\n",
      "    can read in the sequences within these alignments using Bio.SeqIO.\n",
      "    \n",
      "    Bio.AlignIO is also documented at http://biopython.org/wiki/AlignIO and by\n",
      "    a whole chapter in our tutorial:\n",
      "    \n",
      "    * `HTML Tutorial`_\n",
      "    * `PDF Tutorial`_\n",
      "    \n",
      "    .. _`HTML Tutorial`: http://biopython.org/DIST/docs/tutorial/Tutorial.html\n",
      "    .. _`PDF Tutorial`: http://biopython.org/DIST/docs/tutorial/Tutorial.pdf\n",
      "    \n",
      "    Input\n",
      "    -----\n",
      "    For the typical special case when your file or handle contains one and only\n",
      "    one alignment, use the function Bio.AlignIO.read().  This takes an input file\n",
      "    handle (or in recent versions of Biopython a filename as a string), format\n",
      "    string and optional number of sequences per alignment.  It will return a single\n",
      "    MultipleSeqAlignment object (or raise an exception if there isn't just one\n",
      "    alignment):\n",
      "    \n",
      "    >>> from Bio import AlignIO\n",
      "    >>> align = AlignIO.read(\"Phylip/interlaced.phy\", \"phylip\")\n",
      "    >>> print(align)\n",
      "    Alignment with 3 rows and 384 columns\n",
      "    -----MKVILLFVLAVFTVFVSS---------------RGIPPE...I-- CYS1_DICDI\n",
      "    MAHARVLLLALAVLATAAVAVASSSSFADSNPIRPVTDRAASTL...VAA ALEU_HORVU\n",
      "    ------MWATLPLLCAGAWLLGV--------PVCGAAELSVNSL...PLV CATH_HUMAN\n",
      "    \n",
      "    For the general case, when the handle could contain any number of alignments,\n",
      "    use the function Bio.AlignIO.parse(...) which takes the same arguments, but\n",
      "    returns an iterator giving MultipleSeqAlignment objects (typically used in a\n",
      "    for loop). If you want random access to the alignments by number, turn this\n",
      "    into a list:\n",
      "    \n",
      "    >>> from Bio import AlignIO\n",
      "    >>> alignments = list(AlignIO.parse(\"Emboss/needle.txt\", \"emboss\"))\n",
      "    >>> print(alignments[2])\n",
      "    Alignment with 2 rows and 120 columns\n",
      "    -KILIVDDQYGIRILLNEVFNKEGYQTFQAANGLQALDIVTKER...--- ref_rec\n",
      "    LHIVVVDDDPGTCVYIESVFAELGHTCKSFVRPEAAEEYILTHP...HKE gi|94967506|receiver\n",
      "    \n",
      "    Most alignment file formats can be concatenated so as to hold as many\n",
      "    different multiple sequence alignments as possible.  One common example\n",
      "    is the output of the tool seqboot in the PHLYIP suite.  Sometimes there\n",
      "    can be a file header and footer, as seen in the EMBOSS alignment output.\n",
      "    \n",
      "    Output\n",
      "    ------\n",
      "    Use the function Bio.AlignIO.write(...), which takes a complete set of\n",
      "    Alignment objects (either as a list, or an iterator), an output file handle\n",
      "    (or filename in recent versions of Biopython) and of course the file format::\n",
      "    \n",
      "        from Bio import AlignIO\n",
      "        alignments = ...\n",
      "        count = SeqIO.write(alignments, \"example.faa\", \"fasta\")\n",
      "    \n",
      "    If using a handle make sure to close it to flush the data to the disk::\n",
      "    \n",
      "        from Bio import AlignIO\n",
      "        alignments = ...\n",
      "        with open(\"example.faa\", \"w\") as handle:\n",
      "            count = SeqIO.write(alignments, handle, \"fasta\")\n",
      "    \n",
      "    In general, you are expected to call this function once (with all your\n",
      "    alignments) and then close the file handle.  However, for file formats\n",
      "    like PHYLIP where multiple alignments are stored sequentially (with no file\n",
      "    header and footer), then multiple calls to the write function should work as\n",
      "    expected when using handles.\n",
      "    \n",
      "    If you are using a filename, the repeated calls to the write functions will\n",
      "    overwrite the existing file each time.\n",
      "    \n",
      "    Conversion\n",
      "    ----------\n",
      "    The Bio.AlignIO.convert(...) function allows an easy interface for simple\n",
      "    alignment file format conversions. Additionally, it may use file format\n",
      "    specific optimisations so this should be the fastest way too.\n",
      "    \n",
      "    In general however, you can combine the Bio.AlignIO.parse(...) function with\n",
      "    the Bio.AlignIO.write(...) function for sequence file conversion. Using\n",
      "    generator expressions provides a memory efficient way to perform filtering or\n",
      "    other extra operations as part of the process.\n",
      "    \n",
      "    File Formats\n",
      "    ------------\n",
      "    When specifying the file format, use lowercase strings.  The same format\n",
      "    names are also used in Bio.SeqIO and include the following:\n",
      "    \n",
      "      - clustal -   Output from Clustal W or X, see also the module Bio.Clustalw\n",
      "        which can be used to run the command line tool from Biopython.\n",
      "      - emboss    - EMBOSS tools' \"pairs\" and \"simple\" alignment formats.\n",
      "      - fasta     - The generic sequence file format where each record starts with\n",
      "        an identifier line starting with a \">\" character, followed by\n",
      "        lines of sequence.\n",
      "      - fasta-m10 - For the pairwise alignments output by Bill Pearson's FASTA\n",
      "        tools when used with the -m 10 command line option for machine\n",
      "        readable output.\n",
      "      - ig        - The IntelliGenetics file format, apparently the same as the\n",
      "        MASE alignment format.\n",
      "      - msf       - The GCG MSF alignment format, originally from PileUp tool.\n",
      "      - nexus     - Output from NEXUS, see also the module Bio.Nexus which can also\n",
      "        read any phylogenetic trees in these files.\n",
      "      - phylip    - Interlaced PHYLIP, as used by the PHYLIP tools.\n",
      "      - phylip-sequential - Sequential PHYLIP.\n",
      "      - phylip-relaxed - PHYLIP like format allowing longer names.\n",
      "      - stockholm - A richly annotated alignment file format used by PFAM.\n",
      "      - mauve - Output from progressiveMauve/Mauve\n",
      "    \n",
      "    Note that while Bio.AlignIO can read all the above file formats, it cannot\n",
      "    write to all of them.\n",
      "    \n",
      "    You can also use any file format supported by Bio.SeqIO, such as \"fasta\" or\n",
      "    \"ig\" (which are listed above), PROVIDED the sequences in your file are all the\n",
      "    same length.\n",
      "\n",
      "PACKAGE CONTENTS\n",
      "    ClustalIO\n",
      "    EmbossIO\n",
      "    FastaIO\n",
      "    Interfaces\n",
      "    MafIO\n",
      "    MauveIO\n",
      "    MsfIO\n",
      "    NexusIO\n",
      "    PhylipIO\n",
      "    StockholmIO\n",
      "\n",
      "FUNCTIONS\n",
      "    convert(in_file, in_format, out_file, out_format, molecule_type=None)\n",
      "        Convert between two alignment files, returns number of alignments.\n",
      "        \n",
      "        Arguments:\n",
      "         - in_file - an input handle or filename\n",
      "         - in_format - input file format, lower case string\n",
      "         - output - an output handle or filename\n",
      "         - out_file - output file format, lower case string\n",
      "         - molecule_type - optional molecule type to apply, string containing\n",
      "           \"DNA\", \"RNA\" or \"protein\".\n",
      "        \n",
      "        **NOTE** - If you provide an output filename, it will be opened which will\n",
      "        overwrite any existing file without warning. This may happen if even the\n",
      "        conversion is aborted (e.g. an invalid out_format name is given).\n",
      "        \n",
      "        Some output formats require the molecule type be specified where this\n",
      "        cannot be determined by the parser. For example, converting to FASTA,\n",
      "        Clustal, or PHYLIP format to NEXUS:\n",
      "        \n",
      "        >>> from io import StringIO\n",
      "        >>> from Bio import AlignIO\n",
      "        >>> handle = StringIO()\n",
      "        >>> AlignIO.convert(\"Phylip/horses.phy\", \"phylip\", handle, \"nexus\", \"DNA\")\n",
      "        1\n",
      "        >>> print(handle.getvalue())\n",
      "        #NEXUS\n",
      "        begin data;\n",
      "        dimensions ntax=10 nchar=40;\n",
      "        format datatype=dna missing=? gap=-;\n",
      "        matrix\n",
      "        Mesohippus   AAAAAAAAAAAAAAAAAAAAAAAAAAAAAAAAAAAAAAAA\n",
      "        Hypohippus   AAACCCCCCCAAAAAAAAACAAAAAAAAAAAAAAAAAAAA\n",
      "        Archaeohip   CAAAAAAAAAAAAAAAACACAAAAAAAAAAAAAAAAAAAA\n",
      "        Parahippus   CAAACAACAACAAAAAAAACAAAAAAAAAAAAAAAAAAAA\n",
      "        Merychippu   CCAACCACCACCCCACACCCAAAAAAAAAAAAAAAAAAAA\n",
      "        'M. secundu' CCAACCACCACCCACACCCCAAAAAAAAAAAAAAAAAAAA\n",
      "        Nannipus     CCAACCACAACCCCACACCCAAAAAAAAAAAAAAAAAAAA\n",
      "        Neohippari   CCAACCCCCCCCCCACACCCAAAAAAAAAAAAAAAAAAAA\n",
      "        Calippus     CCAACCACAACCCACACCCCAAAAAAAAAAAAAAAAAAAA\n",
      "        Pliohippus   CCCACCCCCCCCCACACCCCAAAAAAAAAAAAAAAAAAAA\n",
      "        ;\n",
      "        end;\n",
      "        <BLANKLINE>\n",
      "    \n",
      "    parse(handle, format, seq_count=None)\n",
      "        Iterate over an alignment file as MultipleSeqAlignment objects.\n",
      "        \n",
      "        Arguments:\n",
      "         - handle    - handle to the file, or the filename as a string\n",
      "           (note older versions of Biopython only took a handle).\n",
      "         - format    - string describing the file format.\n",
      "         - seq_count - Optional integer, number of sequences expected in each\n",
      "           alignment.  Recommended for fasta format files.\n",
      "        \n",
      "        If you have the file name in a string 'filename', use:\n",
      "        \n",
      "        >>> from Bio import AlignIO\n",
      "        >>> filename = \"Emboss/needle.txt\"\n",
      "        >>> format = \"emboss\"\n",
      "        >>> for alignment in AlignIO.parse(filename, format):\n",
      "        ...     print(\"Alignment of length %i\" % alignment.get_alignment_length())\n",
      "        Alignment of length 124\n",
      "        Alignment of length 119\n",
      "        Alignment of length 120\n",
      "        Alignment of length 118\n",
      "        Alignment of length 125\n",
      "        \n",
      "        If you have a string 'data' containing the file contents, use::\n",
      "        \n",
      "          from Bio import AlignIO\n",
      "          from io import StringIO\n",
      "          my_iterator = AlignIO.parse(StringIO(data), format)\n",
      "        \n",
      "        Use the Bio.AlignIO.read() function when you expect a single record only.\n",
      "    \n",
      "    read(handle, format, seq_count=None)\n",
      "        Turn an alignment file into a single MultipleSeqAlignment object.\n",
      "        \n",
      "        Arguments:\n",
      "         - handle    - handle to the file, or the filename as a string\n",
      "           (note older versions of Biopython only took a handle).\n",
      "         - format    - string describing the file format.\n",
      "         - seq_count - Optional integer, number of sequences expected in each\n",
      "           alignment.  Recommended for fasta format files.\n",
      "        \n",
      "        If the handle contains no alignments, or more than one alignment,\n",
      "        an exception is raised.  For example, using a PFAM/Stockholm file\n",
      "        containing one alignment:\n",
      "        \n",
      "        >>> from Bio import AlignIO\n",
      "        >>> filename = \"Clustalw/protein.aln\"\n",
      "        >>> format = \"clustal\"\n",
      "        >>> alignment = AlignIO.read(filename, format)\n",
      "        >>> print(\"Alignment of length %i\" % alignment.get_alignment_length())\n",
      "        Alignment of length 411\n",
      "        \n",
      "        If however you want the first alignment from a file containing\n",
      "        multiple alignments this function would raise an exception.\n",
      "        \n",
      "        >>> from Bio import AlignIO\n",
      "        >>> filename = \"Emboss/needle.txt\"\n",
      "        >>> format = \"emboss\"\n",
      "        >>> alignment = AlignIO.read(filename, format)\n",
      "        Traceback (most recent call last):\n",
      "            ...\n",
      "        ValueError: More than one record found in handle\n",
      "        \n",
      "        Instead use:\n",
      "        \n",
      "        >>> from Bio import AlignIO\n",
      "        >>> filename = \"Emboss/needle.txt\"\n",
      "        >>> format = \"emboss\"\n",
      "        >>> alignment = next(AlignIO.parse(filename, format))\n",
      "        >>> print(\"First alignment has length %i\" % alignment.get_alignment_length())\n",
      "        First alignment has length 124\n",
      "        \n",
      "        You must use the Bio.AlignIO.parse() function if you want to read multiple\n",
      "        records from the handle.\n",
      "    \n",
      "    write(alignments, handle, format)\n",
      "        Write complete set of alignments to a file.\n",
      "        \n",
      "        Arguments:\n",
      "         - alignments - A list (or iterator) of MultipleSeqAlignment objects,\n",
      "           or a single alignment object.\n",
      "         - handle    - File handle object to write to, or filename as string\n",
      "           (note older versions of Biopython only took a handle).\n",
      "         - format    - lower case string describing the file format to write.\n",
      "        \n",
      "        You should close the handle after calling this function.\n",
      "        \n",
      "        Returns the number of alignments written (as an integer).\n",
      "\n",
      "FILE\n",
      "    c:\\users\\amand\\anaconda3\\lib\\site-packages\\bio\\alignio\\__init__.py\n",
      "\n",
      "\n"
     ]
    }
   ],
   "source": [
    "from Bio import AlignIO\n",
    "help(AlignIO)"
   ]
  },
  {
   "cell_type": "markdown",
   "metadata": {},
   "source": [
    "\n",
    "### Multiple Alignments\n",
    "\n",
    "The previous section focused on reading files containing a single\n",
    "alignment. In general however, files can contain more than one\n",
    "alignment, and to read these files we must use the `Bio.AlignIO.parse()`\n",
    "function.\n",
    "\n",
    "Suppose you have a small alignment in PHYLIP format:\n",
    "\n"
   ]
  },
  {
   "cell_type": "markdown",
   "metadata": {},
   "source": [
    "```\n",
    "5    6\n",
    "Alpha     AACAAC\n",
    "Beta      AACCCC\n",
    "Gamma     ACCAAC\n",
    "Delta     CCACCA\n",
    "Epsilon   CCAAAC\n",
    "\n",
    "```"
   ]
  },
  {
   "cell_type": "markdown",
   "metadata": {},
   "source": [
    "\n",
    "If you wanted to bootstrap a phylogenetic tree using the PHYLIP tools,\n",
    "one of the steps would be to create a set of many resampled alignments\n",
    "using the tool `bootseq`. This would give output something like this,\n",
    "which has been abbreviated for conciseness:\n",
    "\n"
   ]
  },
  {
   "cell_type": "markdown",
   "metadata": {},
   "source": [
    "```\n",
    "5     6\n",
    "Alpha     AAACCA\n",
    "Beta      AAACCC\n",
    "Gamma     ACCCCA\n",
    "Delta     CCCAAC\n",
    "Epsilon   CCCAAA\n",
    "    5     6\n",
    "Alpha     AAACAA\n",
    "Beta      AAACCC\n",
    "Gamma     ACCCAA\n",
    "Delta     CCCACC\n",
    "Epsilon   CCCAAA\n",
    "    5     6\n",
    "Alpha     AAAAAC\n",
    "Beta      AAACCC\n",
    "Gamma     AACAAC\n",
    "Delta     CCCCCA\n",
    "Epsilon   CCCAAC\n",
    "...\n",
    "    5     6\n",
    "Alpha     AAAACC\n",
    "Beta      ACCCCC\n",
    "Gamma     AAAACC\n",
    "Delta     CCCCAA\n",
    "Epsilon   CAAACC\n",
    "\n",
    "```"
   ]
  },
  {
   "cell_type": "markdown",
   "metadata": {},
   "source": [
    "\n",
    "If you wanted to read this in using `Bio.AlignIO` you could use:\n",
    "\n"
   ]
  },
  {
   "cell_type": "code",
   "execution_count": 28,
   "metadata": {},
   "outputs": [
    {
     "ename": "FileNotFoundError",
     "evalue": "[Errno 2] No such file or directory: 'PF02932.fasta.txt'",
     "output_type": "error",
     "traceback": [
      "\u001b[1;31m---------------------------------------------------------------------------\u001b[0m",
      "\u001b[1;31mFileNotFoundError\u001b[0m                         Traceback (most recent call last)",
      "Input \u001b[1;32mIn [28]\u001b[0m, in \u001b[0;36m<cell line: 3>\u001b[1;34m()\u001b[0m\n\u001b[0;32m      1\u001b[0m \u001b[38;5;28;01mfrom\u001b[39;00m \u001b[38;5;21;01mBio\u001b[39;00m \u001b[38;5;28;01mimport\u001b[39;00m AlignIO\n\u001b[0;32m      2\u001b[0m alignments \u001b[38;5;241m=\u001b[39m AlignIO\u001b[38;5;241m.\u001b[39mparse(\u001b[38;5;124m\"\u001b[39m\u001b[38;5;124mPF02932.fasta.txt\u001b[39m\u001b[38;5;124m\"\u001b[39m, \u001b[38;5;124m\"\u001b[39m\u001b[38;5;124mphylip\u001b[39m\u001b[38;5;124m\"\u001b[39m)\n\u001b[1;32m----> 3\u001b[0m \u001b[38;5;28;01mfor\u001b[39;00m alignment \u001b[38;5;129;01min\u001b[39;00m alignments:\n\u001b[0;32m      4\u001b[0m     \u001b[38;5;28mprint\u001b[39m(alignment)\n\u001b[0;32m      5\u001b[0m     \u001b[38;5;28mprint\u001b[39m(\u001b[38;5;124m\"\u001b[39m\u001b[38;5;124m\"\u001b[39m)\n",
      "File \u001b[1;32m~\\anaconda3\\lib\\site-packages\\Bio\\AlignIO\\__init__.py:329\u001b[0m, in \u001b[0;36mparse\u001b[1;34m(handle, format, seq_count)\u001b[0m\n\u001b[0;32m    326\u001b[0m \u001b[38;5;28;01mif\u001b[39;00m seq_count \u001b[38;5;129;01mis\u001b[39;00m \u001b[38;5;129;01mnot\u001b[39;00m \u001b[38;5;28;01mNone\u001b[39;00m \u001b[38;5;129;01mand\u001b[39;00m \u001b[38;5;129;01mnot\u001b[39;00m \u001b[38;5;28misinstance\u001b[39m(seq_count, \u001b[38;5;28mint\u001b[39m):\n\u001b[0;32m    327\u001b[0m     \u001b[38;5;28;01mraise\u001b[39;00m \u001b[38;5;167;01mTypeError\u001b[39;00m(\u001b[38;5;124m\"\u001b[39m\u001b[38;5;124mNeed integer for seq_count (sequences per alignment)\u001b[39m\u001b[38;5;124m\"\u001b[39m)\n\u001b[1;32m--> 329\u001b[0m \u001b[38;5;28;01mwith\u001b[39;00m as_handle(handle) \u001b[38;5;28;01mas\u001b[39;00m fp:\n\u001b[0;32m    330\u001b[0m     \u001b[38;5;66;03m# Map the file format to a sequence iterator:\u001b[39;00m\n\u001b[0;32m    331\u001b[0m     \u001b[38;5;28;01mif\u001b[39;00m \u001b[38;5;28mformat\u001b[39m \u001b[38;5;129;01min\u001b[39;00m _FormatToIterator:\n\u001b[0;32m    332\u001b[0m         iterator_generator \u001b[38;5;241m=\u001b[39m _FormatToIterator[\u001b[38;5;28mformat\u001b[39m]\n",
      "File \u001b[1;32m~\\anaconda3\\lib\\contextlib.py:119\u001b[0m, in \u001b[0;36m_GeneratorContextManager.__enter__\u001b[1;34m(self)\u001b[0m\n\u001b[0;32m    117\u001b[0m \u001b[38;5;28;01mdel\u001b[39;00m \u001b[38;5;28mself\u001b[39m\u001b[38;5;241m.\u001b[39margs, \u001b[38;5;28mself\u001b[39m\u001b[38;5;241m.\u001b[39mkwds, \u001b[38;5;28mself\u001b[39m\u001b[38;5;241m.\u001b[39mfunc\n\u001b[0;32m    118\u001b[0m \u001b[38;5;28;01mtry\u001b[39;00m:\n\u001b[1;32m--> 119\u001b[0m     \u001b[38;5;28;01mreturn\u001b[39;00m \u001b[38;5;28;43mnext\u001b[39;49m\u001b[43m(\u001b[49m\u001b[38;5;28;43mself\u001b[39;49m\u001b[38;5;241;43m.\u001b[39;49m\u001b[43mgen\u001b[49m\u001b[43m)\u001b[49m\n\u001b[0;32m    120\u001b[0m \u001b[38;5;28;01mexcept\u001b[39;00m \u001b[38;5;167;01mStopIteration\u001b[39;00m:\n\u001b[0;32m    121\u001b[0m     \u001b[38;5;28;01mraise\u001b[39;00m \u001b[38;5;167;01mRuntimeError\u001b[39;00m(\u001b[38;5;124m\"\u001b[39m\u001b[38;5;124mgenerator didn\u001b[39m\u001b[38;5;124m'\u001b[39m\u001b[38;5;124mt yield\u001b[39m\u001b[38;5;124m\"\u001b[39m) \u001b[38;5;28;01mfrom\u001b[39;00m \u001b[38;5;28mNone\u001b[39m\n",
      "File \u001b[1;32m~\\anaconda3\\lib\\site-packages\\Bio\\File.py:72\u001b[0m, in \u001b[0;36mas_handle\u001b[1;34m(handleish, mode, **kwargs)\u001b[0m\n\u001b[0;32m     30\u001b[0m \u001b[38;5;124mr\u001b[39m\u001b[38;5;124;03m\"\"\"Context manager to ensure we are using a handle.\u001b[39;00m\n\u001b[0;32m     31\u001b[0m \n\u001b[0;32m     32\u001b[0m \u001b[38;5;124;03mContext manager for arguments that can be passed to SeqIO and AlignIO read, write,\u001b[39;00m\n\u001b[1;32m   (...)\u001b[0m\n\u001b[0;32m     69\u001b[0m \n\u001b[0;32m     70\u001b[0m \u001b[38;5;124;03m\"\"\"\u001b[39;00m\n\u001b[0;32m     71\u001b[0m \u001b[38;5;28;01mtry\u001b[39;00m:\n\u001b[1;32m---> 72\u001b[0m     \u001b[38;5;28;01mwith\u001b[39;00m \u001b[38;5;28mopen\u001b[39m(handleish, mode, \u001b[38;5;241m*\u001b[39m\u001b[38;5;241m*\u001b[39mkwargs) \u001b[38;5;28;01mas\u001b[39;00m fp:\n\u001b[0;32m     73\u001b[0m         \u001b[38;5;28;01myield\u001b[39;00m fp\n\u001b[0;32m     74\u001b[0m \u001b[38;5;28;01mexcept\u001b[39;00m \u001b[38;5;167;01mTypeError\u001b[39;00m:\n",
      "\u001b[1;31mFileNotFoundError\u001b[0m: [Errno 2] No such file or directory: 'PF02932.fasta.txt'"
     ]
    }
   ],
   "source": [
    "from Bio import AlignIO\n",
    "alignments = AlignIO.parse(\"PF02932.fasta.txt\", \"phylip\")\n",
    "for alignment in alignments:\n",
    "    print(alignment)\n",
    "    print(\"\")"
   ]
  },
  {
   "cell_type": "markdown",
   "metadata": {},
   "source": [
    "\n",
    "As with the function `Bio.SeqIO.parse()`, using `Bio.AlignIO.parse()`\n",
    "returns an iterator. If you want to keep all the alignments in memory at\n",
    "once, which will allow you to access them in any order, then turn the\n",
    "iterator into a list:\n",
    "\n"
   ]
  },
  {
   "cell_type": "code",
   "execution_count": 26,
   "metadata": {},
   "outputs": [
    {
     "ename": "FileNotFoundError",
     "evalue": "[Errno 2] No such file or directory: 'data/resampled.phy'",
     "output_type": "error",
     "traceback": [
      "\u001b[1;31m---------------------------------------------------------------------------\u001b[0m",
      "\u001b[1;31mFileNotFoundError\u001b[0m                         Traceback (most recent call last)",
      "Input \u001b[1;32mIn [26]\u001b[0m, in \u001b[0;36m<cell line: 2>\u001b[1;34m()\u001b[0m\n\u001b[0;32m      1\u001b[0m \u001b[38;5;28;01mfrom\u001b[39;00m \u001b[38;5;21;01mBio\u001b[39;00m \u001b[38;5;28;01mimport\u001b[39;00m AlignIO\n\u001b[1;32m----> 2\u001b[0m alignments \u001b[38;5;241m=\u001b[39m \u001b[38;5;28;43mlist\u001b[39;49m\u001b[43m(\u001b[49m\u001b[43mAlignIO\u001b[49m\u001b[38;5;241;43m.\u001b[39;49m\u001b[43mparse\u001b[49m\u001b[43m(\u001b[49m\u001b[38;5;124;43m\"\u001b[39;49m\u001b[38;5;124;43mdata/resampled.phy\u001b[39;49m\u001b[38;5;124;43m\"\u001b[39;49m\u001b[43m,\u001b[49m\u001b[43m \u001b[49m\u001b[38;5;124;43m\"\u001b[39;49m\u001b[38;5;124;43mphylip\u001b[39;49m\u001b[38;5;124;43m\"\u001b[39;49m\u001b[43m)\u001b[49m\u001b[43m)\u001b[49m\n\u001b[0;32m      3\u001b[0m last_align \u001b[38;5;241m=\u001b[39m alignments[\u001b[38;5;241m-\u001b[39m\u001b[38;5;241m1\u001b[39m]\n\u001b[0;32m      4\u001b[0m first_align \u001b[38;5;241m=\u001b[39m alignments[\u001b[38;5;241m0\u001b[39m]\n",
      "File \u001b[1;32m~\\anaconda3\\lib\\site-packages\\Bio\\AlignIO\\__init__.py:329\u001b[0m, in \u001b[0;36mparse\u001b[1;34m(handle, format, seq_count)\u001b[0m\n\u001b[0;32m    326\u001b[0m \u001b[38;5;28;01mif\u001b[39;00m seq_count \u001b[38;5;129;01mis\u001b[39;00m \u001b[38;5;129;01mnot\u001b[39;00m \u001b[38;5;28;01mNone\u001b[39;00m \u001b[38;5;129;01mand\u001b[39;00m \u001b[38;5;129;01mnot\u001b[39;00m \u001b[38;5;28misinstance\u001b[39m(seq_count, \u001b[38;5;28mint\u001b[39m):\n\u001b[0;32m    327\u001b[0m     \u001b[38;5;28;01mraise\u001b[39;00m \u001b[38;5;167;01mTypeError\u001b[39;00m(\u001b[38;5;124m\"\u001b[39m\u001b[38;5;124mNeed integer for seq_count (sequences per alignment)\u001b[39m\u001b[38;5;124m\"\u001b[39m)\n\u001b[1;32m--> 329\u001b[0m \u001b[38;5;28;01mwith\u001b[39;00m as_handle(handle) \u001b[38;5;28;01mas\u001b[39;00m fp:\n\u001b[0;32m    330\u001b[0m     \u001b[38;5;66;03m# Map the file format to a sequence iterator:\u001b[39;00m\n\u001b[0;32m    331\u001b[0m     \u001b[38;5;28;01mif\u001b[39;00m \u001b[38;5;28mformat\u001b[39m \u001b[38;5;129;01min\u001b[39;00m _FormatToIterator:\n\u001b[0;32m    332\u001b[0m         iterator_generator \u001b[38;5;241m=\u001b[39m _FormatToIterator[\u001b[38;5;28mformat\u001b[39m]\n",
      "File \u001b[1;32m~\\anaconda3\\lib\\contextlib.py:119\u001b[0m, in \u001b[0;36m_GeneratorContextManager.__enter__\u001b[1;34m(self)\u001b[0m\n\u001b[0;32m    117\u001b[0m \u001b[38;5;28;01mdel\u001b[39;00m \u001b[38;5;28mself\u001b[39m\u001b[38;5;241m.\u001b[39margs, \u001b[38;5;28mself\u001b[39m\u001b[38;5;241m.\u001b[39mkwds, \u001b[38;5;28mself\u001b[39m\u001b[38;5;241m.\u001b[39mfunc\n\u001b[0;32m    118\u001b[0m \u001b[38;5;28;01mtry\u001b[39;00m:\n\u001b[1;32m--> 119\u001b[0m     \u001b[38;5;28;01mreturn\u001b[39;00m \u001b[38;5;28;43mnext\u001b[39;49m\u001b[43m(\u001b[49m\u001b[38;5;28;43mself\u001b[39;49m\u001b[38;5;241;43m.\u001b[39;49m\u001b[43mgen\u001b[49m\u001b[43m)\u001b[49m\n\u001b[0;32m    120\u001b[0m \u001b[38;5;28;01mexcept\u001b[39;00m \u001b[38;5;167;01mStopIteration\u001b[39;00m:\n\u001b[0;32m    121\u001b[0m     \u001b[38;5;28;01mraise\u001b[39;00m \u001b[38;5;167;01mRuntimeError\u001b[39;00m(\u001b[38;5;124m\"\u001b[39m\u001b[38;5;124mgenerator didn\u001b[39m\u001b[38;5;124m'\u001b[39m\u001b[38;5;124mt yield\u001b[39m\u001b[38;5;124m\"\u001b[39m) \u001b[38;5;28;01mfrom\u001b[39;00m \u001b[38;5;28mNone\u001b[39m\n",
      "File \u001b[1;32m~\\anaconda3\\lib\\site-packages\\Bio\\File.py:72\u001b[0m, in \u001b[0;36mas_handle\u001b[1;34m(handleish, mode, **kwargs)\u001b[0m\n\u001b[0;32m     30\u001b[0m \u001b[38;5;124mr\u001b[39m\u001b[38;5;124;03m\"\"\"Context manager to ensure we are using a handle.\u001b[39;00m\n\u001b[0;32m     31\u001b[0m \n\u001b[0;32m     32\u001b[0m \u001b[38;5;124;03mContext manager for arguments that can be passed to SeqIO and AlignIO read, write,\u001b[39;00m\n\u001b[1;32m   (...)\u001b[0m\n\u001b[0;32m     69\u001b[0m \n\u001b[0;32m     70\u001b[0m \u001b[38;5;124;03m\"\"\"\u001b[39;00m\n\u001b[0;32m     71\u001b[0m \u001b[38;5;28;01mtry\u001b[39;00m:\n\u001b[1;32m---> 72\u001b[0m     \u001b[38;5;28;01mwith\u001b[39;00m \u001b[38;5;28mopen\u001b[39m(handleish, mode, \u001b[38;5;241m*\u001b[39m\u001b[38;5;241m*\u001b[39mkwargs) \u001b[38;5;28;01mas\u001b[39;00m fp:\n\u001b[0;32m     73\u001b[0m         \u001b[38;5;28;01myield\u001b[39;00m fp\n\u001b[0;32m     74\u001b[0m \u001b[38;5;28;01mexcept\u001b[39;00m \u001b[38;5;167;01mTypeError\u001b[39;00m:\n",
      "\u001b[1;31mFileNotFoundError\u001b[0m: [Errno 2] No such file or directory: 'data/resampled.phy'"
     ]
    }
   ],
   "source": [
    "from Bio import AlignIO\n",
    "alignments = list(AlignIO.parse(\"data/resampled.phy\", \"phylip\"))\n",
    "last_align = alignments[-1]\n",
    "first_align = alignments[0]"
   ]
  },
  {
   "cell_type": "markdown",
   "metadata": {},
   "source": [
    "\n",
    "### Ambiguous Alignments {#sec:AlignIO-count-argument}\n",
    "\n",
    "Many alignment file formats can explicitly store more than one\n",
    "alignment, and the division between each alignment is clear. However,\n",
    "when a general sequence file format has been used there is no such block\n",
    "structure. The most common such situation is when alignments have been\n",
    "saved in the FASTA file format. For example consider the following:\n",
    "\n"
   ]
  },
  {
   "cell_type": "markdown",
   "metadata": {},
   "source": [
    "```\n",
    ">Alpha\n",
    "ACTACGACTAGCTCAG--G\n",
    ">Beta\n",
    "ACTACCGCTAGCTCAGAAG\n",
    ">Gamma\n",
    "ACTACGGCTAGCACAGAAG\n",
    ">Alpha\n",
    "ACTACGACTAGCTCAGG--\n",
    ">Beta\n",
    "ACTACCGCTAGCTCAGAAG\n",
    ">Gamma\n",
    "ACTACGGCTAGCACAGAAG\n",
    "\n",
    "```"
   ]
  },
  {
   "cell_type": "markdown",
   "metadata": {},
   "source": [
    "\n",
    "This could be a single alignment containing six sequences (with repeated\n",
    "identifiers). Or, judging from the identifiers, this is probably two\n",
    "different alignments each with three sequences, which happen to all have\n",
    "the same length.\n",
    "\n",
    "What about this next example?\n",
    "\n"
   ]
  },
  {
   "cell_type": "markdown",
   "metadata": {},
   "source": [
    "```\n",
    ">Alpha\n",
    "ACTACGACTAGCTCAG--G\n",
    ">Beta\n",
    "ACTACCGCTAGCTCAGAAG\n",
    ">Alpha\n",
    "ACTACGACTAGCTCAGG--\n",
    ">Gamma\n",
    "ACTACGGCTAGCACAGAAG\n",
    ">Alpha\n",
    "ACTACGACTAGCTCAGG--\n",
    ">Delta\n",
    "ACTACGGCTAGCACAGAAG\n",
    "\n",
    "```"
   ]
  },
  {
   "cell_type": "markdown",
   "metadata": {},
   "source": [
    "\n",
    "Again, this could be a single alignment with six sequences. However this\n",
    "time based on the identifiers we might guess this is three pairwise\n",
    "alignments which by chance have all got the same lengths.\n",
    "\n",
    "This final example is similar:\n",
    "\n"
   ]
  },
  {
   "cell_type": "markdown",
   "metadata": {},
   "source": [
    "```\n",
    ">Alpha\n",
    "ACTACGACTAGCTCAG--G\n",
    ">XXX\n",
    "ACTACCGCTAGCTCAGAAG\n",
    ">Alpha\n",
    "ACTACGACTAGCTCAGG\n",
    ">YYY\n",
    "ACTACGGCAAGCACAGG\n",
    ">Alpha\n",
    "--ACTACGAC--TAGCTCAGG\n",
    ">ZZZ\n",
    "GGACTACGACAATAGCTCAGG\n",
    "\n",
    "```"
   ]
  },
  {
   "cell_type": "markdown",
   "metadata": {},
   "source": [
    "\n",
    "In this third example, because of the differing lengths, this cannot be\n",
    "treated as a single alignment containing all six records. However, it\n",
    "could be three pairwise alignments.\n",
    "\n",
    "Clearly trying to store more than one alignment in a FASTA file is not\n",
    "ideal. However, if you are forced to deal with these as input files\n",
    "`Bio.AlignIO` can cope with the most common situation where all the\n",
    "alignments have the same number of records. One example of this is a\n",
    "collection of pairwise alignments, which can be produced by the EMBOSS\n",
    "tools `needle` and `water` – although in this situation, `Bio.AlignIO`\n",
    "should be able to understand their native output using “emboss” as the\n",
    "format string.\n",
    "\n",
    "To interpret these FASTA examples as several separate alignments, we can\n",
    "use `Bio.AlignIO.parse()` with the optional `seq_count` argument which\n",
    "specifies how many sequences are expected in each alignment (in these\n",
    "examples, 3, 2 and 2 respectively). For example, using the third example\n",
    "as the input data:\n",
    "\n"
   ]
  },
  {
   "cell_type": "code",
   "execution_count": 25,
   "metadata": {},
   "outputs": [
    {
     "ename": "NameError",
     "evalue": "name 'handle' is not defined",
     "output_type": "error",
     "traceback": [
      "\u001b[1;31m---------------------------------------------------------------------------\u001b[0m",
      "\u001b[1;31mNameError\u001b[0m                                 Traceback (most recent call last)",
      "Input \u001b[1;32mIn [25]\u001b[0m, in \u001b[0;36m<cell line: 1>\u001b[1;34m()\u001b[0m\n\u001b[1;32m----> 1\u001b[0m \u001b[38;5;28;01mfor\u001b[39;00m alignment \u001b[38;5;129;01min\u001b[39;00m AlignIO\u001b[38;5;241m.\u001b[39mparse(\u001b[43mhandle\u001b[49m, \u001b[38;5;124m\"\u001b[39m\u001b[38;5;124mfasta\u001b[39m\u001b[38;5;124m\"\u001b[39m, seq_count\u001b[38;5;241m=\u001b[39m\u001b[38;5;241m2\u001b[39m):\n\u001b[0;32m      2\u001b[0m     \u001b[38;5;28mprint\u001b[39m(\u001b[38;5;124m\"\u001b[39m\u001b[38;5;124mAlignment length \u001b[39m\u001b[38;5;132;01m%i\u001b[39;00m\u001b[38;5;124m\"\u001b[39m \u001b[38;5;241m%\u001b[39m alignment\u001b[38;5;241m.\u001b[39mget_alignment_length())\n\u001b[0;32m      3\u001b[0m     \u001b[38;5;28;01mfor\u001b[39;00m record \u001b[38;5;129;01min\u001b[39;00m alignment:\n",
      "\u001b[1;31mNameError\u001b[0m: name 'handle' is not defined"
     ]
    }
   ],
   "source": [
    "for alignment in AlignIO.parse(handle, \"fasta\", seq_count=2):\n",
    "    print(\"Alignment length %i\" % alignment.get_alignment_length())\n",
    "    for record in alignment:\n",
    "        print(\"%s - %s\" % (record.seq, record.id))\n",
    "    print(\"\")\n"
   ]
  },
  {
   "cell_type": "markdown",
   "metadata": {},
   "source": [
    "\n",
    "Using `Bio.AlignIO.read()` or `Bio.AlignIO.parse()` without the\n",
    "`seq_count` argument would give a single alignment containing all six\n",
    "records for the first two examples. For the third example, an exception\n",
    "would be raised because the lengths differ preventing them being turned\n",
    "into a single alignment.\n",
    "\n",
    "If the file format itself has a block structure allowing `Bio.AlignIO`\n",
    "to determine the number of sequences in each alignment directly, then\n",
    "the `seq_count` argument is not needed. If it is supplied, and doesn’t\n",
    "agree with the file contents, an error is raised.\n",
    "\n",
    "Note that this optional `seq_count` argument assumes each alignment in\n",
    "the file has the same number of sequences. Hypothetically you may come\n",
    "across stranger situations, for example a FASTA file containing several\n",
    "alignments each with a different number of sequences – although I would\n",
    "love to hear of a real world example of this. Assuming you cannot get\n",
    "the data in a nicer file format, there is no straight forward way to\n",
    "deal with this using `Bio.AlignIO`. In this case, you could consider\n",
    "reading in the sequences themselves using `Bio.SeqIO` and batching them\n",
    "together to create the alignments as appropriate.\n",
    "\n",
    "Writing Alignments\n",
    "------------------\n",
    "\n",
    "We’ve talked about using `Bio.AlignIO.read()` and `Bio.AlignIO.parse()`\n",
    "for alignment input (reading files), and now we’ll look at\n",
    "`Bio.AlignIO.write()` which is for alignment output (writing files).\n",
    "This is a function taking three arguments: some `MultipleSeqAlignment`\n",
    "objects (or for backwards compatibility the obsolete `Alignment`\n",
    "objects), a handle or filename to write to, and a sequence format.\n",
    "\n",
    "Here is an example, where we start by creating a few\n",
    "`MultipleSeqAlignment` objects the hard way (by hand, rather than by\n",
    "loading them from a file). Note we create some `SeqRecord` objects to\n",
    "construct the alignment from.\n",
    "\n"
   ]
  },
  {
   "cell_type": "code",
   "execution_count": 9,
   "metadata": {
    "collapsed": true,
    "jupyter": {
     "outputs_hidden": true
    }
   },
   "outputs": [],
   "source": [
    "from Bio.Alphabet import generic_dna\n",
    "from Bio.Seq import Seq\n",
    "from Bio.SeqRecord import SeqRecord\n",
    "from Bio.Align import MultipleSeqAlignment\n",
    "\n",
    "align1 = MultipleSeqAlignment([\n",
    "             SeqRecord(Seq(\"ACTGCTAGCTAG\", generic_dna), id=\"Alpha\"),\n",
    "             SeqRecord(Seq(\"ACT-CTAGCTAG\", generic_dna), id=\"Beta\"),\n",
    "             SeqRecord(Seq(\"ACTGCTAGDTAG\", generic_dna), id=\"Gamma\"),\n",
    "         ])\n",
    "\n",
    "align2 = MultipleSeqAlignment([\n",
    "             SeqRecord(Seq(\"GTCAGC-AG\", generic_dna), id=\"Delta\"),\n",
    "             SeqRecord(Seq(\"GACAGCTAG\", generic_dna), id=\"Epsilon\"),\n",
    "             SeqRecord(Seq(\"GTCAGCTAG\", generic_dna), id=\"Zeta\"),\n",
    "         ])\n",
    "\n",
    "align3 = MultipleSeqAlignment([\n",
    "             SeqRecord(Seq(\"ACTAGTACAGCTG\", generic_dna), id=\"Eta\"),\n",
    "             SeqRecord(Seq(\"ACTAGTACAGCT-\", generic_dna), id=\"Theta\"),\n",
    "             SeqRecord(Seq(\"-CTACTACAGGTG\", generic_dna), id=\"Iota\"),\n",
    "         ])\n",
    "\n",
    "my_alignments = [align1, align2, align3]"
   ]
  },
  {
   "cell_type": "markdown",
   "metadata": {},
   "source": [
    "\n",
    "Now we have a list of `Alignment` objects, we’ll write them to a PHYLIP\n",
    "format file:\n",
    "\n"
   ]
  },
  {
   "cell_type": "code",
   "execution_count": 10,
   "metadata": {},
   "outputs": [
    {
     "data": {
      "text/plain": [
       "3"
      ]
     },
     "execution_count": 10,
     "metadata": {},
     "output_type": "execute_result"
    }
   ],
   "source": [
    "from Bio import AlignIO\n",
    "AlignIO.write(my_alignments, \"my_example.phy\", \"phylip\")"
   ]
  },
  {
   "cell_type": "markdown",
   "metadata": {},
   "source": [
    "\n",
    "And if you open this file in your favourite text editor it should look\n",
    "like this:\n",
    "\n"
   ]
  },
  {
   "cell_type": "markdown",
   "metadata": {},
   "source": [
    "```\n",
    "3 12\n",
    "Alpha      ACTGCTAGCT AG\n",
    "Beta       ACT-CTAGCT AG\n",
    "Gamma      ACTGCTAGDT AG\n",
    " 3 9\n",
    "Delta      GTCAGC-AG\n",
    "Epislon    GACAGCTAG\n",
    "Zeta       GTCAGCTAG\n",
    " 3 13\n",
    "Eta        ACTAGTACAG CTG\n",
    "Theta      ACTAGTACAG CT-\n",
    "Iota       -CTACTACAG GTG\n",
    "\n",
    "```"
   ]
  },
  {
   "cell_type": "markdown",
   "metadata": {},
   "source": [
    "\n",
    "Its more common to want to load an existing alignment, and save that,\n",
    "perhaps after some simple manipulation like removing certain rows or\n",
    "columns.\n",
    "\n",
    "Suppose you wanted to know how many alignments the `Bio.AlignIO.write()`\n",
    "function wrote to the handle? If your alignments were in a list like the\n",
    "example above, you could just use `len(my_alignments)`, however you\n",
    "can’t do that when your records come from a generator/iterator.\n",
    "Therefore the `Bio.AlignIO.write()` function returns the number of\n",
    "alignments written to the file.\n",
    "\n",
    "*Note* - If you tell the `Bio.AlignIO.write()` function to write to a\n",
    "file that already exists, the old file will be overwritten without any\n",
    "warning.\n",
    "\n",
    "### Converting between sequence alignment file formats {#sec:converting-alignments}\n",
    "\n",
    "Converting between sequence alignment file formats with `Bio.AlignIO`\n",
    "works in the same way as converting between sequence file formats with\n",
    "`Bio.SeqIO` (Section \\[sec:SeqIO-conversion\\]). We load generally the\n",
    "alignment(s) using `Bio.AlignIO.parse()` and then save them using the\n",
    "`Bio.AlignIO.write()` – or just use the `Bio.AlignIO.convert()` helper\n",
    "function.\n",
    "\n",
    "For this example, we’ll load the PFAM/Stockholm format file used earlier\n",
    "and save it as a Clustal W format file:\n",
    "\n"
   ]
  },
  {
   "cell_type": "code",
   "execution_count": 35,
   "metadata": {},
   "outputs": [
    {
     "name": "stdout",
     "output_type": "stream",
     "text": [
      "Converted 1 alignments\n"
     ]
    }
   ],
   "source": [
    "from Bio import AlignIO\n",
    "count = AlignIO.convert(\"SEED.ann\", \"stockholm\", \"PF02932_seed.aln\", \"clustal\")\n",
    "print(\"Converted %i alignments\" % count)"
   ]
  },
  {
   "cell_type": "markdown",
   "metadata": {},
   "source": [
    "\n",
    "Or, using `Bio.AlignIO.parse()` and `Bio.AlignIO.write()`:\n",
    "\n"
   ]
  },
  {
   "cell_type": "code",
   "execution_count": 36,
   "metadata": {},
   "outputs": [
    {
     "name": "stdout",
     "output_type": "stream",
     "text": [
      "Converted 1 alignments\n"
     ]
    }
   ],
   "source": [
    "from Bio import AlignIO\n",
    "alignments = AlignIO.parse(\"SEED.ann\", \"stockholm\")\n",
    "count = AlignIO.write(alignments, \"PF02932_seed.aln\", \"clustal\")\n",
    "print(\"Converted %i alignments\" % count)"
   ]
  },
  {
   "cell_type": "markdown",
   "metadata": {},
   "source": [
    "\n",
    "The `Bio.AlignIO.write()` function expects to be given multiple\n",
    "alignment objects. In the example above we gave it the alignment\n",
    "iterator returned by `Bio.AlignIO.parse()`.\n",
    "\n",
    "In this case, we know there is only one alignment in the file so we\n",
    "could have used `Bio.AlignIO.read()` instead, but notice we have to pass\n",
    "this alignment to `Bio.AlignIO.write()` as a single element list:\n",
    "\n"
   ]
  },
  {
   "cell_type": "code",
   "execution_count": 37,
   "metadata": {},
   "outputs": [
    {
     "data": {
      "text/plain": [
       "1"
      ]
     },
     "execution_count": 37,
     "metadata": {},
     "output_type": "execute_result"
    }
   ],
   "source": [
    "from Bio import AlignIO\n",
    "alignment = AlignIO.read(\"SEED.ann\", \"stockholm\")\n",
    "AlignIO.write([alignment], \"PF02932_seed.aln\", \"clustal\")"
   ]
  },
  {
   "cell_type": "markdown",
   "metadata": {},
   "source": [
    "\n",
    "Either way, you should end up with the same new Clustal W format file\n",
    "“PF05371\\_seed.aln” with the following content:\n",
    "\n"
   ]
  },
  {
   "cell_type": "markdown",
   "metadata": {},
   "source": [
    "```\n",
    "CLUSTAL X (1.81) multiple sequence alignment\n",
    "\n",
    "\n",
    "COATB_BPIKE/30-81                   AEPNAATNYATEAMDSLKTQAIDLISQTWPVVTTVVVAGLVIRLFKKFSS\n",
    "Q9T0Q8_BPIKE/1-52                   AEPNAATNYATEAMDSLKTQAIDLISQTWPVVTTVVVAGLVIKLFKKFVS\n",
    "COATB_BPI22/32-83                   DGTSTATSYATEAMNSLKTQATDLIDQTWPVVTSVAVAGLAIRLFKKFSS\n",
    "COATB_BPM13/24-72                   AEGDDP---AKAAFNSLQASATEYIGYAWAMVVVIVGATIGIKLFKKFTS\n",
    "COATB_BPZJ2/1-49                    AEGDDP---AKAAFDSLQASATEYIGYAWAMVVVIVGATIGIKLFKKFAS\n",
    "Q9T0Q9_BPFD/1-49                    AEGDDP---AKAAFDSLQASATEYIGYAWAMVVVIVGATIGIKLFKKFTS\n",
    "COATB_BPIF1/22-73                   FAADDATSQAKAAFDSLTAQATEMSGYAWALVVLVVGATVGIKLFKKFVS\n",
    "\n",
    "COATB_BPIKE/30-81                   KA\n",
    "Q9T0Q8_BPIKE/1-52                   RA\n",
    "COATB_BPI22/32-83                   KA\n",
    "COATB_BPM13/24-72                   KA\n",
    "COATB_BPZJ2/1-49                    KA\n",
    "Q9T0Q9_BPFD/1-49                    KA\n",
    "COATB_BPIF1/22-73                   RA\n",
    "\n",
    "```"
   ]
  },
  {
   "cell_type": "markdown",
   "metadata": {},
   "source": [
    "\n",
    "Alternatively, you could make a PHYLIP format file which we’ll name\n",
    "“PF05371\\_seed.phy”:\n",
    "\n"
   ]
  },
  {
   "cell_type": "code",
   "execution_count": 38,
   "metadata": {},
   "outputs": [
    {
     "data": {
      "text/plain": [
       "1"
      ]
     },
     "execution_count": 38,
     "metadata": {},
     "output_type": "execute_result"
    }
   ],
   "source": [
    "from Bio import AlignIO\n",
    "AlignIO.convert(\"SEED.ann\", \"stockholm\", \"PF02932_seed.phy\", \"phylip\")"
   ]
  },
  {
   "cell_type": "markdown",
   "metadata": {},
   "source": [
    "\n",
    "This time the output looks like this:\n",
    "\n"
   ]
  },
  {
   "cell_type": "markdown",
   "metadata": {},
   "source": [
    "```\n",
    "7 52\n",
    "COATB_BPIK AEPNAATNYA TEAMDSLKTQ AIDLISQTWP VVTTVVVAGL VIRLFKKFSS\n",
    "Q9T0Q8_BPI AEPNAATNYA TEAMDSLKTQ AIDLISQTWP VVTTVVVAGL VIKLFKKFVS\n",
    "COATB_BPI2 DGTSTATSYA TEAMNSLKTQ ATDLIDQTWP VVTSVAVAGL AIRLFKKFSS\n",
    "COATB_BPM1 AEGDDP---A KAAFNSLQAS ATEYIGYAWA MVVVIVGATI GIKLFKKFTS\n",
    "COATB_BPZJ AEGDDP---A KAAFDSLQAS ATEYIGYAWA MVVVIVGATI GIKLFKKFAS\n",
    "Q9T0Q9_BPF AEGDDP---A KAAFDSLQAS ATEYIGYAWA MVVVIVGATI GIKLFKKFTS\n",
    "COATB_BPIF FAADDATSQA KAAFDSLTAQ ATEMSGYAWA LVVLVVGATV GIKLFKKFVS\n",
    "\n",
    "           KA\n",
    "           RA\n",
    "           KA\n",
    "           KA\n",
    "           KA\n",
    "           KA\n",
    "           RA\n",
    "\n",
    "```"
   ]
  },
  {
   "cell_type": "markdown",
   "metadata": {},
   "source": [
    "\n",
    "One of the big handicaps of the original PHYLIP alignment file format is\n",
    "that the sequence identifiers are strictly truncated at ten characters.\n",
    "In this example, as you can see the resulting names are still unique -\n",
    "but they are not very readable. As a result, a more relaxed variant of\n",
    "the original PHYLIP format is now quite widely used:\n",
    "\n"
   ]
  },
  {
   "cell_type": "code",
   "execution_count": 39,
   "metadata": {},
   "outputs": [
    {
     "data": {
      "text/plain": [
       "1"
      ]
     },
     "execution_count": 39,
     "metadata": {},
     "output_type": "execute_result"
    }
   ],
   "source": [
    "from Bio import AlignIO\n",
    "AlignIO.convert(\"SEED.ann\", \"stockholm\", \"PF02932_seed.phy\", \"phylip-relaxed\")"
   ]
  },
  {
   "cell_type": "markdown",
   "metadata": {},
   "source": [
    "\n",
    "This time the output looks like this, using a longer indentation to\n",
    "allow all the identifers to be given in full::\n",
    "\n"
   ]
  },
  {
   "cell_type": "markdown",
   "metadata": {},
   "source": [
    "```\n",
    "7 52\n",
    "COATB_BPIKE/30-81  AEPNAATNYA TEAMDSLKTQ AIDLISQTWP VVTTVVVAGL VIRLFKKFSS\n",
    "Q9T0Q8_BPIKE/1-52  AEPNAATNYA TEAMDSLKTQ AIDLISQTWP VVTTVVVAGL VIKLFKKFVS\n",
    "COATB_BPI22/32-83  DGTSTATSYA TEAMNSLKTQ ATDLIDQTWP VVTSVAVAGL AIRLFKKFSS\n",
    "COATB_BPM13/24-72  AEGDDP---A KAAFNSLQAS ATEYIGYAWA MVVVIVGATI GIKLFKKFTS\n",
    "COATB_BPZJ2/1-49   AEGDDP---A KAAFDSLQAS ATEYIGYAWA MVVVIVGATI GIKLFKKFAS\n",
    "Q9T0Q9_BPFD/1-49   AEGDDP---A KAAFDSLQAS ATEYIGYAWA MVVVIVGATI GIKLFKKFTS\n",
    "COATB_BPIF1/22-73  FAADDATSQA KAAFDSLTAQ ATEMSGYAWA LVVLVVGATV GIKLFKKFVS\n",
    "\n",
    "                   KA\n",
    "                   RA\n",
    "                   KA\n",
    "                   KA\n",
    "                   KA\n",
    "                   KA\n",
    "                   RA\n",
    "\n",
    "```"
   ]
  },
  {
   "cell_type": "markdown",
   "metadata": {},
   "source": [
    "\n",
    "If you have to work with the original strict PHYLIP format, then you may\n",
    "need to compress the identifers somehow – or assign your own names or\n",
    "numbering system. This following bit of code manipulates the record\n",
    "identifiers before saving the output:\n",
    "\n"
   ]
  },
  {
   "cell_type": "code",
   "execution_count": 40,
   "metadata": {},
   "outputs": [
    {
     "name": "stdout",
     "output_type": "stream",
     "text": [
      "{0: 'ACHA2_RAT/249-502', 1: 'ACHA2_CHICK/247-519', 2: 'ACHA4_CHICK/245-613', 3: 'ACHA4_RAT/252-622', 4: 'ACHA3_CARAU/240-503', 5: 'ACHA3_CHICK/239-486', 6: 'ACHAA_XENLA/238-446', 7: 'ACHB3_RAT/246-452', 8: 'ACHN2_CARAU/242-446', 9: 'B4HH26_DROSE/268-544', 10: 'ACH1_SCHGR/249-526', 11: 'B4QT71_DROSI/252-480', 12: 'ACH1_DROME/247-531', 13: 'ACHA7_CHICK/237-487', 14: '5HT3A_MOUSE/253-478', 15: 'GBRA6_MOUSE/247-437', 16: 'GBRA4_BOVIN/263-539', 17: 'GBRG1_RAT/277-459', 18: 'GBRG2_BOVIN/279-469', 19: 'GBRG3_MOUSE/260-461', 20: 'GBRG4_CHICK/262-451', 21: 'GBRR2_HUMAN/268-461', 22: 'GBRR1_HUMAN/288-475', 23: 'GBRB_LYMST/256-493', 24: 'GBRB3_CHICK/250-471', 25: 'GBRB4_CHICK/249-483', 26: 'GBRB1_BOVIN/250-469', 27: 'GLRB_RAT/273-492', 28: 'G3REP2_GORGO/255-443', 29: 'GBRB_DROME/274-586', 30: 'GBRD_MOUSE/254-444', 31: 'GBRA3_BOVIN/282-475', 32: 'A0A452F9D8_CAPHI/257-439', 33: 'A0A2I3GX20_NOMLE/264-445', 34: 'ACHD_TETCF/253-494', 35: 'B7ZQ13_XENLA/255-493', 36: 'ACHD_BOVIN/252-488', 37: 'ACHD_CHICK/252-485', 38: 'ACHG_CHICK/249-491', 39: 'ACHG_BOVIN/248-494', 40: 'ACHG_XENLA/242-486', 41: 'ACHE_BOVIN/247-474', 42: 'ACHG_TETCF/243-484', 43: 'ACHB_TETCF/248-479', 44: 'ACHB_BOVIN/253-491', 45: 'ACH3_DROME/243-499', 46: 'ACHB2_CHICK/234-467', 47: 'ACHB4_CHICK/219-456', 48: 'ACHB4_RAT/238-481', 49: 'ACHB2_CARAU/211-439'}\n"
     ]
    },
    {
     "data": {
      "text/plain": [
       "1"
      ]
     },
     "execution_count": 40,
     "metadata": {},
     "output_type": "execute_result"
    }
   ],
   "source": [
    "from Bio import AlignIO\n",
    "alignment = AlignIO.read(\"SEED.ann\", \"stockholm\")\n",
    "name_mapping = {}\n",
    "for i, record in enumerate(alignment):\n",
    "    name_mapping[i] = record.id\n",
    "    record.id = \"seq%i\" % i\n",
    "print(name_mapping)\n",
    "\n",
    "AlignIO.write([alignment], \"PF02932_seed.phy\", \"phylip\")"
   ]
  },
  {
   "cell_type": "markdown",
   "metadata": {},
   "source": [
    "\n",
    "Here is the new (strict) PHYLIP format output:\n",
    "\n"
   ]
  },
  {
   "cell_type": "markdown",
   "metadata": {},
   "source": [
    "```\n",
    "7 52\n",
    "seq0       AEPNAATNYA TEAMDSLKTQ AIDLISQTWP VVTTVVVAGL VIRLFKKFSS\n",
    "seq1       AEPNAATNYA TEAMDSLKTQ AIDLISQTWP VVTTVVVAGL VIKLFKKFVS\n",
    "seq2       DGTSTATSYA TEAMNSLKTQ ATDLIDQTWP VVTSVAVAGL AIRLFKKFSS\n",
    "seq3       AEGDDP---A KAAFNSLQAS ATEYIGYAWA MVVVIVGATI GIKLFKKFTS\n",
    "seq4       AEGDDP---A KAAFDSLQAS ATEYIGYAWA MVVVIVGATI GIKLFKKFAS\n",
    "seq5       AEGDDP---A KAAFDSLQAS ATEYIGYAWA MVVVIVGATI GIKLFKKFTS\n",
    "seq6       FAADDATSQA KAAFDSLTAQ ATEMSGYAWA LVVLVVGATV GIKLFKKFVS\n",
    "\n",
    "           KA\n",
    "           RA\n",
    "           KA\n",
    "           KA\n",
    "           KA\n",
    "           KA\n",
    "           RA\n",
    "\n",
    "```"
   ]
  },
  {
   "cell_type": "markdown",
   "metadata": {},
   "source": [
    "\n",
    "In general, because of the identifier limitation, working with *strict*\n",
    "PHYLIP file formats shouldn’t be your first choice. Using the\n",
    "PFAM/Stockholm format on the other hand allows you to record a lot of\n",
    "additional annotation too.\n",
    "\n",
    "### Getting your alignment objects as formatted strings {#sec:alignment-format-method}\n",
    "\n",
    "The `Bio.AlignIO` interface is based on handles, which means if you want\n",
    "to get your alignment(s) into a string in a particular file format you\n",
    "need to do a little bit more work (see below). However, you will\n",
    "probably prefer to take advantage of the alignment object’s `format()`\n",
    "method. This takes a single mandatory argument, a lower case string\n",
    "which is supported by `Bio.AlignIO` as an output format. For example:\n",
    "\n"
   ]
  },
  {
   "cell_type": "markdown",
   "metadata": {},
   "source": [
    "```\n",
    "from Bio import AlignIO\n",
    "alignment = AlignIO.read(\"PF05371_seed.sth\", \"stockholm\")\n",
    "print(alignment.format(\"clustal\"))\n",
    "\n",
    "```"
   ]
  },
  {
   "cell_type": "markdown",
   "metadata": {},
   "source": [
    "\n",
    "As described in Section \\[sec:SeqRecord-format\\], the `SeqRecord` object\n",
    "has a similar method using output formats supported by `Bio.SeqIO`.\n",
    "\n",
    "Internally the `format()` method is using the `StringIO` string based\n",
    "handle and calling `Bio.AlignIO.write()`. You can do this in your own\n",
    "code if for example you are using an older version of Biopython:\n",
    "\n"
   ]
  },
  {
   "cell_type": "markdown",
   "metadata": {},
   "source": [
    "```\n",
    "from Bio import AlignIO\n",
    "from StringIO import StringIO\n",
    "\n",
    "alignments = AlignIO.parse(\"PF05371_seed.sth\", \"stockholm\")\n",
    "\n",
    "out_handle = StringIO()\n",
    "AlignIO.write(alignments, out_handle, \"clustal\")\n",
    "clustal_data = out_handle.getvalue()\n",
    "\n",
    "print(clustal_data)\n",
    "\n",
    "```"
   ]
  },
  {
   "cell_type": "markdown",
   "metadata": {},
   "source": [
    "\n",
    "Manipulating Alignments {#sec:manipulating-alignments}\n",
    "-----------------------\n",
    "\n",
    "Now that we’ve covered loading and saving alignments, we’ll look at what\n",
    "else you can do with them.\n",
    "\n",
    "### Slicing alignments\n",
    "\n",
    "First of all, in some senses the alignment objects act like a Python\n",
    "`list` of `SeqRecord` objects (the rows). With this model in mind\n",
    "hopefully the actions of `len()` (the number of rows) and iteration\n",
    "(each row as a `SeqRecord`) make sense:\n",
    "\n"
   ]
  },
  {
   "cell_type": "code",
   "execution_count": 41,
   "metadata": {},
   "outputs": [
    {
     "name": "stdout",
     "output_type": "stream",
     "text": [
      "Number of rows: 50\n"
     ]
    }
   ],
   "source": [
    "from Bio import AlignIO\n",
    "alignment = AlignIO.read(\"SEED.ann\", \"stockholm\")\n",
    "print(\"Number of rows: %i\" % len(alignment))"
   ]
  },
  {
   "cell_type": "code",
   "execution_count": 42,
   "metadata": {},
   "outputs": [
    {
     "name": "stdout",
     "output_type": "stream",
     "text": [
      "LIIPCLLISCLTVLVFYLPSEC-GEKITLCISVLLSLTVFLLLITEIIP-STSLVIPLIGEYLLFTMIFVTLSIVITVFVLNVHH--RSPST-HNMPNWVRVALLGRVPRWLMMNRPLPPMELHGSPDLKLS---------------------------------------------------------------PSYHWLETNMDAGEREETEEEE-----------------EEEDENICVCAG---------------------------------------------------------------LPDSSMGVLYGHGGLHLRAMEPETKTPSQASE---------------------ILLSP--QIQKALEGVHYIA------DRLRSEDADSSVKEDWKYVAMVVDRIFLWLFIIVCFLGTIGLF - ACHA2_RAT/249-502\n",
      "LIIPCLLISCLTVLVFYLPSDC-GEKITLCISVLLSLTVFLLLITEIIP-STSLVIPLIGEYLLFTMIFVTLSIIITVFVLNVHH--RSPST-HTMPHWVRSFFLGFIPRWLFMKRPPLLLPAEGTT----------------------------------GQYDPP----------------------------GTRLSTSRCWLETDVDDKWEEE-----------------EEEEEEEEEEEE-------------------------------------------------E-------------EKAYPSRVPSGGSQGTQCHYSCERQAGKASGGPAPQVPLKGEEVGSDQG----LTLSP--SILRALEGVQYIA------DHLRAEDADFSVKEDWKYVAMVIDRIFLWMFIIVCLLGTVGLF - ACHA2_CHICK/247-519\n",
      "LIIPCLLISCLTVLVFYLPSEC-GEKITLCISVLLSLTVFLLLITEIIP-STSLVIPLIGEYLLFTMIFVTLSIIITVFVLNVHH--RSPRT-HTMPDWVRRVFLDIVPRLLFMKRPSTVKDNCKKLIESMHKLTNSPRLWSETDMEPNFTTSSSPSPQSNEPSPTS----------------------------SFCAHLEEPAKPMCKSPSGQYSMLHP-------------EPPQVTCSSPKPSCHPLSDTQTTSISKGRSLSVQQMYSPNKTEEGSIRCRSRSIQYCYLQEDSSQTNGHSSASPASQRCHLNEEQPQHKPHQCKCKCRKGEAAGTPTQGSKSHSNKGEHL--------VLMSP--ALKLAVEGVHYIA------DHLRAEDADFSVKEDWKYVAMVIDRIFLWMFIIVCLLGTVGLF - ACHA4_CHICK/245-613\n",
      "LIIPCLLISCLTVLVFYLPSEC-GEKVTLCISVLLSLTVFLLLITEIIPSPTSLVIPLIGEYLLFTMIFVTLSIVITVFVLNVHH--RSPRT-HTMPAWVRRVFLDIVPRLLFMKRPSVVKDNCRRLIESMHKMANAPRFWPEPVGEPGILSDICNQGLSPAPTFCNPTDTAVETQPTCRSPPLEVPDLKTSEVEKASPCPSPGSCPPPKSSSGAPMLIKARSLSVQHVPSSQEAAEDGIRCRSRSIQYCVSQDG----------------------------------------AASLADSKPTSSPTSLKARPSQLPVSDQASPCKCTCKEPSPVSPVTVLKAGGTKAPPQH--------LPLSP--ALTRAVEGVQYIA------DHLKAEDTDFSVKEDWKYVAMVIDRIFLWMFIIVCLLGTVGLF - ACHA4_RAT/252-622\n",
      "LIIPCLLISFLTILVFYLPSDC-GEKVTLCISVLLSLTVFLLVITETIP-STSLVIPLIGEYLLFTMIFVTLSIVITVFVLNVHY--RTPMT-HTMPSWVRTVFLRALPRVMLMRRPIDLSESSGKGG---------------------------------GEIAGS----------------------------SGTGGGRGAEGKKMKSSASQQG-----------------AMNSLEFGEGKA-------------------------------------------------A-------------LEGKKGGCPCHPIKEAIEGDCGKVSRQLTPQAINTVVTF--------------SVVSP--EIKQAIESVKYIA------ENMRSRNKAKEVEDDWKYVAMVIDRIFLWVFVLVCVLGTLGLF - ACHA3_CARAU/240-503\n",
      "MIIPCLLISFLTVLVFYLPSDC-GEKVTLCISVLLSLTVFLLVITETIP-STSLVIPLIGEYLLFTMIFVTLSIVITVFVLNVHY--RTPKT-HTMPVWVRTIFLNLLPRIMFMTRPTSDEENNQK-------------------------------------------------------------------------------------PKPFYT-----------------SEFSNLNCFNSS-------------------------------------------------E-------------IKCCKDGFVCQDMACSCCQYQRMKFSDFSGNLTRSSSSESVDPLFSF------SVLSP--EMRDAIESVKYIA------ENMKMQNEAKEIQDDWKYVAMVIDRIFLWVFILVCILGTAGLF - ACHA3_CHICK/239-486\n",
      "VVIPCLLFSFLTGLVFYLPTDS-GEKITLSVSVLLSLVVFLLVIVELIP-STSSAVPLIGKYMLFTMVFVIASIVITVIVINTHH--RSPST-HIMPQWLKKIFIETIPRVMFFS----------------------------------------------------------------------------------------------------TM-----------------KRPAQDQHKKKI-------------------------------------------------F-------------TEDIDISDISGKLGPTAVKYQSP------------------------------ILKNP--DVKSAIEGAKYVA------ETMKSDQESTKASEEWKFVAMVLDHLLLAVFMIVCIIGTLAIF - ACHAA_XENLA/238-446\n",
      "LIIPCLGLSFLTVLVFYLPSDE-GEKLSLSTSVLVSLTVFLLVIEEIIP-SSSKVIPLIGEYLLFIMIFVTLSIIVTVFVINVHH--RSSSTYHPMAPWVKRLFLQRLPRWLCMKDP----------------------------------------------------------------------------------------------------------------------MDRFSFPDGKE---------------------------------------------------------------SDTAVRGKVSGKRKQTPASDGE-------------------------------RVLVA--FLEKASESIRYIS------RHVKKEHFISQVVQDWKFVAQVLDRIFLWLFLIASVLGSILIF - ACHB3_RAT/246-452\n",
      "LIIPCLGLSFLTVLVFYLPSDE-GEKVSLSTSVLVSLTVFLLVIEEIIP-SSSKVIPLIGEYLLFIMIFVTLSIIVTIFVINVHH--RSSATYHPMSPWVRSLFLQRLPHLLCMRG----------------------------------------------------------------------------------------------------------------------NTDRYHYPELEP-------------------------------------------------H-------------SPDLKPRNKKGPPGPEGEG----------------------------------QALIN--LLEQATNSVRYIS------RHIKKEHFIREVVQDWKFVAQVLDRIFLWTFLTVSVLGTILIF - ACHN2_CARAU/242-446\n",
      "LIIPCVGISYLSVLVFYLPADS-GEKIALCISILLSQTMFFLLISEIIP-STSLALPLLGKYLLFTMLLVGLSVVITIIILNIHY--RKPST-HKMRPWIRSFFIKRLPKLLLMRVPKDLLRDLAAN----------------------------------KINYGL----------------------------KFSKTKFGQALMDEMQMNSGGS-----------------SPDSLRRMQGRV-------------------------------------------------GAGGCNGMHVTTATNRFSGLVGALGGGLSTLSGYNGLPSVLSGLDDSLSDVAA--------------RKKYPF-ELEKAIHNVMFIQ------HHMQRQDEFNAEDQDWGFVAMVMDRLFLWLFMIASLVGTFVIL - B4HH26_DROSE/268-544\n",
      "LIVPCVGISYLSVLVFYLPADS-GEKIALCISILLSQTMFFLLISEIIP-STSLALPLLGKYLLFTMVLVGLSVVITIMVLNVHY--RKPST-HKMAPWVRKVFIRRLPKLLLMRVPEQLLADLASK----------------------------------RLLRHA----------------------------HNSKLSAAAAAAVAAAASSSAA-----------------SSPDSLRHHHLH-------------------------------------------------Q-------------HQHQHHLQLHHLQRPGGCNGLHSATNRFGGSAGAFGGLPSVVGLDGSLSDVATRKKYP-FELEKAIHNVLFIQ------NHMQRQDEFDAEDQDWGFVAMVLDRLFLWIFTIASIVGTFAIL - ACH1_SCHGR/249-526\n",
      "LIVPCVALTFLTVLVFYLPSDS-GEKVTLCISILVSLTVFFLLLAEIIP-PTSLAVPLLGKYLLFTMILVSLSVWTTVCVLNIHF--RSPST-HNMSPLVRKLFLHFMPKLMMMRRTQYTLPDYDD-------------------------------------------------------------------------------------STPSNG-----------------YTNEIDVRDSIS-------------------------------------------------D-------------FPSEFKDSQDGAYDNGMQNSVDSDNVIP-------------------------RNLTP--EVLQALRAVRFIA------QHIKDADKDNEIVEDWKFVSMVLDRFFLWLFTLSCVFGTLAII - B4QT71_DROSI/252-480\n",
      "LIIPCVGISFLSVLVFYLPSDS-GEKISLCISILLSLTVFFLLLAEIIP-PTSLTVPLLGKYLLFTMMLVTLSVVVTIAVLNVNF--RSPVT-HRMAPWVQRLFIQILPKLLCIERPKKEEPEEDQPPEVLTDVYHLPPDVD-----------------------------------------------------KFVNYDSKRFSGDYGIPALPAS-----------------HRFDLAAAGGIS-------------------------------------------------AHCFAEPPLPSSLPLPGADDDLFSPSGLNGDISPGCCPAAAAAAAADLSPTFE--------------KPYAR--EMEKTIEGSRFIA------QHVKNKDKFESVEEDWKYVAMVLDRMFLWIFAIACVVGTALII - ACH1_DROME/247-531\n",
      "LLIPCVLISALALLVFLLPADS-GEKISLGITVLLSLTVFMLLVAEIMP-ATSDSVPLIAQYFASTMIIVGLSVVVTVIVLQYHH--HDPDG-GKMPKWTRVILLNWCAWFLRMKRPGEDKVRPAC-----------------------------------QHKQRR----------------------------CSLSSMEMNTVS----GQQCSN-----------------GNMLYIGFRGLD-------------------------------------------------G-------------VHCTPTTDSGVICGRMTCSPTE--EENLLHSGHP-------------------SEGDP--DLAKILEEVRYIA------NRFRDQDEEEAICNEWKFAASVVDRLCLMAFSVFTIICTIGIL - ACHA7_CHICK/237-487\n",
      "LLLPSIFLMVVDIVGFCLPPDS-GERVSFKITLLLGYSVFLIIVSDTLP--ATIGTPLIGVYFVVCMALLVISLAETIFIVRLVH--KQDLQ-RPVPDWLRHLVLDRIAWILCLGEQPMAHRPPA------------------------------------------------------------------------------------------TF-----------------QANKTDDCSGSD-------------------------------------------------L-------------LPAMGNHCSHVGGPQDLEKTPR--GRGSPLPPP--------------------REASL--AVRGLLQELSSIR------HFLEKRDEMREVARDWLRVGYVLDRLLFRIYLLAVLAYSITLV - 5HT3A_MOUSE/253-478\n",
      "IYTPCIMTVILSQVSFWINKESVPARTVFGITTVLTMTTLSISARHSLP-KVSYATAMDW-FIAVCFAFVFSALIEFAAVNYFTN-LQSQKA-------ERQAQTAATPPVAK--------------------------------------------------------------------------------------------------SKASES-----------------LQAEIVVHSDSK-------------------------------------------------Y-----------------------HLKKRISSLTLP-------------------------------IVPSS--EASKALSRT----------PILKSTPVSPPLLLPATGGTSKIDQYSRILFPVAFAGFNLVYW - GBRA6_MOUSE/247-437\n",
      "TYIPCIMTVILSQVSFWINKESVPARTVFGITTVLTMTTLSISARHSLP-KVSYATAMDW-FIAVCFAFVFSALIEFAAVNYFTNVQMEKAK-RKTSKAPQEISAAPVLREKHPETPLQNTNANLSMRKRANALV--------------------------HSESDV----------------------------GSRTDVGNHSSKSSTVVQGSSE-----------------ATPQSYLASSPN-------------------------------------------------P-------------FSRANAAETISAARAIPSALPSTPSRTGYVPRQVPVGSASTQ-----------HVFGS--RLQRIKTTVNSIGT-----SGKLSATTTPSAPPPSGSGTSKIDKYARILFPVTFGAFNMVYW - GBRA4_BOVIN/263-539\n",
      "TYIPCILTVVLSWVSFWINKDAVPARTSLGITTVLTMTTLSTIARKSLP-KVSYVTAMDL-FVSVCFIFVFAALMEYGTLHYFTS--------NNKGKTTRDRKLK--------------------------------------------------------------------------------------------------------------------------------SKTSVSPGLHAG---------------------------------------------------------------STLIPMNNISMPQGEDDYGYQCLEGKDC-------------------------ATFFC--CFEDCRT------------GSWREGRIHIRIAK--------IDSYSRIFFPTAFALFNLVYW - GBRG1_RAT/277-459\n",
      "TYIPCTLIVVLSWVSFWINKDAVPARTSLGITTVLTMTTLSTIARKSLP-KVSYVTAMDL-FVSVCFIFVFSALVEYGTLHYFVS-NRKPS--KDKDKKKKNPLLRMFS-----------------------------------------------------------------------------------------------------------------------------FKAPTIDIRPRS---------------------------------------------------------------ATIQMNNATHLQERDEEYGYECLDGKDC-------------------------ASFFC--CFEDCRT------------GAWRHGRIHIRIAK--------MDSYARIFFPTAFCLFNLVYW - GBRG2_BOVIN/279-469\n",
      "TYIPCILTVVLSWVSFWIKKDATPARTTLGITTVLTMTTLSTIARKSLP-RVSYVTAMDL-FVTVCFLFVFAALMEYATLNYYSS-CRKPTIRKKKTSLLHPDSTRWIPDRISLQAP---------------------------------------------------------------------------------------------------------------------SNYSLLDMRPPP-------------------------------------------------P-------------VMITLNNSMYWQEFEDTCVYECLDGKDC-------------------------QSFFC--CYEECKS------------GSWRRGRIHIDVSE--------LDSYSRVFFPTSFLLFNLVYW - GBRG3_MOUSE/260-461\n",
      "TYIPCILTVVLSWVSFWIKRDSTPARTSLGITTVLTMTTLSTISRKHLP-RVSYITAMDL-FVSVCFIFVFAALMEYATLNYLVG-NKKPLEHSSRKARLPPAGAQVMPSFTAIN-----------------------------------------------------------------------------------------------------------------------ININNIMHWPPE------------------------------------------------------------------------IEEDEDDDPGSPCLEGKEC-------------------------ERFFC--CIEDCQT------------GMWREGRVRIHISR--------LDSYSRVFFPTAFLLFNIVYW - GBRG4_CHICK/262-451\n",
      "TYFPATLMVMLSWVSFWIDRRAVPARVSLGITTVLTMTTIITGVNASMP-RVSYVKAVDI-YLWVSFVFVFLSVLEYAAVNYL----------TTVQERKERKLREKFPCMCGM------------------------------------------------------------------------------------------------------------------------LHSKTMMLDGS----------------------------------------------------------------YSESEANSLAGYPRSHILTEEERQDKIVVH-----------------------LGLSG--EANAARK------------KGLLKGQTGFRIFQN----THAIDKYSRLIFPASYIFFNLIYW - GBRR2_HUMAN/268-461\n",
      "TYFPATLMVMLSWVSFWIDRRAVPARVPLGITTVLTMSTIITGVNASMP-RVSYIKAVDI-YLWVSFVFVFLSVLEYAAVNYL----------TTVQERKEQKLREKLPCTSGLPPP---------------------------------------------------------------------------------------------------------------------RTAMLDGNYSDG-------------------------------------------------E-------------VNDLDNYMPENGEKPDRMMVQLTLAS---------------------------ERSSP---------------------QRKSQRSSYVSMRID----THAIDKYSRIIFPAAYILFNLIYW - GBRR1_HUMAN/288-475\n",
      "TYLPSILIVMLSWVSFWINHEATSARVALGITTVLTMTTISNGVRSSLP-RISYVKAIDI-YLVMCFVFVFAALLEYAAVNYTYWGARAKRK-AKRLRERATSVRKRVDDGDQMNNTNMDTVELKEVHMVPTS------------------------------------------------------------------------------VGVTNS-----------------QSFNLDLDDGSG-------------------------------------------------D---------------DTGFRVVPPIPRSFTHSHATTHGYIPTNVVRRRSS----------------SHVPP--RRRRLL-------------SHFRQKAKSIKVKIPRVQDVNTIDKYARLMFPLLFIIFNTSYW - GBRB_LYMST/256-493\n",
      "TYMPSILITILSWVSFWINYDASAARVALGITTVLTMTTINTHLRETLP-KIPYVKAIDM-YLMGCFVFVFLALLEYAFVNYIFF-GKGPQR-QKKLAEKSAKANNDRSRFEGSRVDTH-------------------------------------------------------------------------------------------------------------------GNILLTSLEIHN-------------------------------------------------E-------------VASNEVTTSVTDARNSTISFDNSGIQYRKQSSH--------------------RESLG--RRSSDRTGSHSKR------GHLRRRSSQLKIKIPDLTDVNAIDRWSRMVFPFTFSLFNLIYW - GBRB3_CHICK/250-471\n",
      "TYMPSILITILSWVSFWINYDASAARVALGVTTVLTMTTINTHLRETLP-KIPYVKAIDV-YLMGCFVFVFLALLEYAFVNYIFF-GRGPRQ-QKKQSERISKANNERHRYEEKRVR----------------------------------------------------------------------------------------------EQVDPY-----------------GNILLSTLDMNN-------------------------------------------------E-------------LLATDMMSSVGDSRNSVMSFEGSGIQFRKPLASRDG-----------------FGHHP--TLDRHVPLTHHAAARNRANCRLRRRSSKLKLKIPDLTDVSTIDKWSRIIFPITFGFFNLVYW - GBRB4_CHICK/249-483\n",
      "TYMPSTLITILSWVSFWINYDASAARVALGITTVLTMTTISTHLRETLP-KIPYVKAIDI-YLMGCFVFVFLALLEYAFVNYIFF-GKGP---QKKGAGKQDQSANEKNKLEMNKVQVDAH-----------------------------------------------------------------------------------------------------------------GNILLSTLEIRN-------------------------------------------------E-------------TSGSEVLTGVGDPKTTMYSYDSASIQYRKPMSSR-------------------EGYGR--ALDRHGAHSK---------GRIRRRASQLKVKIPDLTDVNSIDKWSRMFFPITFSLFNVVYW - GBRB1_BOVIN/250-469\n",
      "VYAPTLLIVVLSWLSFWINPDASAARVPLGIFSVLSLASECTTLAAELP-KVSYVKALDV-WLIACLLFGFASLVEYAVVQVMLN--------NPKRVEAEKARIAKAEQADGKGGNAAKK------------------------------------------------------------------------------------------NTVNGT-----------------GTPVHISTLQVG-------------------------------------------------E-------------TRCKKVCTSKSDLRSNDFSIVGSLPRDFE------------------------LSNYD--CYGKPIEVNNGLG------KPQAKNKKPPPAKPVIPTAAKRIDLYARALFPFCFLFFNVIYW - GLRB_RAT/273-492\n",
      "MYIPSLLIVILSWISFWINMDAAPARVGLGITTVLTMTTQSSGSRASLP-KVSYVKAIDI-WMAVCLLFVFSALLEYAAVNFVSR-----QH-KELLRFRRKRRHHKSPMLNLFQED----------------------------------------------------------------------------------------------EAGEGR-----------------FNFSAYGMGPAC-------------------------------------------------L-------------QAKDGISVKGANNSNTTNPPPA-------------------------------PSKSP------------------------------EEMRKLFIQRAKKIDKISRIGFPMAFLIFNMFYW - G3REP2_GORGO/255-443\n",
      "IYIPSGLIVIISWVSFWLNRNATPARVALGVTTVLTMTTLMSSTNAALP-KISYVKSIDV-YLGTCFVMVFASLLEYATVGYMAK--RIQMR-KQRFMAIQKIAEQKKQQLDGANQQQANPNPNANVGGPGGVGVGPGGPGGPGGGVNVGVGMGMGPEHGHGHGHHA----------------------------HSHGHPHAPKQTVSNRPIGFSNIQQNVGTRGCSIVGPLFQEVRFKVHDPKA-------------------------------------------------H-------------SKGGTLENTVNGGRGGPQSHGPGPGQGGGPPGGGGGGG---------------GGGGP--PEGGGDPEAAVPA------HLLHPGKVKKDINKLLGITPSDIDKYSRIVFPVCFVCFNLMYW - GBRB_DROME/274-586\n",
      "SYMPSVLLVAMSWVSFWISQAAVPARVSLGITTVLTMTTLMVSARSSLP-RASAIKALDV-YFWICYVFVFAALVEYAFAHFNAD-YRKKRK-AKVKVTKPRAEMDVRNAIVLFSL-----------------------------------------------------------------------------------------------SAAGVS-----------------QELAISRRQGR----------------------------------------------------------------VPGNLMGSYRSVEVEAKKEGGS-------------------------------RPGGP---------------------GGIRSRLKPIDADT--------IDIYARAVFPAAFAAVNIIYW - GBRD_MOUSE/254-444\n",
      "TYLPCIMTVILSQVSFWLNRESVPARTVFGVTTVLTMTTLSISARNSLP-KVAYATAMDW-FMAVCYAFVFSALIEFATVNYFT---------KRSWAWEGK----KVPEALEMKKKTPAVP-----------------------------------------------------------------------------------------TKKTST-----------------TFNIVGTTYPIN-------------------------------------------------L-------------AKDTEFSAISKGAAPSTSSTPT-------------------------------IIASP---KTTCVQ------------DIPTETKTYNSVSK--------VDKISRIIFPVLFAIFNLVYW - GBRA3_BOVIN/282-475\n",
      "TYLPCIMTVILSQVSFWLNRESVPARTVFGVTTVLTMTTLSISARNSLP-KVAYATAMDW-FIAVCYAFVFSALIEFATVNYFT---------KRGYAWDGKSVVPEKPK----------------------------------------------------------------------------------------------------------------------------KVKDPLIKKNNT-------------------------------------------------Y-------------APTATSYTPNLARGDPGLATIAKS-----------------------------ATIEP---------------------KEVKPETKPPEPKKTFNSVSK-IDRLSRIAFPLLFGIFNLVYW - A0A452F9D8_CAPHI/257-439\n",
      "TYLPCIMTVILSQVSFWLNRESVPARTVFGVTTVLTMTTLSISARNSLP-KVAYATAMDW-FIAVCYAFVFSALIEFATVNYFT---------KRGWAWDGKKALEAAKIK---------------------------------------------------------------------------------------------------------------------------KKREVILNKSTN-------------------------------------------------A-------------FTTGKMSHPPNIPKEQTPAGTS-------------------------------NTTSV--SVKPSEE------------KTSESKKTYNSISK--------IDKMSRIVFPVLFGTFNLVYW - A0A2I3GX20_NOMLE/264-445\n",
      "FITPCVLISFLASLAFYLPAES-GEKMSTAISVLLAQAVFLLLTSQRLP-ETALAVPLIGKYLMFIMSLVTGVIVNCGIVLNFHF--RTPST-HVLSTRVKQIFLEKLPRILHMSRADESEQPDWQN----------------------------------DLKLRR----------------------------SS--------------SVGYIS-----------------KAQEYFNIKSRS-------------------------------------------------E-------------LMFEKQSERHGLVPRVTPRIGFGNNNENIAAS---------------------DQLHD--EIKSGIDSTNYIV------KQIKEKNAYDEEVGNWNLVGQTIDRLSMFIITPVMVLGTIFIF - ACHD_TETCF/253-494\n",
      "ILAPCVLIALMANLVFYLPADS-GEKMTLAISVLLAQSVFLLLISQRLP-ETSFAIPLISKYLMFIMVLVTIVVVSCVIVLNLHF--RTPST-HAISERMKEIFLNKLPRILHMSQPAEPEPEPWSGVLLRRSS-----------------------------------------------------------------------------SVGYIV-----------------KAEEYYSVKSRS-------------------------------------------------E-------------LMFEKQSERHGLTSRATPARVNPLNANNSQ-----------------------DQLYG--EIKPAIDGANFIV------KHIRDKNDYNEEKDNWYRIARTVDRLCLFLVTPVMIIGTLWIF - B7ZQ13_XENLA/255-493\n",
      "ILVPCVLISFMINLVFYLPADC-GEKTSMAISVLLAQSVFLLLISKRLP-ATSMAIPLIGKFLLFGMVLVTMVVVICVIVLNIHF--RTPST-HVLSEPVKKLFLETLPEILHMSRPAEDGPSPGTLIRRSS-------------------------------------------------------------------------------SLGYIS-----------------KAEEYFSLKSRS-------------------------------------------------D-------------LMFEKQSERHGLARRLTTARRPPAGSEQAQ-----------------------QELFS--ELKPAVDGANFIV------NHMKDQNNYNEEKDCWNRVARTVDRLCLFVVTPIMVVGTAWIF - ACHD_BOVIN/252-488\n",
      "IVTPCVLIAFMAILVFYLPADS-GEKMTLVISVLLAQSVFLLLVSQRLP-ATSHAIPLIGKYLLFIMLLVTAVVVICVVVLNFHF--RTPST-HVMSDWVRGVFLEILPRLLHMSHPAESPAGAPCIRRCS--------------------------------------------------------------------------------SAGYIA-----------------KAEEYYSVKSRS-------------------------------------------------E-------------LMFEKQSERHGLASRVTPARFAPAATSE-------------------------EQLYD--HLKPTLDEANFIV------KHMREKNSYNEEKDNWNRVARTLDRLCLFLITPMLVVGTLWIF - ACHD_CHICK/252-485\n",
      "IIVPCVLISSMAVLVYFLPAKAGGQKCTVSINVLLAQTVFLFLIAQKVP-ETSQAVPLIGKYLTFLMVVTVVIVVNAVIVLNVSL--RTPNT-HSMSQRVRQVWLHLLPRYLGMHMPEEAPGPPQATRRRS--------------------------------------------------------------------------------SLGLMV-----------------KADEYMLWKART-------------------------------------------------E-------------LLFEKQKERDGLMKTVLEKIGRGLESNCAQDFCQSL-----------------EEASP--EIRACVEACNHIA------NATREQNDFSSENEEWILVGRVIDRVCFFIMASLFVCGTIGIF - ACHG_CHICK/249-491\n",
      "IIAPCVLISSVAILIYFLPAKAGGQKCTVAINVLLAQTVFLFLVAKKVP-ETSQAVPLISKYLTFLLVVTILIVVNAVVVLNVSL--RSPHT-HSMARGVRKVFLRLLPQLLRMHVRPLAPVAVQ------------------------------------DAHPRL----------------------------QN-------GSS----SGWPIT-----------------AGEEVALCLPRS-------------------------------------------------E-------------LLF-RQRQRNGLVRAALEKLEK--GPESGQSPEWCGSL---------------KQAAP--AIQACVEACNLIA------RARHQQTHFDSGNKEWFLVGRVLDRVCFLAMLSLFVCGTAGIF - ACHG_BOVIN/248-494\n",
      "IIVPCVLISFVSILVYFLPAKAGGQKCTVSINILLAQTVFLFLVAQKIP-ETSTSVPLIVKYLTFLMVVTITIVANAVIVLNISL--RTPNT-HSMSSTVRELCLRTVPRLLRMHLRPTDAAPPLAPLMRRSS------------------------------------------------------------------------------SLGLMM-----------------KADEYMLRKPRS-------------------------------------------------Q-------------LMFEKQKERDGLMKVVLDKIGRGMENNTSDDLVHSL-----------------NHAAP--EIRTCVEACCHIA------SATREKNDFKSENEEWILMGRVIDRVCFLVMCFVFFLGTIGTF - ACHG_XENLA/242-486\n",
      "IIVPCVLISGLVLLAYFLPAQAGGQKCTVSINVLLAQTVFLFLIAQKTP-ETSLSVPLLGRYLIFVMVVATLIVMNCVIVLNVSL--RTPTT-HAMSPRLRYVLLELLPQLLGSGAPPEIPRA--------------------------------------ASPPRR----------------------------AS--------------SLGLLL-----------------RAEELILKKPRS-------------------------------------------------E-------------LVFEQQRHRHGTWTATLCQNLG--------------------------------AAAP--EIRCCVDAVNFVA------SSTRDQEATGEEVSDWVRMGKALDSICFWAALVLFLVGSSLIF - ACHE_BOVIN/247-474\n",
      "IIAPCVLISSLVVLVYFLPAQAGGQKCTLSISVLLAQTIFLFLIAQKVP-ETSLNVPLIGKYLIFVMFVSMLIVMNCVIVLNVSL--RTPNT-HSLSEKIKHLFLGFLPKYLGMQLEPSEETPEKPQPRRRS-------------------------------------------------------------------------------SFGIMI-----------------KAEEYILKKPRS-------------------------------------------------E-------------LMFEEQKDRHGLKRVNKMTSDIDIGTTVDLYKDL-------------------ANFAP--EIKSCVEACNFIA------KSTKEQNDSGSENENWVLIGKVIDKACFWIALLLFSIGTLAIF - ACHG_TETCF/243-484\n",
      "TIIPCILISILAILVFYLPPDA-GEKMSLSISALLAVTVFLLLLADKVP-ETSLSVPIIIRYLMFIMILVAFSVILSVVVLNLHH--RSPNT-HTMPNWIRQIFIETLPPFLWIQRPVTTPSPDSK-------------------------------------------------------------------------------------PTIISR-----------------ANDEYFIRKPAG-------------------------------------------------D-------------FVCPVDNARVAVQPERLFSEMKWHLNGLTQP----------------------VTLPQ--DLKEAVEAIKYIA------EQLESASEFDDLKKDWQYVAMVADRLFLYVFFVICSIGTFSIF - ACHB_TETCF/248-479\n",
      "VIAPCILITLLAIFVFYLPPDA-GEKMGLSIFALLTLTVFLLLLADKVP-ETSLSVPIIIKYLMFTMVLVTFSVILSVVVLNLHH--RSPHT-HQMPLWVRQIFIHKLPLYLGLKRPKPERDQMQEP---------------------------------------------------------------------------PSIAPRDSPGSGWGR-----------------GTDEYFIRKPPN-------------------------------------------------D-------------FLFPKPNRFQPELSAPDLRRFIDGPNRA-------------------------VGLPP--ELREVVSSISYIA------RQLQEQEDHDVLKEDWQFVAMVVDRLFLWTFIIFTSVGTLVIF - ACHB_BOVIN/253-491\n",
      "LILPTVLISFLCVLVFYLPAEA-GEKVTLGISILLSLVVFLLLVSKILP-PTSLVLPLIAKYLLFTFIMNTVSILVTVIIINWNF--RGPRT-HRMPMYIRSIFLHYLPAFLFMKRPRKTRLRWMMEMP--------------------------------GMSMPA----------------------------HPHPSYGSPAELPKHISAIGGK-----------------QSKMEVMELSDL-------------------------------------------------H-------------HPNCKINRKVNSGGELGLGDGCRRESESSDS----------------------ILLSP--EASKATEAVEFIA------EHLRNEDLYIQTREDWKYVAMVIDRLQLYIFFIVTTAGTVGIL - ACH3_DROME/243-499\n",
      "LIIPCILITSLAILVFYLPSDC-GEKMTLCISVLLALTVFLLLISKIVP-PTSLDVPLVGKYLMFTMVLVTFSIVTSVCVLNVHH--RSPTT-HTMPPWVRTLFLRKLPALLFMKQPQQNCARQRLR------------------------------------------------------------------------------------QRRQTQ-----------------ERAAAATLFLRA-------------------------------------------------G-------------ARACACYANPGAAKAEGLNGYRERQGQGPDPP---------------------APCGC--GLEEAVEGVRFIA------DHMRSEDDDQSVSEDWKYVAMVIDRLFLWIFVFVCVFGTVGMF - ACHB2_CHICK/234-467\n",
      "LIIPCVLITSLAILVFYLPSDC-GEKMTLCISVLLALTVFLLLISKIVP-PTSLDVPLIGKYLMFTMVLVTFSIVTSVCVLNVHH--RSPST-HTMPPWVKLVFLERLPAYLFMKRPENNSPRQK--------------------------------------------------------------------------------------PANCKK-----------------TRAENLCMDPAD-------------------------------------------------F-------------YKNSTYFVNTASAKKYDMKITDTLDNVSSHQDFRLRTG---------------TKFSP--EVQEAIDGVSFIA------EHMKSDDNDQSVIEDWKYVAMVVDRLFLWIFVLVCVLGTVGLF - ACHB4_CHICK/219-456\n",
      "LIIPCVLITSLAILVFYLPSDC-GEKMTLCISVLLALTFFLLLISKIVP-PTSLDIPLIGKYLLFTMVLVTFSIVTTVCVLNVHH--RSPST-HTMASWVKECFLHKLPTFLFMKRPGLEVSLVRVPHPSQLH------------------------------------------------------------------------------LATADT-----------------AATSALGPTSPS-------------------------------------------------N--------------LYGSSMYFVNPVPAAPKSAVSSHTAGLPRDARLRSS----------------GRFRE--DLQEALEGVSFIA------QHLESDDRDQSVIEDWKFVAMVVDRLFLWVFVFVCILGTMGLF - ACHB4_RAT/238-481\n",
      "LIIPCVLITSLAILVFYLPSDC-GEKVTLCMSVLLALTVFLLLISKIVP-PTSLAVPLIGKYLMFTMVLVTFSIVTSVCVLNVHH--RSPST-HYMPEWVKCVFLHKLPAFLLMRRPGRSNVRER--------------------------------------------------------------------------------------FRRKHQ-----------------RKSFSSHQDGDS-------------------------------------------------F-------------FLTDDPGRVCGAWRVGDLPEGSEFRQRVK------------------------VRHDQ--DVDEAIDGVRFIA------EHMKIEDDDEGIIEDWKYVAMVIDRLFLWIFILVCVVGTLGLF - ACHB2_CARAU/211-439\n"
     ]
    }
   ],
   "source": [
    "for record in alignment:\n",
    "    print(\"%s - %s\" % (record.seq, record.id))"
   ]
  },
  {
   "cell_type": "markdown",
   "metadata": {},
   "source": [
    "\n",
    "You can also use the list-like `append` and `extend` methods to add more\n",
    "rows to the alignment (as `SeqRecord` objects). Keeping the list\n",
    "metaphor in mind, simple slicing of the alignment should also make sense\n",
    "- it selects some of the rows giving back another alignment object:\n",
    "\n"
   ]
  },
  {
   "cell_type": "code",
   "execution_count": 43,
   "metadata": {},
   "outputs": [
    {
     "name": "stdout",
     "output_type": "stream",
     "text": [
      "Alignment with 50 rows and 431 columns\n",
      "LIIPCLLISCLTVLVFYLPSEC-GEKITLCISVLLSLTVFLLLI...GLF ACHA2_RAT/249-502\n",
      "LIIPCLLISCLTVLVFYLPSDC-GEKITLCISVLLSLTVFLLLI...GLF ACHA2_CHICK/247-519\n",
      "LIIPCLLISCLTVLVFYLPSEC-GEKITLCISVLLSLTVFLLLI...GLF ACHA4_CHICK/245-613\n",
      "LIIPCLLISCLTVLVFYLPSEC-GEKVTLCISVLLSLTVFLLLI...GLF ACHA4_RAT/252-622\n",
      "LIIPCLLISFLTILVFYLPSDC-GEKVTLCISVLLSLTVFLLVI...GLF ACHA3_CARAU/240-503\n",
      "MIIPCLLISFLTVLVFYLPSDC-GEKVTLCISVLLSLTVFLLVI...GLF ACHA3_CHICK/239-486\n",
      "VVIPCLLFSFLTGLVFYLPTDS-GEKITLSVSVLLSLVVFLLVI...AIF ACHAA_XENLA/238-446\n",
      "LIIPCLGLSFLTVLVFYLPSDE-GEKLSLSTSVLVSLTVFLLVI...LIF ACHB3_RAT/246-452\n",
      "LIIPCLGLSFLTVLVFYLPSDE-GEKVSLSTSVLVSLTVFLLVI...LIF ACHN2_CARAU/242-446\n",
      "LIIPCVGISYLSVLVFYLPADS-GEKIALCISILLSQTMFFLLI...VIL B4HH26_DROSE/268-544\n",
      "LIVPCVGISYLSVLVFYLPADS-GEKIALCISILLSQTMFFLLI...AIL ACH1_SCHGR/249-526\n",
      "LIVPCVALTFLTVLVFYLPSDS-GEKVTLCISILVSLTVFFLLL...AII B4QT71_DROSI/252-480\n",
      "LIIPCVGISFLSVLVFYLPSDS-GEKISLCISILLSLTVFFLLL...LII ACH1_DROME/247-531\n",
      "LLIPCVLISALALLVFLLPADS-GEKISLGITVLLSLTVFMLLV...GIL ACHA7_CHICK/237-487\n",
      "LLLPSIFLMVVDIVGFCLPPDS-GERVSFKITLLLGYSVFLIIV...TLV 5HT3A_MOUSE/253-478\n",
      "IYTPCIMTVILSQVSFWINKESVPARTVFGITTVLTMTTLSISA...VYW GBRA6_MOUSE/247-437\n",
      "TYIPCIMTVILSQVSFWINKESVPARTVFGITTVLTMTTLSISA...VYW GBRA4_BOVIN/263-539\n",
      "TYIPCILTVVLSWVSFWINKDAVPARTSLGITTVLTMTTLSTIA...VYW GBRG1_RAT/277-459\n",
      "...\n",
      "LIIPCVLITSLAILVFYLPSDC-GEKVTLCMSVLLALTVFLLLI...GLF ACHB2_CARAU/211-439\n"
     ]
    }
   ],
   "source": [
    "print(alignment)"
   ]
  },
  {
   "cell_type": "code",
   "execution_count": 44,
   "metadata": {},
   "outputs": [
    {
     "name": "stdout",
     "output_type": "stream",
     "text": [
      "Alignment with 4 rows and 431 columns\n",
      "LIIPCLLISCLTVLVFYLPSEC-GEKVTLCISVLLSLTVFLLLI...GLF ACHA4_RAT/252-622\n",
      "LIIPCLLISFLTILVFYLPSDC-GEKVTLCISVLLSLTVFLLVI...GLF ACHA3_CARAU/240-503\n",
      "MIIPCLLISFLTVLVFYLPSDC-GEKVTLCISVLLSLTVFLLVI...GLF ACHA3_CHICK/239-486\n",
      "VVIPCLLFSFLTGLVFYLPTDS-GEKITLSVSVLLSLVVFLLVI...AIF ACHAA_XENLA/238-446\n"
     ]
    }
   ],
   "source": [
    "print(alignment[3:7])"
   ]
  },
  {
   "cell_type": "markdown",
   "metadata": {},
   "source": [
    "\n",
    "What if you wanted to select by column? Those of you who have used the\n",
    "NumPy matrix or array objects won’t be surprised at this - you use a\n",
    "double index.\n",
    "\n"
   ]
  },
  {
   "cell_type": "code",
   "execution_count": 45,
   "metadata": {},
   "outputs": [
    {
     "name": "stdout",
     "output_type": "stream",
     "text": [
      "L\n"
     ]
    }
   ],
   "source": [
    "print(alignment[2, 6])"
   ]
  },
  {
   "cell_type": "markdown",
   "metadata": {},
   "source": [
    "\n",
    "Using two integer indices pulls out a single letter, short hand for\n",
    "this:\n",
    "\n"
   ]
  },
  {
   "cell_type": "code",
   "execution_count": 46,
   "metadata": {},
   "outputs": [
    {
     "name": "stdout",
     "output_type": "stream",
     "text": [
      "L\n"
     ]
    }
   ],
   "source": [
    "print(alignment[2].seq[6])"
   ]
  },
  {
   "cell_type": "markdown",
   "metadata": {},
   "source": [
    "\n",
    "You can pull out a single column as a string like this:\n",
    "\n"
   ]
  },
  {
   "cell_type": "code",
   "execution_count": 47,
   "metadata": {},
   "outputs": [
    {
     "name": "stdout",
     "output_type": "stream",
     "text": [
      "LLLLLLLGGGGAGLFMMLLLLLLLLLLLLLLMMMLLLLLLLLLLLLLLLL\n"
     ]
    }
   ],
   "source": [
    "print(alignment[:, 6])"
   ]
  },
  {
   "cell_type": "markdown",
   "metadata": {},
   "source": [
    "\n",
    "You can also select a range of columns. For example, to pick out those\n",
    "same three rows we extracted earlier, but take just their first six\n",
    "columns:\n",
    "\n"
   ]
  },
  {
   "cell_type": "code",
   "execution_count": 48,
   "metadata": {},
   "outputs": [
    {
     "name": "stdout",
     "output_type": "stream",
     "text": [
      "Alignment with 3 rows and 6 columns\n",
      "LIIPCL ACHA4_RAT/252-622\n",
      "LIIPCL ACHA3_CARAU/240-503\n",
      "MIIPCL ACHA3_CHICK/239-486\n"
     ]
    }
   ],
   "source": [
    "print(alignment[3:6, :6])"
   ]
  },
  {
   "cell_type": "markdown",
   "metadata": {},
   "source": [
    "\n",
    "Leaving the first index as `:` means take all the rows:\n",
    "\n"
   ]
  },
  {
   "cell_type": "code",
   "execution_count": 49,
   "metadata": {},
   "outputs": [
    {
     "name": "stdout",
     "output_type": "stream",
     "text": [
      "Alignment with 50 rows and 6 columns\n",
      "LIIPCL ACHA2_RAT/249-502\n",
      "LIIPCL ACHA2_CHICK/247-519\n",
      "LIIPCL ACHA4_CHICK/245-613\n",
      "LIIPCL ACHA4_RAT/252-622\n",
      "LIIPCL ACHA3_CARAU/240-503\n",
      "MIIPCL ACHA3_CHICK/239-486\n",
      "VVIPCL ACHAA_XENLA/238-446\n",
      "LIIPCL ACHB3_RAT/246-452\n",
      "LIIPCL ACHN2_CARAU/242-446\n",
      "LIIPCV B4HH26_DROSE/268-544\n",
      "LIVPCV ACH1_SCHGR/249-526\n",
      "LIVPCV B4QT71_DROSI/252-480\n",
      "LIIPCV ACH1_DROME/247-531\n",
      "LLIPCV ACHA7_CHICK/237-487\n",
      "LLLPSI 5HT3A_MOUSE/253-478\n",
      "IYTPCI GBRA6_MOUSE/247-437\n",
      "TYIPCI GBRA4_BOVIN/263-539\n",
      "TYIPCI GBRG1_RAT/277-459\n",
      "...\n",
      "LIIPCV ACHB2_CARAU/211-439\n"
     ]
    }
   ],
   "source": [
    "print(alignment[:, :6])"
   ]
  },
  {
   "cell_type": "markdown",
   "metadata": {},
   "source": [
    "\n",
    "This brings us to a neat way to remove a section. Notice columns 7, 8\n",
    "and 9 which are gaps in three of the seven sequences:\n",
    "\n"
   ]
  },
  {
   "cell_type": "code",
   "execution_count": 50,
   "metadata": {},
   "outputs": [
    {
     "name": "stdout",
     "output_type": "stream",
     "text": [
      "Alignment with 50 rows and 3 columns\n",
      "LIS ACHA2_RAT/249-502\n",
      "LIS ACHA2_CHICK/247-519\n",
      "LIS ACHA4_CHICK/245-613\n",
      "LIS ACHA4_RAT/252-622\n",
      "LIS ACHA3_CARAU/240-503\n",
      "LIS ACHA3_CHICK/239-486\n",
      "LFS ACHAA_XENLA/238-446\n",
      "GLS ACHB3_RAT/246-452\n",
      "GLS ACHN2_CARAU/242-446\n",
      "GIS B4HH26_DROSE/268-544\n",
      "GIS ACH1_SCHGR/249-526\n",
      "ALT B4QT71_DROSI/252-480\n",
      "GIS ACH1_DROME/247-531\n",
      "LIS ACHA7_CHICK/237-487\n",
      "FLM 5HT3A_MOUSE/253-478\n",
      "MTV GBRA6_MOUSE/247-437\n",
      "MTV GBRA4_BOVIN/263-539\n",
      "LTV GBRG1_RAT/277-459\n",
      "...\n",
      "LIT ACHB2_CARAU/211-439\n"
     ]
    }
   ],
   "source": [
    "print(alignment[:, 6:9])"
   ]
  },
  {
   "cell_type": "markdown",
   "metadata": {},
   "source": [
    "\n",
    "Again, you can slice to get everything after the ninth column:\n",
    "\n"
   ]
  },
  {
   "cell_type": "code",
   "execution_count": 51,
   "metadata": {},
   "outputs": [
    {
     "name": "stdout",
     "output_type": "stream",
     "text": [
      "Alignment with 50 rows and 422 columns\n",
      "CLTVLVFYLPSEC-GEKITLCISVLLSLTVFLLLITEIIP-STS...GLF ACHA2_RAT/249-502\n",
      "CLTVLVFYLPSDC-GEKITLCISVLLSLTVFLLLITEIIP-STS...GLF ACHA2_CHICK/247-519\n",
      "CLTVLVFYLPSEC-GEKITLCISVLLSLTVFLLLITEIIP-STS...GLF ACHA4_CHICK/245-613\n",
      "CLTVLVFYLPSEC-GEKVTLCISVLLSLTVFLLLITEIIPSPTS...GLF ACHA4_RAT/252-622\n",
      "FLTILVFYLPSDC-GEKVTLCISVLLSLTVFLLVITETIP-STS...GLF ACHA3_CARAU/240-503\n",
      "FLTVLVFYLPSDC-GEKVTLCISVLLSLTVFLLVITETIP-STS...GLF ACHA3_CHICK/239-486\n",
      "FLTGLVFYLPTDS-GEKITLSVSVLLSLVVFLLVIVELIP-STS...AIF ACHAA_XENLA/238-446\n",
      "FLTVLVFYLPSDE-GEKLSLSTSVLVSLTVFLLVIEEIIP-SSS...LIF ACHB3_RAT/246-452\n",
      "FLTVLVFYLPSDE-GEKVSLSTSVLVSLTVFLLVIEEIIP-SSS...LIF ACHN2_CARAU/242-446\n",
      "YLSVLVFYLPADS-GEKIALCISILLSQTMFFLLISEIIP-STS...VIL B4HH26_DROSE/268-544\n",
      "YLSVLVFYLPADS-GEKIALCISILLSQTMFFLLISEIIP-STS...AIL ACH1_SCHGR/249-526\n",
      "FLTVLVFYLPSDS-GEKVTLCISILVSLTVFFLLLAEIIP-PTS...AII B4QT71_DROSI/252-480\n",
      "FLSVLVFYLPSDS-GEKISLCISILLSLTVFFLLLAEIIP-PTS...LII ACH1_DROME/247-531\n",
      "ALALLVFLLPADS-GEKISLGITVLLSLTVFMLLVAEIMP-ATS...GIL ACHA7_CHICK/237-487\n",
      "VVDIVGFCLPPDS-GERVSFKITLLLGYSVFLIIVSDTLP--AT...TLV 5HT3A_MOUSE/253-478\n",
      "ILSQVSFWINKESVPARTVFGITTVLTMTTLSISARHSLP-KVS...VYW GBRA6_MOUSE/247-437\n",
      "ILSQVSFWINKESVPARTVFGITTVLTMTTLSISARHSLP-KVS...VYW GBRA4_BOVIN/263-539\n",
      "VLSWVSFWINKDAVPARTSLGITTVLTMTTLSTIARKSLP-KVS...VYW GBRG1_RAT/277-459\n",
      "...\n",
      "SLAILVFYLPSDC-GEKVTLCMSVLLALTVFLLLISKIVP-PTS...GLF ACHB2_CARAU/211-439\n"
     ]
    }
   ],
   "source": [
    "print(alignment[:, 9:])"
   ]
  },
  {
   "cell_type": "markdown",
   "metadata": {},
   "source": [
    "\n",
    "Now, the interesting thing is that addition of alignment objects works\n",
    "by column. This lets you do this as a way to remove a block of columns:\n",
    "\n"
   ]
  },
  {
   "cell_type": "code",
   "execution_count": 52,
   "metadata": {},
   "outputs": [
    {
     "name": "stdout",
     "output_type": "stream",
     "text": [
      "Alignment with 50 rows and 428 columns\n",
      "LIIPCLCLTVLVFYLPSEC-GEKITLCISVLLSLTVFLLLITEI...GLF ACHA2_RAT/249-502\n",
      "LIIPCLCLTVLVFYLPSDC-GEKITLCISVLLSLTVFLLLITEI...GLF ACHA2_CHICK/247-519\n",
      "LIIPCLCLTVLVFYLPSEC-GEKITLCISVLLSLTVFLLLITEI...GLF ACHA4_CHICK/245-613\n",
      "LIIPCLCLTVLVFYLPSEC-GEKVTLCISVLLSLTVFLLLITEI...GLF ACHA4_RAT/252-622\n",
      "LIIPCLFLTILVFYLPSDC-GEKVTLCISVLLSLTVFLLVITET...GLF ACHA3_CARAU/240-503\n",
      "MIIPCLFLTVLVFYLPSDC-GEKVTLCISVLLSLTVFLLVITET...GLF ACHA3_CHICK/239-486\n",
      "VVIPCLFLTGLVFYLPTDS-GEKITLSVSVLLSLVVFLLVIVEL...AIF ACHAA_XENLA/238-446\n",
      "LIIPCLFLTVLVFYLPSDE-GEKLSLSTSVLVSLTVFLLVIEEI...LIF ACHB3_RAT/246-452\n",
      "LIIPCLFLTVLVFYLPSDE-GEKVSLSTSVLVSLTVFLLVIEEI...LIF ACHN2_CARAU/242-446\n",
      "LIIPCVYLSVLVFYLPADS-GEKIALCISILLSQTMFFLLISEI...VIL B4HH26_DROSE/268-544\n",
      "LIVPCVYLSVLVFYLPADS-GEKIALCISILLSQTMFFLLISEI...AIL ACH1_SCHGR/249-526\n",
      "LIVPCVFLTVLVFYLPSDS-GEKVTLCISILVSLTVFFLLLAEI...AII B4QT71_DROSI/252-480\n",
      "LIIPCVFLSVLVFYLPSDS-GEKISLCISILLSLTVFFLLLAEI...LII ACH1_DROME/247-531\n",
      "LLIPCVALALLVFLLPADS-GEKISLGITVLLSLTVFMLLVAEI...GIL ACHA7_CHICK/237-487\n",
      "LLLPSIVVDIVGFCLPPDS-GERVSFKITLLLGYSVFLIIVSDT...TLV 5HT3A_MOUSE/253-478\n",
      "IYTPCIILSQVSFWINKESVPARTVFGITTVLTMTTLSISARHS...VYW GBRA6_MOUSE/247-437\n",
      "TYIPCIILSQVSFWINKESVPARTVFGITTVLTMTTLSISARHS...VYW GBRA4_BOVIN/263-539\n",
      "TYIPCIVLSWVSFWINKDAVPARTSLGITTVLTMTTLSTIARKS...VYW GBRG1_RAT/277-459\n",
      "...\n",
      "LIIPCVSLAILVFYLPSDC-GEKVTLCMSVLLALTVFLLLISKI...GLF ACHB2_CARAU/211-439\n"
     ]
    }
   ],
   "source": [
    "edited = alignment[:, :6] + alignment[:, 9:]\n",
    "print(edited)"
   ]
  },
  {
   "cell_type": "markdown",
   "metadata": {},
   "source": [
    "\n",
    "Another common use of alignment addition would be to combine alignments\n",
    "for several different genes into a meta-alignment. Watch out though -\n",
    "the identifiers need to match up (see Section \\[sec:SeqRecord-addition\\]\n",
    "for how adding `SeqRecord` objects works). You may find it helpful to\n",
    "first sort the alignment rows alphabetically by id:\n",
    "\n"
   ]
  },
  {
   "cell_type": "code",
   "execution_count": 53,
   "metadata": {},
   "outputs": [
    {
     "name": "stdout",
     "output_type": "stream",
     "text": [
      "Alignment with 50 rows and 428 columns\n",
      "LLLPSIVVDIVGFCLPPDS-GERVSFKITLLLGYSVFLIIVSDT...TLV 5HT3A_MOUSE/253-478\n",
      "TYLPCIILSQVSFWLNRESVPARTVFGVTTVLTMTTLSISARNS...VYW A0A2I3GX20_NOMLE/264-445\n",
      "TYLPCIILSQVSFWLNRESVPARTVFGVTTVLTMTTLSISARNS...VYW A0A452F9D8_CAPHI/257-439\n",
      "LIIPCVFLSVLVFYLPSDS-GEKISLCISILLSLTVFFLLLAEI...LII ACH1_DROME/247-531\n",
      "LIVPCVYLSVLVFYLPADS-GEKIALCISILLSQTMFFLLISEI...AIL ACH1_SCHGR/249-526\n",
      "LILPTVFLCVLVFYLPAEA-GEKVTLGISILLSLVVFLLLVSKI...GIL ACH3_DROME/243-499\n",
      "LIIPCLCLTVLVFYLPSDC-GEKITLCISVLLSLTVFLLLITEI...GLF ACHA2_CHICK/247-519\n",
      "LIIPCLCLTVLVFYLPSEC-GEKITLCISVLLSLTVFLLLITEI...GLF ACHA2_RAT/249-502\n",
      "LIIPCLFLTILVFYLPSDC-GEKVTLCISVLLSLTVFLLVITET...GLF ACHA3_CARAU/240-503\n",
      "MIIPCLFLTVLVFYLPSDC-GEKVTLCISVLLSLTVFLLVITET...GLF ACHA3_CHICK/239-486\n",
      "LIIPCLCLTVLVFYLPSEC-GEKITLCISVLLSLTVFLLLITEI...GLF ACHA4_CHICK/245-613\n",
      "LIIPCLCLTVLVFYLPSEC-GEKVTLCISVLLSLTVFLLLITEI...GLF ACHA4_RAT/252-622\n",
      "LLIPCVALALLVFLLPADS-GEKISLGITVLLSLTVFMLLVAEI...GIL ACHA7_CHICK/237-487\n",
      "VVIPCLFLTGLVFYLPTDS-GEKITLSVSVLLSLVVFLLVIVEL...AIF ACHAA_XENLA/238-446\n",
      "LIIPCVSLAILVFYLPSDC-GEKVTLCMSVLLALTVFLLLISKI...GLF ACHB2_CARAU/211-439\n",
      "LIIPCISLAILVFYLPSDC-GEKMTLCISVLLALTVFLLLISKI...GMF ACHB2_CHICK/234-467\n",
      "LIIPCLFLTVLVFYLPSDE-GEKLSLSTSVLVSLTVFLLVIEEI...LIF ACHB3_RAT/246-452\n",
      "LIIPCVSLAILVFYLPSDC-GEKMTLCISVLLALTVFLLLISKI...GLF ACHB4_CHICK/219-456\n",
      "...\n",
      "VYAPTLVLSWLSFWINPDASAARVPLGIFSVLSLASECTTLAAE...IYW GLRB_RAT/273-492\n"
     ]
    }
   ],
   "source": [
    "edited.sort()\n",
    "print(edited)"
   ]
  },
  {
   "cell_type": "markdown",
   "metadata": {},
   "source": [
    "\n",
    "Note that you can only add two alignments together if they have the same\n",
    "number of rows.\n",
    "\n",
    "### Alignments as arrays\n",
    "\n",
    "Depending on what you are doing, it can be more useful to turn the\n",
    "alignment object into an array of letters – and you can do this with\n",
    "NumPy:\n",
    "\n"
   ]
  },
  {
   "cell_type": "code",
   "execution_count": 54,
   "metadata": {},
   "outputs": [
    {
     "name": "stdout",
     "output_type": "stream",
     "text": [
      "Array shape 50 by 431\n"
     ]
    },
    {
     "name": "stderr",
     "output_type": "stream",
     "text": [
      "C:\\Users\\amand\\AppData\\Local\\Temp\\ipykernel_2188\\3219472028.py:4: DeprecationWarning: Converting `np.character` to a dtype is deprecated. The current result is `np.dtype(np.str_)` which is not strictly correct. Note that `np.character` is generally deprecated and 'S1' should be used.\n",
      "  align_array = np.array([list(rec) for rec in alignment], np.character)\n"
     ]
    }
   ],
   "source": [
    "import numpy as np\n",
    "from Bio import AlignIO\n",
    "alignment = AlignIO.read(\"SEED.ann\", \"stockholm\")\n",
    "align_array = np.array([list(rec) for rec in alignment], np.character)\n",
    "print(\"Array shape %i by %i\" % align_array.shape)"
   ]
  },
  {
   "cell_type": "markdown",
   "metadata": {},
   "source": [
    "\n",
    "If you will be working heavily with the columns, you can tell NumPy to\n",
    "store the array by column (as in Fortran) rather then its default of by\n",
    "row (as in C):\n",
    "\n"
   ]
  },
  {
   "cell_type": "code",
   "execution_count": 55,
   "metadata": {
    "tags": []
   },
   "outputs": [
    {
     "name": "stderr",
     "output_type": "stream",
     "text": [
      "C:\\Users\\amand\\AppData\\Local\\Temp\\ipykernel_2188\\3185995031.py:1: DeprecationWarning: Converting `np.character` to a dtype is deprecated. The current result is `np.dtype(np.str_)` which is not strictly correct. Note that `np.character` is generally deprecated and 'S1' should be used.\n",
      "  align_array = np.array([list(rec) for rec in alignment], np.character, order=\"F\")\n"
     ]
    }
   ],
   "source": [
    "align_array = np.array([list(rec) for rec in alignment], np.character, order=\"F\")"
   ]
  },
  {
   "cell_type": "markdown",
   "metadata": {},
   "source": [
    "\n",
    "Note that this leaves the original Biopython alignment object and the\n",
    "NumPy array in memory as separate objects - editing one will not update\n",
    "the other!\n",
    "\n",
    "Alignment Tools {#sec:alignment-tools}\n",
    "---------------\n",
    "\n",
    "There are *lots* of algorithms out there for aligning sequences, both\n",
    "pairwise alignments and multiple sequence alignments. These calculations\n",
    "are relatively slow, and you generally wouldn’t want to write such an\n",
    "algorithm in Python. Instead, you can use Biopython to invoke a command\n",
    "line tool on your behalf. Normally you would:\n",
    "\n",
    "1.  Prepare an input file of your unaligned sequences, typically this\n",
    "    will be a FASTA file which you might create using `Bio.SeqIO`\n",
    "    (see Chapter \\[chapter:Bio.SeqIO\\]).\n",
    "\n",
    "2.  Call the command line tool to process this input file, typically via\n",
    "    one of Biopython’s command line wrappers (which we’ll discuss here).\n",
    "\n",
    "3.  Read the output from the tool, i.e. your aligned sequences,\n",
    "    typically using `Bio.AlignIO` (see earlier in this chapter).\n",
    "\n",
    "All the command line wrappers we’re going to talk about in this chapter\n",
    "follow the same style. You create a command line object specifying the\n",
    "options (e.g. the input filename and the output filename), then invoke\n",
    "this command line via a Python operating system call (e.g. using the\n",
    "`subprocess` module).\n",
    "\n",
    "Most of these wrappers are defined in the `Bio.Align.Applications`\n",
    "module:\n",
    "\n"
   ]
  },
  {
   "cell_type": "code",
   "execution_count": 56,
   "metadata": {},
   "outputs": [
    {
     "data": {
      "text/plain": [
       "['ClustalOmegaCommandline',\n",
       " 'ClustalwCommandline',\n",
       " 'DialignCommandline',\n",
       " 'MSAProbsCommandline',\n",
       " 'MafftCommandline',\n",
       " 'MuscleCommandline',\n",
       " 'PrankCommandline',\n",
       " 'ProbconsCommandline',\n",
       " 'TCoffeeCommandline',\n",
       " '_ClustalOmega',\n",
       " '_Clustalw',\n",
       " '_Dialign',\n",
       " '_MSAProbs',\n",
       " '_Mafft',\n",
       " '_Muscle',\n",
       " '_Prank',\n",
       " '_Probcons',\n",
       " '_TCoffee',\n",
       " '__all__',\n",
       " '__builtins__',\n",
       " '__cached__',\n",
       " '__doc__',\n",
       " '__file__',\n",
       " '__loader__',\n",
       " '__name__',\n",
       " '__package__',\n",
       " '__path__',\n",
       " '__spec__']"
      ]
     },
     "execution_count": 56,
     "metadata": {},
     "output_type": "execute_result"
    }
   ],
   "source": [
    "import Bio.Align.Applications\n",
    "dir(Bio.Align.Applications)"
   ]
  },
  {
   "cell_type": "markdown",
   "metadata": {},
   "source": [
    "\n",
    "(Ignore the entries starting with an underscore – these have special\n",
    "meaning in Python.) The module `Bio.Emboss.Applications` has wrappers\n",
    "for some of the [EMBOSS suite](http://emboss.sourceforge.net/),\n",
    "including `needle` and `water`, which are described below in\n",
    "Section \\[seq:emboss-needle-water\\], and wrappers for the EMBOSS\n",
    "packaged versions of the PHYLIP tools (which EMBOSS refer to as one of\n",
    "their EMBASSY packages - third party tools with an EMBOSS style\n",
    "interface). We won’t explore all these alignment tools here in the\n",
    "section, just a sample, but the same principles apply.\n",
    "\n",
    "### ClustalW {#sec:align_clustal}\n",
    "\n",
    "ClustalW is a popular command line tool for multiple sequence alignment\n",
    "(there is also a graphical interface called ClustalX). Biopython’s\n",
    "`Bio.Align.Applications` module has a wrapper for this alignment tool\n",
    "(and several others).\n",
    "\n",
    "Before trying to use ClustalW from within Python, you should first try\n",
    "running the ClustalW tool yourself by hand at the command line, to\n",
    "familiarise yourself the other options. You’ll find the Biopython\n",
    "wrapper is very faithful to the actual command line API:\n",
    "\n"
   ]
  },
  {
   "cell_type": "code",
   "execution_count": 57,
   "metadata": {},
   "outputs": [
    {
     "name": "stdout",
     "output_type": "stream",
     "text": [
      "Help on class ClustalwCommandline in module Bio.Align.Applications._Clustalw:\n",
      "\n",
      "class ClustalwCommandline(Bio.Application.AbstractCommandline)\n",
      " |  ClustalwCommandline(cmd='clustalw', **kwargs)\n",
      " |  \n",
      " |  Command line wrapper for clustalw (version one or two).\n",
      " |  \n",
      " |  http://www.clustal.org/\n",
      " |  \n",
      " |  Notes\n",
      " |  -----\n",
      " |  Last checked against versions: 1.83 and 2.1\n",
      " |  \n",
      " |  References\n",
      " |  ----------\n",
      " |  Larkin MA, Blackshields G, Brown NP, Chenna R, McGettigan PA,\n",
      " |  McWilliam H, Valentin F, Wallace IM, Wilm A, Lopez R, Thompson JD,\n",
      " |  Gibson TJ, Higgins DG. (2007). Clustal W and Clustal X version 2.0.\n",
      " |  Bioinformatics, 23, 2947-2948.\n",
      " |  \n",
      " |  Examples\n",
      " |  --------\n",
      " |  >>> from Bio.Align.Applications import ClustalwCommandline\n",
      " |  >>> in_file = \"unaligned.fasta\"\n",
      " |  >>> clustalw_cline = ClustalwCommandline(\"clustalw2\", infile=in_file)\n",
      " |  >>> print(clustalw_cline)\n",
      " |  clustalw2 -infile=unaligned.fasta\n",
      " |  \n",
      " |  You would typically run the command line with clustalw_cline() or via\n",
      " |  the Python subprocess module, as described in the Biopython tutorial.\n",
      " |  \n",
      " |  Method resolution order:\n",
      " |      ClustalwCommandline\n",
      " |      Bio.Application.AbstractCommandline\n",
      " |      builtins.object\n",
      " |  \n",
      " |  Methods defined here:\n",
      " |  \n",
      " |  __init__(self, cmd='clustalw', **kwargs)\n",
      " |      Initialize the class.\n",
      " |  \n",
      " |  ----------------------------------------------------------------------\n",
      " |  Data descriptors defined here:\n",
      " |  \n",
      " |  align\n",
      " |      Do full multiple alignment.\n",
      " |      \n",
      " |      This property controls the addition of the -align switch, treat this property as a boolean.\n",
      " |  \n",
      " |  bootlabels\n",
      " |      Node OR branch position of bootstrap values in tree display\n",
      " |      \n",
      " |      This controls the addition of the -bootlabels parameter and its associated value.  Set this property to the argument value required.\n",
      " |  \n",
      " |  bootstrap\n",
      " |      Bootstrap a NJ tree (n= number of bootstraps; def. = 1000).\n",
      " |      \n",
      " |      This controls the addition of the -bootstrap parameter and its associated value.  Set this property to the argument value required.\n",
      " |  \n",
      " |  case\n",
      " |      LOWER or UPPER (for GDE output only)\n",
      " |      \n",
      " |      This controls the addition of the -case parameter and its associated value.  Set this property to the argument value required.\n",
      " |  \n",
      " |  check\n",
      " |      Outline the command line params.\n",
      " |      \n",
      " |      This property controls the addition of the -check switch, treat this property as a boolean.\n",
      " |  \n",
      " |  clustering\n",
      " |      NJ or UPGMA\n",
      " |      \n",
      " |      This controls the addition of the -clustering parameter and its associated value.  Set this property to the argument value required.\n",
      " |  \n",
      " |  convert\n",
      " |      Output the input sequences in a different file format.\n",
      " |      \n",
      " |      This property controls the addition of the -convert switch, treat this property as a boolean.\n",
      " |  \n",
      " |  dnamatrix\n",
      " |      DNA weight matrix=IUB, CLUSTALW or filename\n",
      " |      \n",
      " |      This controls the addition of the -dnamatrix parameter and its associated value.  Set this property to the argument value required.\n",
      " |  \n",
      " |  endgaps\n",
      " |      No end gap separation pen.\n",
      " |      \n",
      " |      This property controls the addition of the -endgaps switch, treat this property as a boolean.\n",
      " |  \n",
      " |  fullhelp\n",
      " |      Output full help content.\n",
      " |      \n",
      " |      This property controls the addition of the -fullhelp switch, treat this property as a boolean.\n",
      " |  \n",
      " |  gapdist\n",
      " |      Gap separation pen. range\n",
      " |      \n",
      " |      This controls the addition of the -gapdist parameter and its associated value.  Set this property to the argument value required.\n",
      " |  \n",
      " |  gapext\n",
      " |      Gap extension penalty\n",
      " |      \n",
      " |      This controls the addition of the -gapext parameter and its associated value.  Set this property to the argument value required.\n",
      " |  \n",
      " |  gapopen\n",
      " |      Gap opening penalty\n",
      " |      \n",
      " |      This controls the addition of the -gapopen parameter and its associated value.  Set this property to the argument value required.\n",
      " |  \n",
      " |  helixendin\n",
      " |      Number of residues inside helix to be treated as terminal\n",
      " |      \n",
      " |      This controls the addition of the -helixendin parameter and its associated value.  Set this property to the argument value required.\n",
      " |  \n",
      " |  helixendout\n",
      " |      Number of residues outside helix to be treated as terminal\n",
      " |      \n",
      " |      This controls the addition of the -helixendout parameter and its associated value.  Set this property to the argument value required.\n",
      " |  \n",
      " |  helixgap\n",
      " |      Gap penalty for helix core residues\n",
      " |      \n",
      " |      This controls the addition of the -helixgap parameter and its associated value.  Set this property to the argument value required.\n",
      " |  \n",
      " |  help\n",
      " |      Outline the command line params.\n",
      " |      \n",
      " |      This property controls the addition of the -help switch, treat this property as a boolean.\n",
      " |  \n",
      " |  hgapresidues\n",
      " |      List hydrophilic res.\n",
      " |      \n",
      " |      This property controls the addition of the -hgapresidues switch, treat this property as a boolean.\n",
      " |  \n",
      " |  infile\n",
      " |      Input sequences.\n",
      " |      \n",
      " |      This controls the addition of the -infile parameter and its associated value.  Set this property to the argument value required.\n",
      " |  \n",
      " |  iteration\n",
      " |      NONE or TREE or ALIGNMENT\n",
      " |      \n",
      " |      This controls the addition of the -iteration parameter and its associated value.  Set this property to the argument value required.\n",
      " |  \n",
      " |  kimura\n",
      " |      Use Kimura's correction.\n",
      " |      \n",
      " |      This property controls the addition of the -kimura switch, treat this property as a boolean.\n",
      " |  \n",
      " |  ktuple\n",
      " |      Word size\n",
      " |      \n",
      " |      This controls the addition of the -ktuple parameter and its associated value.  Set this property to the argument value required.\n",
      " |  \n",
      " |  loopgap\n",
      " |      Gap penalty for loop regions\n",
      " |      \n",
      " |      This controls the addition of the -loopgap parameter and its associated value.  Set this property to the argument value required.\n",
      " |  \n",
      " |  matrix\n",
      " |      Protein weight matrix=BLOSUM, PAM, GONNET, ID or filename\n",
      " |      \n",
      " |      This controls the addition of the -matrix parameter and its associated value.  Set this property to the argument value required.\n",
      " |  \n",
      " |  maxdiv\n",
      " |      % ident. for delay\n",
      " |      \n",
      " |      This controls the addition of the -maxdiv parameter and its associated value.  Set this property to the argument value required.\n",
      " |  \n",
      " |  maxseqlen\n",
      " |      Maximum allowed input sequence length\n",
      " |      \n",
      " |      This controls the addition of the -maxseqlen parameter and its associated value.  Set this property to the argument value required.\n",
      " |  \n",
      " |  negative\n",
      " |      Protein alignment with negative values in matrix\n",
      " |      \n",
      " |      This property controls the addition of the -negative switch, treat this property as a boolean.\n",
      " |  \n",
      " |  newtree\n",
      " |      Output file name for newly created guide tree\n",
      " |      \n",
      " |      This controls the addition of the -newtree parameter and its associated value.  Set this property to the argument value required.\n",
      " |  \n",
      " |  newtree1\n",
      " |      Output file name for new guide tree of profile1\n",
      " |      \n",
      " |      This controls the addition of the -newtree1 parameter and its associated value.  Set this property to the argument value required.\n",
      " |  \n",
      " |  newtree2\n",
      " |      Output file for new guide tree of profile2\n",
      " |      \n",
      " |      This controls the addition of the -newtree2 parameter and its associated value.  Set this property to the argument value required.\n",
      " |  \n",
      " |  nohgap\n",
      " |      Hydrophilic gaps off\n",
      " |      \n",
      " |      This property controls the addition of the -nohgap switch, treat this property as a boolean.\n",
      " |  \n",
      " |  nopgap\n",
      " |      Residue-specific gaps off\n",
      " |      \n",
      " |      This property controls the addition of the -nopgap switch, treat this property as a boolean.\n",
      " |  \n",
      " |  nosecstr1\n",
      " |      Do not use secondary structure-gap penalty mask for profile 1\n",
      " |      \n",
      " |      This property controls the addition of the -nosecstr1 switch, treat this property as a boolean.\n",
      " |  \n",
      " |  nosecstr2\n",
      " |      Do not use secondary structure-gap penalty mask for profile 2\n",
      " |      \n",
      " |      This property controls the addition of the -nosecstr2 switch, treat this property as a boolean.\n",
      " |  \n",
      " |  noweights\n",
      " |      Disable sequence weighting\n",
      " |      \n",
      " |      This property controls the addition of the -noweights switch, treat this property as a boolean.\n",
      " |  \n",
      " |  numiter\n",
      " |      maximum number of iterations to perform\n",
      " |      \n",
      " |      This controls the addition of the -numiter parameter and its associated value.  Set this property to the argument value required.\n",
      " |  \n",
      " |  options\n",
      " |      List the command line parameters\n",
      " |      \n",
      " |      This property controls the addition of the -options switch, treat this property as a boolean.\n",
      " |  \n",
      " |  outfile\n",
      " |      Output sequence alignment file name\n",
      " |      \n",
      " |      This controls the addition of the -outfile parameter and its associated value.  Set this property to the argument value required.\n",
      " |  \n",
      " |  outorder\n",
      " |      Output taxon order: INPUT or ALIGNED\n",
      " |      \n",
      " |      This controls the addition of the -outorder parameter and its associated value.  Set this property to the argument value required.\n",
      " |  \n",
      " |  output\n",
      " |      Output format: CLUSTAL(default), GCG, GDE, PHYLIP, PIR, NEXUS and FASTA\n",
      " |      \n",
      " |      This controls the addition of the -output parameter and its associated value.  Set this property to the argument value required.\n",
      " |  \n",
      " |  outputtree\n",
      " |      nj OR phylip OR dist OR nexus\n",
      " |      \n",
      " |      This controls the addition of the -outputtree parameter and its associated value.  Set this property to the argument value required.\n",
      " |  \n",
      " |  pairgap\n",
      " |      Gap penalty\n",
      " |      \n",
      " |      This controls the addition of the -pairgap parameter and its associated value.  Set this property to the argument value required.\n",
      " |  \n",
      " |  pim\n",
      " |      Output percent identity matrix (while calculating the tree).\n",
      " |      \n",
      " |      This property controls the addition of the -pim switch, treat this property as a boolean.\n",
      " |  \n",
      " |  profile\n",
      " |      Merge two alignments by profile alignment\n",
      " |      \n",
      " |      This property controls the addition of the -profile switch, treat this property as a boolean.\n",
      " |  \n",
      " |  profile1\n",
      " |      Profiles (old alignment).\n",
      " |      \n",
      " |      This controls the addition of the -profile1 parameter and its associated value.  Set this property to the argument value required.\n",
      " |  \n",
      " |  profile2\n",
      " |      Profiles (old alignment).\n",
      " |      \n",
      " |      This controls the addition of the -profile2 parameter and its associated value.  Set this property to the argument value required.\n",
      " |  \n",
      " |  pwdnamatrix\n",
      " |      DNA weight matrix=IUB, CLUSTALW or filename\n",
      " |      \n",
      " |      This controls the addition of the -pwdnamatrix parameter and its associated value.  Set this property to the argument value required.\n",
      " |  \n",
      " |  pwgapext\n",
      " |      Gap extension penalty\n",
      " |      \n",
      " |      This controls the addition of the -pwgapext parameter and its associated value.  Set this property to the argument value required.\n",
      " |  \n",
      " |  pwgapopen\n",
      " |      Gap opening penalty\n",
      " |      \n",
      " |      This controls the addition of the -pwgapopen parameter and its associated value.  Set this property to the argument value required.\n",
      " |  \n",
      " |  pwmatrix\n",
      " |      Protein weight matrix=BLOSUM, PAM, GONNET, ID or filename\n",
      " |      \n",
      " |      This controls the addition of the -pwmatrix parameter and its associated value.  Set this property to the argument value required.\n",
      " |  \n",
      " |  quicktree\n",
      " |      Use FAST algorithm for the alignment guide tree\n",
      " |      \n",
      " |      This property controls the addition of the -quicktree switch, treat this property as a boolean.\n",
      " |  \n",
      " |  quiet\n",
      " |      Reduce console output to minimum\n",
      " |      \n",
      " |      This property controls the addition of the -quiet switch, treat this property as a boolean.\n",
      " |  \n",
      " |  range\n",
      " |      Sequence range to write starting m to m+n. Input as string eg. '24,200'\n",
      " |      \n",
      " |      This controls the addition of the -range parameter and its associated value.  Set this property to the argument value required.\n",
      " |  \n",
      " |  score\n",
      " |      Either: PERCENT or ABSOLUTE\n",
      " |      \n",
      " |      This controls the addition of the -score parameter and its associated value.  Set this property to the argument value required.\n",
      " |  \n",
      " |  secstrout\n",
      " |      STRUCTURE or MASK or BOTH or NONE output in alignment file\n",
      " |      \n",
      " |      This controls the addition of the -secstrout parameter and its associated value.  Set this property to the argument value required.\n",
      " |  \n",
      " |  seed\n",
      " |      Seed number for bootstraps.\n",
      " |      \n",
      " |      This controls the addition of the -seed parameter and its associated value.  Set this property to the argument value required.\n",
      " |  \n",
      " |  seqno_range\n",
      " |      OFF or ON (NEW- for all output formats)\n",
      " |      \n",
      " |      This controls the addition of the -seqno_range parameter and its associated value.  Set this property to the argument value required.\n",
      " |  \n",
      " |  seqnos\n",
      " |      OFF or ON (for Clustal output only)\n",
      " |      \n",
      " |      This controls the addition of the -seqnos parameter and its associated value.  Set this property to the argument value required.\n",
      " |  \n",
      " |  sequences\n",
      " |      Sequentially add profile2 sequences to profile1 alignment\n",
      " |      \n",
      " |      This property controls the addition of the -sequences switch, treat this property as a boolean.\n",
      " |  \n",
      " |  stats\n",
      " |      Log some alignment statistics to file\n",
      " |      \n",
      " |      This controls the addition of the -stats parameter and its associated value.  Set this property to the argument value required.\n",
      " |  \n",
      " |  strandendin\n",
      " |      Number of residues inside strand to be treated as terminal\n",
      " |      \n",
      " |      This controls the addition of the -strandendin parameter and its associated value.  Set this property to the argument value required.\n",
      " |  \n",
      " |  strandendout\n",
      " |      Number of residues outside strand to be treated as terminal\n",
      " |      \n",
      " |      This controls the addition of the -strandendout parameter and its associated value.  Set this property to the argument value required.\n",
      " |  \n",
      " |  strandgap\n",
      " |      gap penalty for strand core residues\n",
      " |      \n",
      " |      This controls the addition of the -strandgap parameter and its associated value.  Set this property to the argument value required.\n",
      " |  \n",
      " |  terminalgap\n",
      " |      Gap penalty for structure termini\n",
      " |      \n",
      " |      This controls the addition of the -terminalgap parameter and its associated value.  Set this property to the argument value required.\n",
      " |  \n",
      " |  topdiags\n",
      " |      Number of best diags.\n",
      " |      \n",
      " |      This controls the addition of the -topdiags parameter and its associated value.  Set this property to the argument value required.\n",
      " |  \n",
      " |  tossgaps\n",
      " |      Ignore positions with gaps.\n",
      " |      \n",
      " |      This property controls the addition of the -tossgaps switch, treat this property as a boolean.\n",
      " |  \n",
      " |  transweight\n",
      " |      Transitions weighting\n",
      " |      \n",
      " |      This controls the addition of the -transweight parameter and its associated value.  Set this property to the argument value required.\n",
      " |  \n",
      " |  tree\n",
      " |      Calculate NJ tree.\n",
      " |      \n",
      " |      This property controls the addition of the -tree switch, treat this property as a boolean.\n",
      " |  \n",
      " |  type\n",
      " |      PROTEIN or DNA sequences\n",
      " |      \n",
      " |      This controls the addition of the -type parameter and its associated value.  Set this property to the argument value required.\n",
      " |  \n",
      " |  usetree\n",
      " |      File name of guide tree\n",
      " |      \n",
      " |      This controls the addition of the -usetree parameter and its associated value.  Set this property to the argument value required.\n",
      " |  \n",
      " |  usetree1\n",
      " |      File name of guide tree for profile1\n",
      " |      \n",
      " |      This controls the addition of the -usetree1 parameter and its associated value.  Set this property to the argument value required.\n",
      " |  \n",
      " |  usetree2\n",
      " |      File name of guide tree for profile2\n",
      " |      \n",
      " |      This controls the addition of the -usetree2 parameter and its associated value.  Set this property to the argument value required.\n",
      " |  \n",
      " |  window\n",
      " |      Window around best diags.\n",
      " |      \n",
      " |      This controls the addition of the -window parameter and its associated value.  Set this property to the argument value required.\n",
      " |  \n",
      " |  ----------------------------------------------------------------------\n",
      " |  Methods inherited from Bio.Application.AbstractCommandline:\n",
      " |  \n",
      " |  __call__(self, stdin=None, stdout=True, stderr=True, cwd=None, env=None)\n",
      " |      Execute command, wait for it to finish, return (stdout, stderr).\n",
      " |      \n",
      " |      Runs the command line tool and waits for it to finish. If it returns\n",
      " |      a non-zero error level, an exception is raised. Otherwise two strings\n",
      " |      are returned containing stdout and stderr.\n",
      " |      \n",
      " |      The optional stdin argument should be a string of data which will be\n",
      " |      passed to the tool as standard input.\n",
      " |      \n",
      " |      The optional stdout and stderr argument may be filenames (string),\n",
      " |      but otherwise are treated as a booleans, and control if the output\n",
      " |      should be captured as strings (True, default), or ignored by sending\n",
      " |      it to /dev/null to avoid wasting memory (False). If sent to a file\n",
      " |      or ignored, then empty string(s) are returned.\n",
      " |      \n",
      " |      The optional cwd argument is a string giving the working directory\n",
      " |      to run the command from. See Python's subprocess module documentation\n",
      " |      for more details.\n",
      " |      \n",
      " |      The optional env argument is a dictionary setting the environment\n",
      " |      variables to be used in the new process. By default the current\n",
      " |      process' environment variables are used. See Python's subprocess\n",
      " |      module documentation for more details.\n",
      " |      \n",
      " |      Default example usage::\n",
      " |      \n",
      " |          from Bio.Emboss.Applications import WaterCommandline\n",
      " |          water_cmd = WaterCommandline(gapopen=10, gapextend=0.5,\n",
      " |                                       stdout=True, auto=True,\n",
      " |                                       asequence=\"a.fasta\", bsequence=\"b.fasta\")\n",
      " |          print(\"About to run: %s\" % water_cmd)\n",
      " |          std_output, err_output = water_cmd()\n",
      " |      \n",
      " |      This functionality is similar to subprocess.check_output(). In general\n",
      " |      if you require more control over running the command, use subprocess\n",
      " |      directly.\n",
      " |      \n",
      " |      When the program called returns a non-zero error level, a custom\n",
      " |      ApplicationError exception is raised. This includes any stdout and\n",
      " |      stderr strings captured as attributes of the exception object, since\n",
      " |      they may be useful for diagnosing what went wrong.\n",
      " |  \n",
      " |  __repr__(self)\n",
      " |      Return a representation of the command line object for debugging.\n",
      " |      \n",
      " |      e.g.\n",
      " |      \n",
      " |      >>> from Bio.Emboss.Applications import WaterCommandline\n",
      " |      >>> cline = WaterCommandline(gapopen=10, gapextend=0.5)\n",
      " |      >>> cline.asequence = \"asis:ACCCGGGCGCGGT\"\n",
      " |      >>> cline.bsequence = \"asis:ACCCGAGCGCGGT\"\n",
      " |      >>> cline.outfile = \"temp_water.txt\"\n",
      " |      >>> print(cline)\n",
      " |      water -outfile=temp_water.txt -asequence=asis:ACCCGGGCGCGGT -bsequence=asis:ACCCGAGCGCGGT -gapopen=10 -gapextend=0.5\n",
      " |      >>> cline\n",
      " |      WaterCommandline(cmd='water', outfile='temp_water.txt', asequence='asis:ACCCGGGCGCGGT', bsequence='asis:ACCCGAGCGCGGT', gapopen=10, gapextend=0.5)\n",
      " |  \n",
      " |  __setattr__(self, name, value)\n",
      " |      Set attribute name to value (PRIVATE).\n",
      " |      \n",
      " |      This code implements a workaround for a user interface issue.\n",
      " |      Without this __setattr__ attribute-based assignment of parameters\n",
      " |      will silently accept invalid parameters, leading to known instances\n",
      " |      of the user assuming that parameters for the application are set,\n",
      " |      when they are not.\n",
      " |      \n",
      " |      >>> from Bio.Emboss.Applications import WaterCommandline\n",
      " |      >>> cline = WaterCommandline(gapopen=10, gapextend=0.5, stdout=True)\n",
      " |      >>> cline.asequence = \"a.fasta\"\n",
      " |      >>> cline.bsequence = \"b.fasta\"\n",
      " |      >>> cline.csequence = \"c.fasta\"\n",
      " |      Traceback (most recent call last):\n",
      " |      ...\n",
      " |      ValueError: Option name csequence was not found.\n",
      " |      >>> print(cline)\n",
      " |      water -stdout -asequence=a.fasta -bsequence=b.fasta -gapopen=10 -gapextend=0.5\n",
      " |      \n",
      " |      This workaround uses a whitelist of object attributes, and sets the\n",
      " |      object attribute list as normal, for these.  Other attributes are\n",
      " |      assumed to be parameters, and passed to the self.set_parameter method\n",
      " |      for validation and assignment.\n",
      " |  \n",
      " |  __str__(self)\n",
      " |      Make the commandline string with the currently set options.\n",
      " |      \n",
      " |      e.g.\n",
      " |      \n",
      " |      >>> from Bio.Emboss.Applications import WaterCommandline\n",
      " |      >>> cline = WaterCommandline(gapopen=10, gapextend=0.5)\n",
      " |      >>> cline.asequence = \"asis:ACCCGGGCGCGGT\"\n",
      " |      >>> cline.bsequence = \"asis:ACCCGAGCGCGGT\"\n",
      " |      >>> cline.outfile = \"temp_water.txt\"\n",
      " |      >>> print(cline)\n",
      " |      water -outfile=temp_water.txt -asequence=asis:ACCCGGGCGCGGT -bsequence=asis:ACCCGAGCGCGGT -gapopen=10 -gapextend=0.5\n",
      " |      >>> str(cline)\n",
      " |      'water -outfile=temp_water.txt -asequence=asis:ACCCGGGCGCGGT -bsequence=asis:ACCCGAGCGCGGT -gapopen=10 -gapextend=0.5'\n",
      " |  \n",
      " |  set_parameter(self, name, value=None)\n",
      " |      Set a commandline option for a program (OBSOLETE).\n",
      " |      \n",
      " |      Every parameter is available via a property and as a named\n",
      " |      keyword when creating the instance. Using either of these is\n",
      " |      preferred to this legacy set_parameter method which is now\n",
      " |      OBSOLETE, and likely to be DEPRECATED and later REMOVED in\n",
      " |      future releases.\n",
      " |  \n",
      " |  ----------------------------------------------------------------------\n",
      " |  Data descriptors inherited from Bio.Application.AbstractCommandline:\n",
      " |  \n",
      " |  __dict__\n",
      " |      dictionary for instance variables (if defined)\n",
      " |  \n",
      " |  __weakref__\n",
      " |      list of weak references to the object (if defined)\n",
      " |  \n",
      " |  ----------------------------------------------------------------------\n",
      " |  Data and other attributes inherited from Bio.Application.AbstractCommandline:\n",
      " |  \n",
      " |  parameters = None\n",
      "\n"
     ]
    }
   ],
   "source": [
    "from Bio.Align.Applications import ClustalwCommandline\n",
    "help(ClustalwCommandline)"
   ]
  },
  {
   "cell_type": "markdown",
   "metadata": {},
   "source": [
    "\n",
    "For the most basic usage, all you need is to have a FASTA input file,\n",
    "such as\n",
    "[opuntia.fasta](http://biopython.org/DIST/docs/tutorial/examples/opuntia.fasta)\n",
    "(available online or in the Doc/examples subdirectory of the Biopython\n",
    "source code). This is a small FASTA file containing seven prickly-pear\n",
    "DNA sequences (from the cactus family *Opuntia*).\n",
    "\n",
    "By default ClustalW will generate an alignment and guide tree file with\n",
    "names based on the input FASTA file, in this case `opuntia.aln` and\n",
    "`opuntia.dnd`, but you can override this or make it explicit:\n",
    "\n"
   ]
  },
  {
   "cell_type": "code",
   "execution_count": 100,
   "metadata": {},
   "outputs": [
    {
     "name": "stdout",
     "output_type": "stream",
     "text": [
      "clustalw2 -infile=PF02932.fasta\n"
     ]
    }
   ],
   "source": [
    "from Bio.Align.Applications import ClustalwCommandline\n",
    "cline = ClustalwCommandline(\"clustalw2\", infile=\"PF02932.fasta\")\n",
    "print(cline)"
   ]
  },
  {
   "cell_type": "markdown",
   "metadata": {},
   "source": [
    "\n",
    "Notice here we have given the executable name as `clustalw2`, indicating\n",
    "we have version two installed, which has a different filename to version\n",
    "one (`clustalw`, the default). Fortunately both versions support the\n",
    "same set of arguments at the command line (and indeed, should be\n",
    "functionally identical).\n",
    "\n",
    "You may find that even though you have ClustalW installed, the above\n",
    "command doesn’t work – you may get a message about “command not found”\n",
    "(especially on Windows). This indicated that the ClustalW executable is\n",
    "not on your PATH (an environment variable, a list of directories to be\n",
    "searched). You can either update your PATH setting to include the\n",
    "location of your copy of ClustalW tools (how you do this will depend on\n",
    "your OS), or simply type in the full path of the tool. For example:\n",
    "\n"
   ]
  },
  {
   "cell_type": "code",
   "execution_count": 101,
   "metadata": {
    "tags": []
   },
   "outputs": [],
   "source": [
    "import os\n",
    "from Bio.Align.Applications import ClustalwCommandline\n",
    "clustalw_exe = r\"C:Users\\amand\\Documents\"\n",
    "clustalw_cline = ClustalwCommandline(clustalw_exe, infile=\"PF02932.fasta\")"
   ]
  },
  {
   "cell_type": "markdown",
   "metadata": {},
   "source": [
    "\n"
   ]
  },
  {
   "cell_type": "code",
   "execution_count": 102,
   "metadata": {},
   "outputs": [
    {
     "ename": "AssertionError",
     "evalue": "Clustal W executable missing",
     "output_type": "error",
     "traceback": [
      "\u001b[1;31m---------------------------------------------------------------------------\u001b[0m",
      "\u001b[1;31mAssertionError\u001b[0m                            Traceback (most recent call last)",
      "Input \u001b[1;32mIn [102]\u001b[0m, in \u001b[0;36m<cell line: 1>\u001b[1;34m()\u001b[0m\n\u001b[1;32m----> 1\u001b[0m \u001b[38;5;28;01massert\u001b[39;00m os\u001b[38;5;241m.\u001b[39mpath\u001b[38;5;241m.\u001b[39misfile(clustalw_exe), \u001b[38;5;124m\"\u001b[39m\u001b[38;5;124mClustal W executable missing\u001b[39m\u001b[38;5;124m\"\u001b[39m\n\u001b[0;32m      2\u001b[0m stdout, stderr \u001b[38;5;241m=\u001b[39m clustalw_cline()\n",
      "\u001b[1;31mAssertionError\u001b[0m: Clustal W executable missing"
     ]
    }
   ],
   "source": [
    "assert os.path.isfile(clustalw_exe), \"Clustal W executable missing\"\n",
    "stdout, stderr = clustalw_cline()"
   ]
  },
  {
   "cell_type": "markdown",
   "metadata": {},
   "source": [
    "\n",
    "Remember, in Python strings `\\n` and `\\t` are by default interpreted as\n",
    "a new line and a tab – which is why we’re put a letter “r” at the start\n",
    "for a raw string that isn’t translated in this way. This is generally\n",
    "good practice when specifying a Windows style file name.\n",
    "\n",
    "Internally this uses the `subprocess` module which is now the\n",
    "recommended way to run another program in Python. This replaces older\n",
    "options like the `os.system()` and the `os.popen*` functions.\n",
    "\n",
    "Now, at this point it helps to know about how command line tools “work”.\n",
    "When you run a tool at the command line, it will often print text output\n",
    "directly to screen. This text can be captured or redirected, via two\n",
    "“pipes”, called standard output (the normal results) and standard error\n",
    "(for error messages and debug messages). There is also standard input,\n",
    "which is any text fed into the tool. These names get shortened to stdin,\n",
    "stdout and stderr. When the tool finishes, it has a return code (an\n",
    "integer), which by convention is zero for success.\n",
    "\n",
    "When you run the command line tool like this via the Biopython wrapper,\n",
    "it will wait for it to finish, and check the return code. If this is non\n",
    "zero (indicating an error), an exception is raised. The wrapper then\n",
    "returns two strings, stdout and stderr.\n",
    "\n",
    "In the case of ClustalW, when run at the command line all the important\n",
    "output is written directly to the output files. Everything normally\n",
    "printed to screen while you wait (via stdout or stderr) is boring and\n",
    "can be ignored (assuming it worked).\n",
    "\n",
    "What we care about are the two output files, the alignment and the guide\n",
    "tree. We didn’t tell ClustalW what filenames to use, but it defaults to\n",
    "picking names based on the input file. In this case the output should be\n",
    "in the file `opuntia.aln`. You should be able to work out how to read in\n",
    "the alignment using `Bio.AlignIO` by now:\n",
    "\n"
   ]
  },
  {
   "cell_type": "code",
   "execution_count": 87,
   "metadata": {},
   "outputs": [
    {
     "ename": "FileNotFoundError",
     "evalue": "[Errno 2] No such file or directory: 'PF02932_seed'",
     "output_type": "error",
     "traceback": [
      "\u001b[1;31m---------------------------------------------------------------------------\u001b[0m",
      "\u001b[1;31mFileNotFoundError\u001b[0m                         Traceback (most recent call last)",
      "Input \u001b[1;32mIn [87]\u001b[0m, in \u001b[0;36m<cell line: 2>\u001b[1;34m()\u001b[0m\n\u001b[0;32m      1\u001b[0m \u001b[38;5;28;01mfrom\u001b[39;00m \u001b[38;5;21;01mBio\u001b[39;00m \u001b[38;5;28;01mimport\u001b[39;00m AlignIO\n\u001b[1;32m----> 2\u001b[0m align \u001b[38;5;241m=\u001b[39m \u001b[43mAlignIO\u001b[49m\u001b[38;5;241;43m.\u001b[39;49m\u001b[43mread\u001b[49m\u001b[43m(\u001b[49m\u001b[38;5;124;43m\"\u001b[39;49m\u001b[38;5;124;43mPF02932_seed\u001b[39;49m\u001b[38;5;124;43m\"\u001b[39;49m\u001b[43m,\u001b[49m\u001b[43m \u001b[49m\u001b[38;5;124;43m\"\u001b[39;49m\u001b[38;5;124;43mclustal\u001b[39;49m\u001b[38;5;124;43m\"\u001b[39;49m\u001b[43m)\u001b[49m\n\u001b[0;32m      3\u001b[0m \u001b[38;5;28mprint\u001b[39m(align)\n",
      "File \u001b[1;32m~\\anaconda3\\lib\\site-packages\\Bio\\AlignIO\\__init__.py:390\u001b[0m, in \u001b[0;36mread\u001b[1;34m(handle, format, seq_count)\u001b[0m\n\u001b[0;32m    388\u001b[0m iterator \u001b[38;5;241m=\u001b[39m parse(handle, \u001b[38;5;28mformat\u001b[39m, seq_count)\n\u001b[0;32m    389\u001b[0m \u001b[38;5;28;01mtry\u001b[39;00m:\n\u001b[1;32m--> 390\u001b[0m     alignment \u001b[38;5;241m=\u001b[39m \u001b[38;5;28;43mnext\u001b[39;49m\u001b[43m(\u001b[49m\u001b[43miterator\u001b[49m\u001b[43m)\u001b[49m\n\u001b[0;32m    391\u001b[0m \u001b[38;5;28;01mexcept\u001b[39;00m \u001b[38;5;167;01mStopIteration\u001b[39;00m:\n\u001b[0;32m    392\u001b[0m     \u001b[38;5;28;01mraise\u001b[39;00m \u001b[38;5;167;01mValueError\u001b[39;00m(\u001b[38;5;124m\"\u001b[39m\u001b[38;5;124mNo records found in handle\u001b[39m\u001b[38;5;124m\"\u001b[39m) \u001b[38;5;28;01mfrom\u001b[39;00m \u001b[38;5;28mNone\u001b[39m\n",
      "File \u001b[1;32m~\\anaconda3\\lib\\site-packages\\Bio\\AlignIO\\__init__.py:329\u001b[0m, in \u001b[0;36mparse\u001b[1;34m(handle, format, seq_count)\u001b[0m\n\u001b[0;32m    326\u001b[0m \u001b[38;5;28;01mif\u001b[39;00m seq_count \u001b[38;5;129;01mis\u001b[39;00m \u001b[38;5;129;01mnot\u001b[39;00m \u001b[38;5;28;01mNone\u001b[39;00m \u001b[38;5;129;01mand\u001b[39;00m \u001b[38;5;129;01mnot\u001b[39;00m \u001b[38;5;28misinstance\u001b[39m(seq_count, \u001b[38;5;28mint\u001b[39m):\n\u001b[0;32m    327\u001b[0m     \u001b[38;5;28;01mraise\u001b[39;00m \u001b[38;5;167;01mTypeError\u001b[39;00m(\u001b[38;5;124m\"\u001b[39m\u001b[38;5;124mNeed integer for seq_count (sequences per alignment)\u001b[39m\u001b[38;5;124m\"\u001b[39m)\n\u001b[1;32m--> 329\u001b[0m \u001b[38;5;28;01mwith\u001b[39;00m as_handle(handle) \u001b[38;5;28;01mas\u001b[39;00m fp:\n\u001b[0;32m    330\u001b[0m     \u001b[38;5;66;03m# Map the file format to a sequence iterator:\u001b[39;00m\n\u001b[0;32m    331\u001b[0m     \u001b[38;5;28;01mif\u001b[39;00m \u001b[38;5;28mformat\u001b[39m \u001b[38;5;129;01min\u001b[39;00m _FormatToIterator:\n\u001b[0;32m    332\u001b[0m         iterator_generator \u001b[38;5;241m=\u001b[39m _FormatToIterator[\u001b[38;5;28mformat\u001b[39m]\n",
      "File \u001b[1;32m~\\anaconda3\\lib\\contextlib.py:119\u001b[0m, in \u001b[0;36m_GeneratorContextManager.__enter__\u001b[1;34m(self)\u001b[0m\n\u001b[0;32m    117\u001b[0m \u001b[38;5;28;01mdel\u001b[39;00m \u001b[38;5;28mself\u001b[39m\u001b[38;5;241m.\u001b[39margs, \u001b[38;5;28mself\u001b[39m\u001b[38;5;241m.\u001b[39mkwds, \u001b[38;5;28mself\u001b[39m\u001b[38;5;241m.\u001b[39mfunc\n\u001b[0;32m    118\u001b[0m \u001b[38;5;28;01mtry\u001b[39;00m:\n\u001b[1;32m--> 119\u001b[0m     \u001b[38;5;28;01mreturn\u001b[39;00m \u001b[38;5;28;43mnext\u001b[39;49m\u001b[43m(\u001b[49m\u001b[38;5;28;43mself\u001b[39;49m\u001b[38;5;241;43m.\u001b[39;49m\u001b[43mgen\u001b[49m\u001b[43m)\u001b[49m\n\u001b[0;32m    120\u001b[0m \u001b[38;5;28;01mexcept\u001b[39;00m \u001b[38;5;167;01mStopIteration\u001b[39;00m:\n\u001b[0;32m    121\u001b[0m     \u001b[38;5;28;01mraise\u001b[39;00m \u001b[38;5;167;01mRuntimeError\u001b[39;00m(\u001b[38;5;124m\"\u001b[39m\u001b[38;5;124mgenerator didn\u001b[39m\u001b[38;5;124m'\u001b[39m\u001b[38;5;124mt yield\u001b[39m\u001b[38;5;124m\"\u001b[39m) \u001b[38;5;28;01mfrom\u001b[39;00m \u001b[38;5;28mNone\u001b[39m\n",
      "File \u001b[1;32m~\\anaconda3\\lib\\site-packages\\Bio\\File.py:72\u001b[0m, in \u001b[0;36mas_handle\u001b[1;34m(handleish, mode, **kwargs)\u001b[0m\n\u001b[0;32m     30\u001b[0m \u001b[38;5;124mr\u001b[39m\u001b[38;5;124;03m\"\"\"Context manager to ensure we are using a handle.\u001b[39;00m\n\u001b[0;32m     31\u001b[0m \n\u001b[0;32m     32\u001b[0m \u001b[38;5;124;03mContext manager for arguments that can be passed to SeqIO and AlignIO read, write,\u001b[39;00m\n\u001b[1;32m   (...)\u001b[0m\n\u001b[0;32m     69\u001b[0m \n\u001b[0;32m     70\u001b[0m \u001b[38;5;124;03m\"\"\"\u001b[39;00m\n\u001b[0;32m     71\u001b[0m \u001b[38;5;28;01mtry\u001b[39;00m:\n\u001b[1;32m---> 72\u001b[0m     \u001b[38;5;28;01mwith\u001b[39;00m \u001b[38;5;28mopen\u001b[39m(handleish, mode, \u001b[38;5;241m*\u001b[39m\u001b[38;5;241m*\u001b[39mkwargs) \u001b[38;5;28;01mas\u001b[39;00m fp:\n\u001b[0;32m     73\u001b[0m         \u001b[38;5;28;01myield\u001b[39;00m fp\n\u001b[0;32m     74\u001b[0m \u001b[38;5;28;01mexcept\u001b[39;00m \u001b[38;5;167;01mTypeError\u001b[39;00m:\n",
      "\u001b[1;31mFileNotFoundError\u001b[0m: [Errno 2] No such file or directory: 'PF02932_seed'"
     ]
    }
   ],
   "source": [
    "from Bio import AlignIO\n",
    "align = AlignIO.read(\"PF02932_seed.aln\", \"clustal\")\n",
    "print(align)"
   ]
  },
  {
   "cell_type": "markdown",
   "metadata": {},
   "source": [
    "\n",
    "In case you are interested (and this is an aside from the main thrust of\n",
    "this chapter), the `opuntia.dnd` file ClustalW creates is just a\n",
    "standard Newick tree file, and `Bio.Phylo` can parse these:\n",
    "\n"
   ]
  },
  {
   "cell_type": "code",
   "execution_count": 65,
   "metadata": {},
   "outputs": [
    {
     "ename": "FileNotFoundError",
     "evalue": "[Errno 2] No such file or directory: 'PF02932.dnd'",
     "output_type": "error",
     "traceback": [
      "\u001b[1;31m---------------------------------------------------------------------------\u001b[0m",
      "\u001b[1;31mFileNotFoundError\u001b[0m                         Traceback (most recent call last)",
      "Input \u001b[1;32mIn [65]\u001b[0m, in \u001b[0;36m<cell line: 2>\u001b[1;34m()\u001b[0m\n\u001b[0;32m      1\u001b[0m \u001b[38;5;28;01mfrom\u001b[39;00m \u001b[38;5;21;01mBio\u001b[39;00m \u001b[38;5;28;01mimport\u001b[39;00m Phylo\n\u001b[1;32m----> 2\u001b[0m tree \u001b[38;5;241m=\u001b[39m \u001b[43mPhylo\u001b[49m\u001b[38;5;241;43m.\u001b[39;49m\u001b[43mread\u001b[49m\u001b[43m(\u001b[49m\u001b[38;5;124;43m\"\u001b[39;49m\u001b[38;5;124;43mPF02932.dnd\u001b[39;49m\u001b[38;5;124;43m\"\u001b[39;49m\u001b[43m,\u001b[49m\u001b[43m \u001b[49m\u001b[38;5;124;43m\"\u001b[39;49m\u001b[38;5;124;43mnewick\u001b[39;49m\u001b[38;5;124;43m\"\u001b[39;49m\u001b[43m)\u001b[49m\n\u001b[0;32m      3\u001b[0m Phylo\u001b[38;5;241m.\u001b[39mdraw_ascii(tree)\n",
      "File \u001b[1;32m~\\anaconda3\\lib\\site-packages\\Bio\\Phylo\\_io.py:60\u001b[0m, in \u001b[0;36mread\u001b[1;34m(file, format, **kwargs)\u001b[0m\n\u001b[0;32m     58\u001b[0m \u001b[38;5;28;01mtry\u001b[39;00m:\n\u001b[0;32m     59\u001b[0m     tree_gen \u001b[38;5;241m=\u001b[39m parse(file, \u001b[38;5;28mformat\u001b[39m, \u001b[38;5;241m*\u001b[39m\u001b[38;5;241m*\u001b[39mkwargs)\n\u001b[1;32m---> 60\u001b[0m     tree \u001b[38;5;241m=\u001b[39m \u001b[38;5;28;43mnext\u001b[39;49m\u001b[43m(\u001b[49m\u001b[43mtree_gen\u001b[49m\u001b[43m)\u001b[49m\n\u001b[0;32m     61\u001b[0m \u001b[38;5;28;01mexcept\u001b[39;00m \u001b[38;5;167;01mStopIteration\u001b[39;00m:\n\u001b[0;32m     62\u001b[0m     \u001b[38;5;28;01mraise\u001b[39;00m \u001b[38;5;167;01mValueError\u001b[39;00m(\u001b[38;5;124m\"\u001b[39m\u001b[38;5;124mThere are no trees in this file.\u001b[39m\u001b[38;5;124m\"\u001b[39m) \u001b[38;5;28;01mfrom\u001b[39;00m \u001b[38;5;28mNone\u001b[39m\n",
      "File \u001b[1;32m~\\anaconda3\\lib\\site-packages\\Bio\\Phylo\\_io.py:48\u001b[0m, in \u001b[0;36mparse\u001b[1;34m(file, format, **kwargs)\u001b[0m\n\u001b[0;32m     33\u001b[0m \u001b[38;5;28;01mdef\u001b[39;00m \u001b[38;5;21mparse\u001b[39m(file, \u001b[38;5;28mformat\u001b[39m, \u001b[38;5;241m*\u001b[39m\u001b[38;5;241m*\u001b[39mkwargs):\n\u001b[0;32m     34\u001b[0m     \u001b[38;5;124;03m\"\"\"Parse a file iteratively, and yield each of the trees it contains.\u001b[39;00m\n\u001b[0;32m     35\u001b[0m \n\u001b[0;32m     36\u001b[0m \u001b[38;5;124;03m    If a file only contains one tree, this still returns an iterable object that\u001b[39;00m\n\u001b[1;32m   (...)\u001b[0m\n\u001b[0;32m     46\u001b[0m \n\u001b[0;32m     47\u001b[0m \u001b[38;5;124;03m    \"\"\"\u001b[39;00m\n\u001b[1;32m---> 48\u001b[0m     \u001b[38;5;28;01mwith\u001b[39;00m File\u001b[38;5;241m.\u001b[39mas_handle(file) \u001b[38;5;28;01mas\u001b[39;00m fp:\n\u001b[0;32m     49\u001b[0m         \u001b[38;5;28;01myield from\u001b[39;00m \u001b[38;5;28mgetattr\u001b[39m(supported_formats[\u001b[38;5;28mformat\u001b[39m], \u001b[38;5;124m\"\u001b[39m\u001b[38;5;124mparse\u001b[39m\u001b[38;5;124m\"\u001b[39m)(fp, \u001b[38;5;241m*\u001b[39m\u001b[38;5;241m*\u001b[39mkwargs)\n",
      "File \u001b[1;32m~\\anaconda3\\lib\\contextlib.py:119\u001b[0m, in \u001b[0;36m_GeneratorContextManager.__enter__\u001b[1;34m(self)\u001b[0m\n\u001b[0;32m    117\u001b[0m \u001b[38;5;28;01mdel\u001b[39;00m \u001b[38;5;28mself\u001b[39m\u001b[38;5;241m.\u001b[39margs, \u001b[38;5;28mself\u001b[39m\u001b[38;5;241m.\u001b[39mkwds, \u001b[38;5;28mself\u001b[39m\u001b[38;5;241m.\u001b[39mfunc\n\u001b[0;32m    118\u001b[0m \u001b[38;5;28;01mtry\u001b[39;00m:\n\u001b[1;32m--> 119\u001b[0m     \u001b[38;5;28;01mreturn\u001b[39;00m \u001b[38;5;28;43mnext\u001b[39;49m\u001b[43m(\u001b[49m\u001b[38;5;28;43mself\u001b[39;49m\u001b[38;5;241;43m.\u001b[39;49m\u001b[43mgen\u001b[49m\u001b[43m)\u001b[49m\n\u001b[0;32m    120\u001b[0m \u001b[38;5;28;01mexcept\u001b[39;00m \u001b[38;5;167;01mStopIteration\u001b[39;00m:\n\u001b[0;32m    121\u001b[0m     \u001b[38;5;28;01mraise\u001b[39;00m \u001b[38;5;167;01mRuntimeError\u001b[39;00m(\u001b[38;5;124m\"\u001b[39m\u001b[38;5;124mgenerator didn\u001b[39m\u001b[38;5;124m'\u001b[39m\u001b[38;5;124mt yield\u001b[39m\u001b[38;5;124m\"\u001b[39m) \u001b[38;5;28;01mfrom\u001b[39;00m \u001b[38;5;28mNone\u001b[39m\n",
      "File \u001b[1;32m~\\anaconda3\\lib\\site-packages\\Bio\\File.py:72\u001b[0m, in \u001b[0;36mas_handle\u001b[1;34m(handleish, mode, **kwargs)\u001b[0m\n\u001b[0;32m     30\u001b[0m \u001b[38;5;124mr\u001b[39m\u001b[38;5;124;03m\"\"\"Context manager to ensure we are using a handle.\u001b[39;00m\n\u001b[0;32m     31\u001b[0m \n\u001b[0;32m     32\u001b[0m \u001b[38;5;124;03mContext manager for arguments that can be passed to SeqIO and AlignIO read, write,\u001b[39;00m\n\u001b[1;32m   (...)\u001b[0m\n\u001b[0;32m     69\u001b[0m \n\u001b[0;32m     70\u001b[0m \u001b[38;5;124;03m\"\"\"\u001b[39;00m\n\u001b[0;32m     71\u001b[0m \u001b[38;5;28;01mtry\u001b[39;00m:\n\u001b[1;32m---> 72\u001b[0m     \u001b[38;5;28;01mwith\u001b[39;00m \u001b[38;5;28mopen\u001b[39m(handleish, mode, \u001b[38;5;241m*\u001b[39m\u001b[38;5;241m*\u001b[39mkwargs) \u001b[38;5;28;01mas\u001b[39;00m fp:\n\u001b[0;32m     73\u001b[0m         \u001b[38;5;28;01myield\u001b[39;00m fp\n\u001b[0;32m     74\u001b[0m \u001b[38;5;28;01mexcept\u001b[39;00m \u001b[38;5;167;01mTypeError\u001b[39;00m:\n",
      "\u001b[1;31mFileNotFoundError\u001b[0m: [Errno 2] No such file or directory: 'PF02932.dnd'"
     ]
    }
   ],
   "source": [
    "from Bio import Phylo\n",
    "tree = Phylo.read(\"PF02932.dnd\", \"newick\")\n",
    "Phylo.draw_ascii(tree)"
   ]
  },
  {
   "cell_type": "markdown",
   "metadata": {},
   "source": [
    "\n",
    "Chapter \\[sec:Phylo\\] covers Biopython’s support for phylogenetic trees\n",
    "in more depth.\n",
    "\n",
    "### MUSCLE\n",
    "\n",
    "MUSCLE is a more recent multiple sequence alignment tool than ClustalW,\n",
    "and Biopython also has a wrapper for it under the\n",
    "`Bio.Align.Applications` module. As before, we recommend you try using\n",
    "MUSCLE from the command line before trying it from within Python, as the\n",
    "Biopython wrapper is very faithful to the actual command line API:\n",
    "\n"
   ]
  },
  {
   "cell_type": "code",
   "execution_count": 88,
   "metadata": {},
   "outputs": [
    {
     "name": "stdout",
     "output_type": "stream",
     "text": [
      "Help on class MuscleCommandline in module Bio.Align.Applications._Muscle:\n",
      "\n",
      "class MuscleCommandline(Bio.Application.AbstractCommandline)\n",
      " |  MuscleCommandline(cmd='muscle', **kwargs)\n",
      " |  \n",
      " |  Command line wrapper for the multiple alignment program MUSCLE.\n",
      " |  \n",
      " |  http://www.drive5.com/muscle/\n",
      " |  \n",
      " |  Notes\n",
      " |  -----\n",
      " |  Last checked against version: 3.7, briefly against 3.8\n",
      " |  \n",
      " |  References\n",
      " |  ----------\n",
      " |  Edgar, Robert C. (2004), MUSCLE: multiple sequence alignment with high\n",
      " |  accuracy and high throughput, Nucleic Acids Research 32(5), 1792-97.\n",
      " |  \n",
      " |  Edgar, R.C. (2004) MUSCLE: a multiple sequence alignment method with\n",
      " |  reduced time and space complexity. BMC Bioinformatics 5(1): 113.\n",
      " |  \n",
      " |  Examples\n",
      " |  --------\n",
      " |  >>> from Bio.Align.Applications import MuscleCommandline\n",
      " |  >>> muscle_exe = r\"C:\\Program Files\\Alignments\\muscle3.8.31_i86win32.exe\"\n",
      " |  >>> in_file = r\"C:\\My Documents\\unaligned.fasta\"\n",
      " |  >>> out_file = r\"C:\\My Documents\\aligned.fasta\"\n",
      " |  >>> muscle_cline = MuscleCommandline(muscle_exe, input=in_file, out=out_file)\n",
      " |  >>> print(muscle_cline)\n",
      " |  \"C:\\Program Files\\Alignments\\muscle3.8.31_i86win32.exe\" -in \"C:\\My Documents\\unaligned.fasta\" -out \"C:\\My Documents\\aligned.fasta\"\n",
      " |  \n",
      " |  You would typically run the command line with muscle_cline() or via\n",
      " |  the Python subprocess module, as described in the Biopython tutorial.\n",
      " |  \n",
      " |  Method resolution order:\n",
      " |      MuscleCommandline\n",
      " |      Bio.Application.AbstractCommandline\n",
      " |      builtins.object\n",
      " |  \n",
      " |  Methods defined here:\n",
      " |  \n",
      " |  __init__(self, cmd='muscle', **kwargs)\n",
      " |      Initialize the class.\n",
      " |  \n",
      " |  ----------------------------------------------------------------------\n",
      " |  Methods inherited from Bio.Application.AbstractCommandline:\n",
      " |  \n",
      " |  __call__(self, stdin=None, stdout=True, stderr=True, cwd=None, env=None)\n",
      " |      Execute command, wait for it to finish, return (stdout, stderr).\n",
      " |      \n",
      " |      Runs the command line tool and waits for it to finish. If it returns\n",
      " |      a non-zero error level, an exception is raised. Otherwise two strings\n",
      " |      are returned containing stdout and stderr.\n",
      " |      \n",
      " |      The optional stdin argument should be a string of data which will be\n",
      " |      passed to the tool as standard input.\n",
      " |      \n",
      " |      The optional stdout and stderr argument may be filenames (string),\n",
      " |      but otherwise are treated as a booleans, and control if the output\n",
      " |      should be captured as strings (True, default), or ignored by sending\n",
      " |      it to /dev/null to avoid wasting memory (False). If sent to a file\n",
      " |      or ignored, then empty string(s) are returned.\n",
      " |      \n",
      " |      The optional cwd argument is a string giving the working directory\n",
      " |      to run the command from. See Python's subprocess module documentation\n",
      " |      for more details.\n",
      " |      \n",
      " |      The optional env argument is a dictionary setting the environment\n",
      " |      variables to be used in the new process. By default the current\n",
      " |      process' environment variables are used. See Python's subprocess\n",
      " |      module documentation for more details.\n",
      " |      \n",
      " |      Default example usage::\n",
      " |      \n",
      " |          from Bio.Emboss.Applications import WaterCommandline\n",
      " |          water_cmd = WaterCommandline(gapopen=10, gapextend=0.5,\n",
      " |                                       stdout=True, auto=True,\n",
      " |                                       asequence=\"a.fasta\", bsequence=\"b.fasta\")\n",
      " |          print(\"About to run: %s\" % water_cmd)\n",
      " |          std_output, err_output = water_cmd()\n",
      " |      \n",
      " |      This functionality is similar to subprocess.check_output(). In general\n",
      " |      if you require more control over running the command, use subprocess\n",
      " |      directly.\n",
      " |      \n",
      " |      When the program called returns a non-zero error level, a custom\n",
      " |      ApplicationError exception is raised. This includes any stdout and\n",
      " |      stderr strings captured as attributes of the exception object, since\n",
      " |      they may be useful for diagnosing what went wrong.\n",
      " |  \n",
      " |  __repr__(self)\n",
      " |      Return a representation of the command line object for debugging.\n",
      " |      \n",
      " |      e.g.\n",
      " |      \n",
      " |      >>> from Bio.Emboss.Applications import WaterCommandline\n",
      " |      >>> cline = WaterCommandline(gapopen=10, gapextend=0.5)\n",
      " |      >>> cline.asequence = \"asis:ACCCGGGCGCGGT\"\n",
      " |      >>> cline.bsequence = \"asis:ACCCGAGCGCGGT\"\n",
      " |      >>> cline.outfile = \"temp_water.txt\"\n",
      " |      >>> print(cline)\n",
      " |      water -outfile=temp_water.txt -asequence=asis:ACCCGGGCGCGGT -bsequence=asis:ACCCGAGCGCGGT -gapopen=10 -gapextend=0.5\n",
      " |      >>> cline\n",
      " |      WaterCommandline(cmd='water', outfile='temp_water.txt', asequence='asis:ACCCGGGCGCGGT', bsequence='asis:ACCCGAGCGCGGT', gapopen=10, gapextend=0.5)\n",
      " |  \n",
      " |  __setattr__(self, name, value)\n",
      " |      Set attribute name to value (PRIVATE).\n",
      " |      \n",
      " |      This code implements a workaround for a user interface issue.\n",
      " |      Without this __setattr__ attribute-based assignment of parameters\n",
      " |      will silently accept invalid parameters, leading to known instances\n",
      " |      of the user assuming that parameters for the application are set,\n",
      " |      when they are not.\n",
      " |      \n",
      " |      >>> from Bio.Emboss.Applications import WaterCommandline\n",
      " |      >>> cline = WaterCommandline(gapopen=10, gapextend=0.5, stdout=True)\n",
      " |      >>> cline.asequence = \"a.fasta\"\n",
      " |      >>> cline.bsequence = \"b.fasta\"\n",
      " |      >>> cline.csequence = \"c.fasta\"\n",
      " |      Traceback (most recent call last):\n",
      " |      ...\n",
      " |      ValueError: Option name csequence was not found.\n",
      " |      >>> print(cline)\n",
      " |      water -stdout -asequence=a.fasta -bsequence=b.fasta -gapopen=10 -gapextend=0.5\n",
      " |      \n",
      " |      This workaround uses a whitelist of object attributes, and sets the\n",
      " |      object attribute list as normal, for these.  Other attributes are\n",
      " |      assumed to be parameters, and passed to the self.set_parameter method\n",
      " |      for validation and assignment.\n",
      " |  \n",
      " |  __str__(self)\n",
      " |      Make the commandline string with the currently set options.\n",
      " |      \n",
      " |      e.g.\n",
      " |      \n",
      " |      >>> from Bio.Emboss.Applications import WaterCommandline\n",
      " |      >>> cline = WaterCommandline(gapopen=10, gapextend=0.5)\n",
      " |      >>> cline.asequence = \"asis:ACCCGGGCGCGGT\"\n",
      " |      >>> cline.bsequence = \"asis:ACCCGAGCGCGGT\"\n",
      " |      >>> cline.outfile = \"temp_water.txt\"\n",
      " |      >>> print(cline)\n",
      " |      water -outfile=temp_water.txt -asequence=asis:ACCCGGGCGCGGT -bsequence=asis:ACCCGAGCGCGGT -gapopen=10 -gapextend=0.5\n",
      " |      >>> str(cline)\n",
      " |      'water -outfile=temp_water.txt -asequence=asis:ACCCGGGCGCGGT -bsequence=asis:ACCCGAGCGCGGT -gapopen=10 -gapextend=0.5'\n",
      " |  \n",
      " |  set_parameter(self, name, value=None)\n",
      " |      Set a commandline option for a program (OBSOLETE).\n",
      " |      \n",
      " |      Every parameter is available via a property and as a named\n",
      " |      keyword when creating the instance. Using either of these is\n",
      " |      preferred to this legacy set_parameter method which is now\n",
      " |      OBSOLETE, and likely to be DEPRECATED and later REMOVED in\n",
      " |      future releases.\n",
      " |  \n",
      " |  ----------------------------------------------------------------------\n",
      " |  Data descriptors inherited from Bio.Application.AbstractCommandline:\n",
      " |  \n",
      " |  __dict__\n",
      " |      dictionary for instance variables (if defined)\n",
      " |  \n",
      " |  __weakref__\n",
      " |      list of weak references to the object (if defined)\n",
      " |  \n",
      " |  ----------------------------------------------------------------------\n",
      " |  Data and other attributes inherited from Bio.Application.AbstractCommandline:\n",
      " |  \n",
      " |  parameters = None\n",
      "\n"
     ]
    }
   ],
   "source": [
    "from Bio.Align.Applications import MuscleCommandline\n",
    "help(MuscleCommandline)"
   ]
  },
  {
   "cell_type": "markdown",
   "metadata": {},
   "source": [
    "\n",
    "For the most basic usage, all you need is to have a FASTA input file,\n",
    "such as\n",
    "[opuntia.fasta](http://biopython.org/DIST/docs/tutorial/examples/opuntia.fasta)\n",
    "(available online or in the Doc/examples subdirectory of the Biopython\n",
    "source code). You can then tell MUSCLE to read in this FASTA file, and\n",
    "write the alignment to an output file:\n",
    "\n"
   ]
  },
  {
   "cell_type": "code",
   "execution_count": 89,
   "metadata": {},
   "outputs": [
    {
     "name": "stdout",
     "output_type": "stream",
     "text": [
      "muscle -in Pf02932.fasta -out PF02932.txt\n"
     ]
    }
   ],
   "source": [
    "from Bio.Align.Applications import MuscleCommandline\n",
    "cline = MuscleCommandline(input=\"Pf02932.fasta\", out=\"PF02932.txt\")\n",
    "print(cline)"
   ]
  },
  {
   "cell_type": "markdown",
   "metadata": {},
   "source": [
    "\n",
    "Note that MUSCLE uses “-in” and “-out” but in Biopython we have to use\n",
    "“input” and “out” as the keyword arguments or property names. This is\n",
    "because “in” is a reserved word in Python.\n",
    "\n",
    "By default MUSCLE will output the alignment as a FASTA file (using\n",
    "gapped sequences). The `Bio.AlignIO` module should be able to read this\n",
    "alignment using `format=fasta`. You can also ask for ClustalW-like\n",
    "output:\n",
    "\n"
   ]
  },
  {
   "cell_type": "code",
   "execution_count": 90,
   "metadata": {},
   "outputs": [
    {
     "name": "stdout",
     "output_type": "stream",
     "text": [
      "muscle -in PF02932.fasta -out PF02932.aln -clw\n"
     ]
    }
   ],
   "source": [
    "from Bio.Align.Applications import MuscleCommandline\n",
    "cline = MuscleCommandline(input=\"PF02932.fasta\", out=\"PF02932.aln\", clw=True)\n",
    "print(cline)"
   ]
  },
  {
   "cell_type": "markdown",
   "metadata": {},
   "source": [
    "\n",
    "Or, strict ClustalW output where the original ClustalW header line is\n",
    "used for maximum compatibility:\n",
    "\n"
   ]
  },
  {
   "cell_type": "code",
   "execution_count": 91,
   "metadata": {},
   "outputs": [
    {
     "name": "stdout",
     "output_type": "stream",
     "text": [
      "muscle -in PF02932.fasta -out PF02932.aln -clwstrict\n"
     ]
    }
   ],
   "source": [
    "from Bio.Align.Applications import MuscleCommandline\n",
    "cline = MuscleCommandline(input=\"PF02932.fasta\", out=\"PF02932.aln\", clwstrict=True)\n",
    "print(cline)"
   ]
  },
  {
   "cell_type": "markdown",
   "metadata": {},
   "source": [
    "\n",
    "The `Bio.AlignIO` module should be able to read these alignments using\n",
    "`format=clustal`.\n",
    "\n",
    "MUSCLE can also output in GCG MSF format (using the `msf` argument), but\n",
    "Biopython can’t currently parse that, or using HTML which would give a\n",
    "human readable web page (not suitable for parsing).\n",
    "\n",
    "You can also set the other optional parameters, for example the maximum\n",
    "number of iterations. See the built in help for details.\n",
    "\n",
    "You would then run MUSCLE command line string as described above for\n",
    "ClustalW, and parse the output using `Bio.AlignIO` to get an alignment\n",
    "object.\n",
    "\n",
    "### MUSCLE using stdout\n",
    "\n",
    "Using a MUSCLE command line as in the examples above will write the\n",
    "alignment to a file. This means there will be no important information\n",
    "written to the standard out (stdout) or standard error (stderr) handles.\n",
    "However, by default MUSCLE will write the alignment to standard output\n",
    "(stdout). We can take advantage of this to avoid having a temporary\n",
    "output file! For example:\n",
    "\n"
   ]
  },
  {
   "cell_type": "code",
   "execution_count": 92,
   "metadata": {},
   "outputs": [
    {
     "name": "stdout",
     "output_type": "stream",
     "text": [
      "muscle -in PF02932.fasta\n"
     ]
    }
   ],
   "source": [
    "from Bio.Align.Applications import MuscleCommandline\n",
    "muscle_cline = MuscleCommandline(input=\"PF02932.fasta\")\n",
    "print(muscle_cline)"
   ]
  },
  {
   "cell_type": "markdown",
   "metadata": {},
   "source": [
    "\n",
    "If we run this via the wrapper, we get back the output as a string. In\n",
    "order to parse this we can use `StringIO` to turn it into a handle.\n",
    "Remember that MUSCLE defaults to using FASTA as the output format:\n",
    "\n"
   ]
  },
  {
   "cell_type": "code",
   "execution_count": 94,
   "metadata": {},
   "outputs": [
    {
     "ename": "ApplicationError",
     "evalue": "Non-zero return code 1 from 'muscle -in PF02932.fasta', message \"'muscle' is not recognized as an internal or external command,\"",
     "output_type": "error",
     "traceback": [
      "\u001b[1;31m---------------------------------------------------------------------------\u001b[0m",
      "\u001b[1;31mApplicationError\u001b[0m                          Traceback (most recent call last)",
      "Input \u001b[1;32mIn [94]\u001b[0m, in \u001b[0;36m<cell line: 3>\u001b[1;34m()\u001b[0m\n\u001b[0;32m      1\u001b[0m \u001b[38;5;28;01mfrom\u001b[39;00m \u001b[38;5;21;01mBio\u001b[39;00m\u001b[38;5;21;01m.\u001b[39;00m\u001b[38;5;21;01mAlign\u001b[39;00m\u001b[38;5;21;01m.\u001b[39;00m\u001b[38;5;21;01mApplications\u001b[39;00m \u001b[38;5;28;01mimport\u001b[39;00m MuscleCommandline\n\u001b[0;32m      2\u001b[0m muscle_cline \u001b[38;5;241m=\u001b[39m MuscleCommandline(\u001b[38;5;28minput\u001b[39m\u001b[38;5;241m=\u001b[39m\u001b[38;5;124m\"\u001b[39m\u001b[38;5;124mPF02932.fasta\u001b[39m\u001b[38;5;124m\"\u001b[39m)\n\u001b[1;32m----> 3\u001b[0m stdout, stderr \u001b[38;5;241m=\u001b[39m \u001b[43mmuscle_cline\u001b[49m\u001b[43m(\u001b[49m\u001b[43m)\u001b[49m\n\u001b[0;32m      4\u001b[0m \u001b[38;5;28;01mfrom\u001b[39;00m \u001b[38;5;21;01mio\u001b[39;00m \u001b[38;5;28;01mimport\u001b[39;00m StringIO\n\u001b[0;32m      5\u001b[0m \u001b[38;5;28;01mfrom\u001b[39;00m \u001b[38;5;21;01mBio\u001b[39;00m \u001b[38;5;28;01mimport\u001b[39;00m AlignIO\n",
      "File \u001b[1;32m~\\anaconda3\\lib\\site-packages\\Bio\\Application\\__init__.py:569\u001b[0m, in \u001b[0;36mAbstractCommandline.__call__\u001b[1;34m(self, stdin, stdout, stderr, cwd, env)\u001b[0m\n\u001b[0;32m    566\u001b[0m     stderr_arg\u001b[38;5;241m.\u001b[39mclose()\n\u001b[0;32m    568\u001b[0m \u001b[38;5;28;01mif\u001b[39;00m return_code:\n\u001b[1;32m--> 569\u001b[0m     \u001b[38;5;28;01mraise\u001b[39;00m ApplicationError(return_code, \u001b[38;5;28mstr\u001b[39m(\u001b[38;5;28mself\u001b[39m), stdout_str, stderr_str)\n\u001b[0;32m    570\u001b[0m \u001b[38;5;28;01mreturn\u001b[39;00m stdout_str, stderr_str\n",
      "\u001b[1;31mApplicationError\u001b[0m: Non-zero return code 1 from 'muscle -in PF02932.fasta', message \"'muscle' is not recognized as an internal or external command,\""
     ]
    }
   ],
   "source": [
    "from Bio.Align.Applications import MuscleCommandline\n",
    "muscle_cline = MuscleCommandline(input=\"PF02932.fasta\")\n",
    "stdout, stderr = muscle_cline()\n",
    "from io import StringIO\n",
    "from Bio import AlignIO\n",
    "align = AlignIO.read(StringIO(stdout), \"fasta\")\n",
    "print(align)"
   ]
  },
  {
   "cell_type": "markdown",
   "metadata": {},
   "source": [
    "\n",
    "The above approach is fairly simple, but if you are dealing with very\n",
    "large output text the fact that all of stdout and stderr is loaded into\n",
    "memory as a string can be a potential drawback. Using the `subprocess`\n",
    "module we can work directly with handles instead:\n",
    "\n"
   ]
  },
  {
   "cell_type": "code",
   "execution_count": 95,
   "metadata": {},
   "outputs": [
    {
     "ename": "FileNotFoundError",
     "evalue": "[WinError 2] The system cannot find the file specified",
     "output_type": "error",
     "traceback": [
      "\u001b[1;31m---------------------------------------------------------------------------\u001b[0m",
      "\u001b[1;31mFileNotFoundError\u001b[0m                         Traceback (most recent call last)",
      "Input \u001b[1;32mIn [95]\u001b[0m, in \u001b[0;36m<cell line: 5>\u001b[1;34m()\u001b[0m\n\u001b[0;32m      3\u001b[0m \u001b[38;5;28;01mfrom\u001b[39;00m \u001b[38;5;21;01mBio\u001b[39;00m\u001b[38;5;21;01m.\u001b[39;00m\u001b[38;5;21;01mAlign\u001b[39;00m\u001b[38;5;21;01m.\u001b[39;00m\u001b[38;5;21;01mApplications\u001b[39;00m \u001b[38;5;28;01mimport\u001b[39;00m MuscleCommandline\n\u001b[0;32m      4\u001b[0m muscle_cline \u001b[38;5;241m=\u001b[39m MuscleCommandline(\u001b[38;5;28minput\u001b[39m\u001b[38;5;241m=\u001b[39m\u001b[38;5;124m\"\u001b[39m\u001b[38;5;124mPF02932.fasta\u001b[39m\u001b[38;5;124m\"\u001b[39m)\n\u001b[1;32m----> 5\u001b[0m child \u001b[38;5;241m=\u001b[39m \u001b[43msubprocess\u001b[49m\u001b[38;5;241;43m.\u001b[39;49m\u001b[43mPopen\u001b[49m\u001b[43m(\u001b[49m\u001b[38;5;28;43mstr\u001b[39;49m\u001b[43m(\u001b[49m\u001b[43mmuscle_cline\u001b[49m\u001b[43m)\u001b[49m\u001b[43m,\u001b[49m\n\u001b[0;32m      6\u001b[0m \u001b[43m    \u001b[49m\u001b[43mstdout\u001b[49m\u001b[38;5;241;43m=\u001b[39;49m\u001b[43msubprocess\u001b[49m\u001b[38;5;241;43m.\u001b[39;49m\u001b[43mPIPE\u001b[49m\u001b[43m,\u001b[49m\u001b[43m \u001b[49m\u001b[43mstderr\u001b[49m\u001b[38;5;241;43m=\u001b[39;49m\u001b[43msubprocess\u001b[49m\u001b[38;5;241;43m.\u001b[39;49m\u001b[43mPIPE\u001b[49m\u001b[43m,\u001b[49m\n\u001b[0;32m      7\u001b[0m \u001b[43m    \u001b[49m\u001b[43mshell\u001b[49m\u001b[38;5;241;43m=\u001b[39;49m\u001b[43m(\u001b[49m\u001b[43msys\u001b[49m\u001b[38;5;241;43m.\u001b[39;49m\u001b[43mplatform\u001b[49m\u001b[43m \u001b[49m\u001b[38;5;241;43m!=\u001b[39;49m\u001b[43m \u001b[49m\u001b[38;5;124;43m\"\u001b[39;49m\u001b[38;5;124;43mwin32\u001b[39;49m\u001b[38;5;124;43m\"\u001b[39;49m\u001b[43m)\u001b[49m\u001b[43m,\u001b[49m\n\u001b[0;32m      8\u001b[0m \u001b[43m    \u001b[49m\u001b[43muniversal_newlines\u001b[49m\u001b[38;5;241;43m=\u001b[39;49m\u001b[38;5;28;43;01mTrue\u001b[39;49;00m\u001b[43m)\u001b[49m\n\u001b[0;32m      9\u001b[0m \u001b[38;5;28;01mfrom\u001b[39;00m \u001b[38;5;21;01mBio\u001b[39;00m \u001b[38;5;28;01mimport\u001b[39;00m AlignIO\n\u001b[0;32m     10\u001b[0m align \u001b[38;5;241m=\u001b[39m AlignIO\u001b[38;5;241m.\u001b[39mread(child\u001b[38;5;241m.\u001b[39mstdout, \u001b[38;5;124m\"\u001b[39m\u001b[38;5;124mfasta\u001b[39m\u001b[38;5;124m\"\u001b[39m)\n",
      "File \u001b[1;32m~\\anaconda3\\lib\\subprocess.py:951\u001b[0m, in \u001b[0;36mPopen.__init__\u001b[1;34m(self, args, bufsize, executable, stdin, stdout, stderr, preexec_fn, close_fds, shell, cwd, env, universal_newlines, startupinfo, creationflags, restore_signals, start_new_session, pass_fds, user, group, extra_groups, encoding, errors, text, umask)\u001b[0m\n\u001b[0;32m    947\u001b[0m         \u001b[38;5;28;01mif\u001b[39;00m \u001b[38;5;28mself\u001b[39m\u001b[38;5;241m.\u001b[39mtext_mode:\n\u001b[0;32m    948\u001b[0m             \u001b[38;5;28mself\u001b[39m\u001b[38;5;241m.\u001b[39mstderr \u001b[38;5;241m=\u001b[39m io\u001b[38;5;241m.\u001b[39mTextIOWrapper(\u001b[38;5;28mself\u001b[39m\u001b[38;5;241m.\u001b[39mstderr,\n\u001b[0;32m    949\u001b[0m                     encoding\u001b[38;5;241m=\u001b[39mencoding, errors\u001b[38;5;241m=\u001b[39merrors)\n\u001b[1;32m--> 951\u001b[0m     \u001b[38;5;28;43mself\u001b[39;49m\u001b[38;5;241;43m.\u001b[39;49m\u001b[43m_execute_child\u001b[49m\u001b[43m(\u001b[49m\u001b[43margs\u001b[49m\u001b[43m,\u001b[49m\u001b[43m \u001b[49m\u001b[43mexecutable\u001b[49m\u001b[43m,\u001b[49m\u001b[43m \u001b[49m\u001b[43mpreexec_fn\u001b[49m\u001b[43m,\u001b[49m\u001b[43m \u001b[49m\u001b[43mclose_fds\u001b[49m\u001b[43m,\u001b[49m\n\u001b[0;32m    952\u001b[0m \u001b[43m                        \u001b[49m\u001b[43mpass_fds\u001b[49m\u001b[43m,\u001b[49m\u001b[43m \u001b[49m\u001b[43mcwd\u001b[49m\u001b[43m,\u001b[49m\u001b[43m \u001b[49m\u001b[43menv\u001b[49m\u001b[43m,\u001b[49m\n\u001b[0;32m    953\u001b[0m \u001b[43m                        \u001b[49m\u001b[43mstartupinfo\u001b[49m\u001b[43m,\u001b[49m\u001b[43m \u001b[49m\u001b[43mcreationflags\u001b[49m\u001b[43m,\u001b[49m\u001b[43m \u001b[49m\u001b[43mshell\u001b[49m\u001b[43m,\u001b[49m\n\u001b[0;32m    954\u001b[0m \u001b[43m                        \u001b[49m\u001b[43mp2cread\u001b[49m\u001b[43m,\u001b[49m\u001b[43m \u001b[49m\u001b[43mp2cwrite\u001b[49m\u001b[43m,\u001b[49m\n\u001b[0;32m    955\u001b[0m \u001b[43m                        \u001b[49m\u001b[43mc2pread\u001b[49m\u001b[43m,\u001b[49m\u001b[43m \u001b[49m\u001b[43mc2pwrite\u001b[49m\u001b[43m,\u001b[49m\n\u001b[0;32m    956\u001b[0m \u001b[43m                        \u001b[49m\u001b[43merrread\u001b[49m\u001b[43m,\u001b[49m\u001b[43m \u001b[49m\u001b[43merrwrite\u001b[49m\u001b[43m,\u001b[49m\n\u001b[0;32m    957\u001b[0m \u001b[43m                        \u001b[49m\u001b[43mrestore_signals\u001b[49m\u001b[43m,\u001b[49m\n\u001b[0;32m    958\u001b[0m \u001b[43m                        \u001b[49m\u001b[43mgid\u001b[49m\u001b[43m,\u001b[49m\u001b[43m \u001b[49m\u001b[43mgids\u001b[49m\u001b[43m,\u001b[49m\u001b[43m \u001b[49m\u001b[43muid\u001b[49m\u001b[43m,\u001b[49m\u001b[43m \u001b[49m\u001b[43mumask\u001b[49m\u001b[43m,\u001b[49m\n\u001b[0;32m    959\u001b[0m \u001b[43m                        \u001b[49m\u001b[43mstart_new_session\u001b[49m\u001b[43m)\u001b[49m\n\u001b[0;32m    960\u001b[0m \u001b[38;5;28;01mexcept\u001b[39;00m:\n\u001b[0;32m    961\u001b[0m     \u001b[38;5;66;03m# Cleanup if the child failed starting.\u001b[39;00m\n\u001b[0;32m    962\u001b[0m     \u001b[38;5;28;01mfor\u001b[39;00m f \u001b[38;5;129;01min\u001b[39;00m \u001b[38;5;28mfilter\u001b[39m(\u001b[38;5;28;01mNone\u001b[39;00m, (\u001b[38;5;28mself\u001b[39m\u001b[38;5;241m.\u001b[39mstdin, \u001b[38;5;28mself\u001b[39m\u001b[38;5;241m.\u001b[39mstdout, \u001b[38;5;28mself\u001b[39m\u001b[38;5;241m.\u001b[39mstderr)):\n",
      "File \u001b[1;32m~\\anaconda3\\lib\\subprocess.py:1420\u001b[0m, in \u001b[0;36mPopen._execute_child\u001b[1;34m(self, args, executable, preexec_fn, close_fds, pass_fds, cwd, env, startupinfo, creationflags, shell, p2cread, p2cwrite, c2pread, c2pwrite, errread, errwrite, unused_restore_signals, unused_gid, unused_gids, unused_uid, unused_umask, unused_start_new_session)\u001b[0m\n\u001b[0;32m   1418\u001b[0m \u001b[38;5;66;03m# Start the process\u001b[39;00m\n\u001b[0;32m   1419\u001b[0m \u001b[38;5;28;01mtry\u001b[39;00m:\n\u001b[1;32m-> 1420\u001b[0m     hp, ht, pid, tid \u001b[38;5;241m=\u001b[39m \u001b[43m_winapi\u001b[49m\u001b[38;5;241;43m.\u001b[39;49m\u001b[43mCreateProcess\u001b[49m\u001b[43m(\u001b[49m\u001b[43mexecutable\u001b[49m\u001b[43m,\u001b[49m\u001b[43m \u001b[49m\u001b[43margs\u001b[49m\u001b[43m,\u001b[49m\n\u001b[0;32m   1421\u001b[0m \u001b[43m                             \u001b[49m\u001b[38;5;66;43;03m# no special security\u001b[39;49;00m\n\u001b[0;32m   1422\u001b[0m \u001b[43m                             \u001b[49m\u001b[38;5;28;43;01mNone\u001b[39;49;00m\u001b[43m,\u001b[49m\u001b[43m \u001b[49m\u001b[38;5;28;43;01mNone\u001b[39;49;00m\u001b[43m,\u001b[49m\n\u001b[0;32m   1423\u001b[0m \u001b[43m                             \u001b[49m\u001b[38;5;28;43mint\u001b[39;49m\u001b[43m(\u001b[49m\u001b[38;5;129;43;01mnot\u001b[39;49;00m\u001b[43m \u001b[49m\u001b[43mclose_fds\u001b[49m\u001b[43m)\u001b[49m\u001b[43m,\u001b[49m\n\u001b[0;32m   1424\u001b[0m \u001b[43m                             \u001b[49m\u001b[43mcreationflags\u001b[49m\u001b[43m,\u001b[49m\n\u001b[0;32m   1425\u001b[0m \u001b[43m                             \u001b[49m\u001b[43menv\u001b[49m\u001b[43m,\u001b[49m\n\u001b[0;32m   1426\u001b[0m \u001b[43m                             \u001b[49m\u001b[43mcwd\u001b[49m\u001b[43m,\u001b[49m\n\u001b[0;32m   1427\u001b[0m \u001b[43m                             \u001b[49m\u001b[43mstartupinfo\u001b[49m\u001b[43m)\u001b[49m\n\u001b[0;32m   1428\u001b[0m \u001b[38;5;28;01mfinally\u001b[39;00m:\n\u001b[0;32m   1429\u001b[0m     \u001b[38;5;66;03m# Child is launched. Close the parent's copy of those pipe\u001b[39;00m\n\u001b[0;32m   1430\u001b[0m     \u001b[38;5;66;03m# handles that only the child should have open.  You need\u001b[39;00m\n\u001b[1;32m   (...)\u001b[0m\n\u001b[0;32m   1433\u001b[0m     \u001b[38;5;66;03m# pipe will not close when the child process exits and the\u001b[39;00m\n\u001b[0;32m   1434\u001b[0m     \u001b[38;5;66;03m# ReadFile will hang.\u001b[39;00m\n\u001b[0;32m   1435\u001b[0m     \u001b[38;5;28mself\u001b[39m\u001b[38;5;241m.\u001b[39m_close_pipe_fds(p2cread, p2cwrite,\n\u001b[0;32m   1436\u001b[0m                          c2pread, c2pwrite,\n\u001b[0;32m   1437\u001b[0m                          errread, errwrite)\n",
      "File \u001b[1;32m~\\anaconda3\\lib\\site-packages\\debugpy\\_vendored\\pydevd\\_pydev_bundle\\pydev_monkey.py:860\u001b[0m, in \u001b[0;36mcreate_CreateProcess.<locals>.new_CreateProcess\u001b[1;34m(app_name, cmd_line, *args)\u001b[0m\n\u001b[0;32m    857\u001b[0m     cmd_line \u001b[38;5;241m=\u001b[39m patch_arg_str_win(cmd_line)\n\u001b[0;32m    858\u001b[0m     send_process_created_message()\n\u001b[1;32m--> 860\u001b[0m \u001b[38;5;28;01mreturn\u001b[39;00m \u001b[38;5;28;43mgetattr\u001b[39;49m\u001b[43m(\u001b[49m\u001b[43m_subprocess\u001b[49m\u001b[43m,\u001b[49m\u001b[43m \u001b[49m\u001b[43moriginal_name\u001b[49m\u001b[43m)\u001b[49m\u001b[43m(\u001b[49m\u001b[43mapp_name\u001b[49m\u001b[43m,\u001b[49m\u001b[43m \u001b[49m\u001b[43mcmd_line\u001b[49m\u001b[43m,\u001b[49m\u001b[43m \u001b[49m\u001b[38;5;241;43m*\u001b[39;49m\u001b[43margs\u001b[49m\u001b[43m)\u001b[49m\n",
      "\u001b[1;31mFileNotFoundError\u001b[0m: [WinError 2] The system cannot find the file specified"
     ]
    }
   ],
   "source": [
    "import subprocess\n",
    "import sys\n",
    "from Bio.Align.Applications import MuscleCommandline\n",
    "muscle_cline = MuscleCommandline(input=\"PF02932.fasta\")\n",
    "child = subprocess.Popen(str(muscle_cline),\n",
    "    stdout=subprocess.PIPE, stderr=subprocess.PIPE,\n",
    "    shell=(sys.platform != \"win32\"),\n",
    "    universal_newlines=True)\n",
    "from Bio import AlignIO\n",
    "align = AlignIO.read(child.stdout, \"fasta\")\n",
    "print(align)"
   ]
  },
  {
   "cell_type": "markdown",
   "metadata": {},
   "source": [
    "\n",
    "### MUSCLE using stdin and stdout\n",
    "\n",
    "We don’t actually *need* to have our FASTA input sequences prepared in a\n",
    "file, because by default MUSCLE will read in the input sequence from\n",
    "standard input! Note this is a bit more advanced and fiddly, so don’t\n",
    "bother with this technique unless you need to.\n",
    "\n",
    "First, we’ll need some unaligned sequences in memory as `SeqRecord`\n",
    "objects. For this demonstration I’m going to use a filtered version of\n",
    "the original FASTA file (using a generator expression), taking just six\n",
    "of the seven sequences:\n",
    "\n"
   ]
  },
  {
   "cell_type": "code",
   "execution_count": 73,
   "metadata": {
    "collapsed": true,
    "jupyter": {
     "outputs_hidden": true
    }
   },
   "outputs": [],
   "source": [
    "from Bio import SeqIO\n",
    "records = (r for r in SeqIO.parse(\"data/opuntia.fasta\", \"fasta\") if len(r) < 900)"
   ]
  },
  {
   "cell_type": "markdown",
   "metadata": {},
   "source": [
    "\n",
    "Then we create the MUSCLE command line, leaving the input and output to\n",
    "their defaults (stdin and stdout). I’m also going to ask for strict\n",
    "ClustalW format as for the output.\n",
    "\n"
   ]
  },
  {
   "cell_type": "code",
   "execution_count": 90,
   "metadata": {},
   "outputs": [
    {
     "name": "stdout",
     "output_type": "stream",
     "text": [
      "muscle -clwstrict\n"
     ]
    }
   ],
   "source": [
    "from Bio.Align.Applications import MuscleCommandline\n",
    "muscle_cline = MuscleCommandline(clwstrict=True)\n",
    "print(muscle_cline)"
   ]
  },
  {
   "cell_type": "markdown",
   "metadata": {},
   "source": [
    "\n",
    "Now for the fiddly bits using the `subprocess` module, stdin and stdout:\n",
    "\n"
   ]
  },
  {
   "cell_type": "code",
   "execution_count": 91,
   "metadata": {
    "collapsed": true,
    "jupyter": {
     "outputs_hidden": true
    }
   },
   "outputs": [],
   "source": [
    "import subprocess\n",
    "import sys\n",
    "child = subprocess.Popen(str(cline),\n",
    "    stdin=subprocess.PIPE, stdout=subprocess.PIPE,\n",
    "    stderr=subprocess.PIPE, universal_newlines=True,\n",
    "    shell=(sys.platform != \"win32\"))"
   ]
  },
  {
   "cell_type": "markdown",
   "metadata": {},
   "source": [
    "\n",
    "That should start MUSCLE, but it will be sitting waiting for its FASTA\n",
    "input sequences, which we must supply via its stdin handle:\n",
    "\n"
   ]
  },
  {
   "cell_type": "code",
   "execution_count": 92,
   "metadata": {},
   "outputs": [
    {
     "ename": "BrokenPipeError",
     "evalue": "[Errno 32] Broken pipe",
     "output_type": "error",
     "traceback": [
      "\u001b[1;31m---------------------------------------------------------------------------\u001b[0m",
      "\u001b[1;31mBrokenPipeError\u001b[0m                           Traceback (most recent call last)",
      "\u001b[1;32m<ipython-input-92-11690e1b720b>\u001b[0m in \u001b[0;36m<module>\u001b[1;34m()\u001b[0m\n\u001b[1;32m----> 1\u001b[1;33m \u001b[0mSeqIO\u001b[0m\u001b[1;33m.\u001b[0m\u001b[0mwrite\u001b[0m\u001b[1;33m(\u001b[0m\u001b[0mrecords\u001b[0m\u001b[1;33m,\u001b[0m \u001b[0mchild\u001b[0m\u001b[1;33m.\u001b[0m\u001b[0mstdin\u001b[0m\u001b[1;33m,\u001b[0m \u001b[1;34m\"fasta\"\u001b[0m\u001b[1;33m)\u001b[0m\u001b[1;33m\u001b[0m\u001b[0m\n\u001b[0m",
      "\u001b[1;32m/home/tiago_antao/miniconda/lib/python3.5/site-packages/Bio/SeqIO/__init__.py\u001b[0m in \u001b[0;36mwrite\u001b[1;34m(sequences, handle, format)\u001b[0m\n\u001b[0;32m    481\u001b[0m         \u001b[1;32mif\u001b[0m \u001b[0mformat\u001b[0m \u001b[1;32min\u001b[0m \u001b[0m_FormatToWriter\u001b[0m\u001b[1;33m:\u001b[0m\u001b[1;33m\u001b[0m\u001b[0m\n\u001b[0;32m    482\u001b[0m             \u001b[0mwriter_class\u001b[0m \u001b[1;33m=\u001b[0m \u001b[0m_FormatToWriter\u001b[0m\u001b[1;33m[\u001b[0m\u001b[0mformat\u001b[0m\u001b[1;33m]\u001b[0m\u001b[1;33m\u001b[0m\u001b[0m\n\u001b[1;32m--> 483\u001b[1;33m             \u001b[0mcount\u001b[0m \u001b[1;33m=\u001b[0m \u001b[0mwriter_class\u001b[0m\u001b[1;33m(\u001b[0m\u001b[0mfp\u001b[0m\u001b[1;33m)\u001b[0m\u001b[1;33m.\u001b[0m\u001b[0mwrite_file\u001b[0m\u001b[1;33m(\u001b[0m\u001b[0msequences\u001b[0m\u001b[1;33m)\u001b[0m\u001b[1;33m\u001b[0m\u001b[0m\n\u001b[0m\u001b[0;32m    484\u001b[0m         \u001b[1;32melif\u001b[0m \u001b[0mformat\u001b[0m \u001b[1;32min\u001b[0m \u001b[0mAlignIO\u001b[0m\u001b[1;33m.\u001b[0m\u001b[0m_FormatToWriter\u001b[0m\u001b[1;33m:\u001b[0m\u001b[1;33m\u001b[0m\u001b[0m\n\u001b[0;32m    485\u001b[0m             \u001b[1;31m# Try and turn all the records into a single alignment,\u001b[0m\u001b[1;33m\u001b[0m\u001b[1;33m\u001b[0m\u001b[0m\n",
      "\u001b[1;32m/home/tiago_antao/miniconda/lib/python3.5/site-packages/Bio/SeqIO/Interfaces.py\u001b[0m in \u001b[0;36mwrite_file\u001b[1;34m(self, records)\u001b[0m\n\u001b[0;32m    209\u001b[0m         \"\"\"\n\u001b[0;32m    210\u001b[0m         \u001b[0mself\u001b[0m\u001b[1;33m.\u001b[0m\u001b[0mwrite_header\u001b[0m\u001b[1;33m(\u001b[0m\u001b[1;33m)\u001b[0m\u001b[1;33m\u001b[0m\u001b[0m\n\u001b[1;32m--> 211\u001b[1;33m         \u001b[0mcount\u001b[0m \u001b[1;33m=\u001b[0m \u001b[0mself\u001b[0m\u001b[1;33m.\u001b[0m\u001b[0mwrite_records\u001b[0m\u001b[1;33m(\u001b[0m\u001b[0mrecords\u001b[0m\u001b[1;33m)\u001b[0m\u001b[1;33m\u001b[0m\u001b[0m\n\u001b[0m\u001b[0;32m    212\u001b[0m         \u001b[0mself\u001b[0m\u001b[1;33m.\u001b[0m\u001b[0mwrite_footer\u001b[0m\u001b[1;33m(\u001b[0m\u001b[1;33m)\u001b[0m\u001b[1;33m\u001b[0m\u001b[0m\n\u001b[0;32m    213\u001b[0m         \u001b[1;32mreturn\u001b[0m \u001b[0mcount\u001b[0m\u001b[1;33m\u001b[0m\u001b[0m\n",
      "\u001b[1;32m/home/tiago_antao/miniconda/lib/python3.5/site-packages/Bio/SeqIO/Interfaces.py\u001b[0m in \u001b[0;36mwrite_records\u001b[1;34m(self, records)\u001b[0m\n\u001b[0;32m    194\u001b[0m         \u001b[0mcount\u001b[0m \u001b[1;33m=\u001b[0m \u001b[1;36m0\u001b[0m\u001b[1;33m\u001b[0m\u001b[0m\n\u001b[0;32m    195\u001b[0m         \u001b[1;32mfor\u001b[0m \u001b[0mrecord\u001b[0m \u001b[1;32min\u001b[0m \u001b[0mrecords\u001b[0m\u001b[1;33m:\u001b[0m\u001b[1;33m\u001b[0m\u001b[0m\n\u001b[1;32m--> 196\u001b[1;33m             \u001b[0mself\u001b[0m\u001b[1;33m.\u001b[0m\u001b[0mwrite_record\u001b[0m\u001b[1;33m(\u001b[0m\u001b[0mrecord\u001b[0m\u001b[1;33m)\u001b[0m\u001b[1;33m\u001b[0m\u001b[0m\n\u001b[0m\u001b[0;32m    197\u001b[0m             \u001b[0mcount\u001b[0m \u001b[1;33m+=\u001b[0m \u001b[1;36m1\u001b[0m\u001b[1;33m\u001b[0m\u001b[0m\n\u001b[0;32m    198\u001b[0m         \u001b[1;31m# Mark as true, even if there where no records\u001b[0m\u001b[1;33m\u001b[0m\u001b[1;33m\u001b[0m\u001b[0m\n",
      "\u001b[1;32m/home/tiago_antao/miniconda/lib/python3.5/site-packages/Bio/SeqIO/FastaIO.py\u001b[0m in \u001b[0;36mwrite_record\u001b[1;34m(self, record)\u001b[0m\n\u001b[0;32m    209\u001b[0m         \u001b[1;32mif\u001b[0m \u001b[0mself\u001b[0m\u001b[1;33m.\u001b[0m\u001b[0mwrap\u001b[0m\u001b[1;33m:\u001b[0m\u001b[1;33m\u001b[0m\u001b[0m\n\u001b[0;32m    210\u001b[0m             \u001b[1;32mfor\u001b[0m \u001b[0mi\u001b[0m \u001b[1;32min\u001b[0m \u001b[0mrange\u001b[0m\u001b[1;33m(\u001b[0m\u001b[1;36m0\u001b[0m\u001b[1;33m,\u001b[0m \u001b[0mlen\u001b[0m\u001b[1;33m(\u001b[0m\u001b[0mdata\u001b[0m\u001b[1;33m)\u001b[0m\u001b[1;33m,\u001b[0m \u001b[0mself\u001b[0m\u001b[1;33m.\u001b[0m\u001b[0mwrap\u001b[0m\u001b[1;33m)\u001b[0m\u001b[1;33m:\u001b[0m\u001b[1;33m\u001b[0m\u001b[0m\n\u001b[1;32m--> 211\u001b[1;33m                 \u001b[0mself\u001b[0m\u001b[1;33m.\u001b[0m\u001b[0mhandle\u001b[0m\u001b[1;33m.\u001b[0m\u001b[0mwrite\u001b[0m\u001b[1;33m(\u001b[0m\u001b[0mdata\u001b[0m\u001b[1;33m[\u001b[0m\u001b[0mi\u001b[0m\u001b[1;33m:\u001b[0m\u001b[0mi\u001b[0m \u001b[1;33m+\u001b[0m \u001b[0mself\u001b[0m\u001b[1;33m.\u001b[0m\u001b[0mwrap\u001b[0m\u001b[1;33m]\u001b[0m \u001b[1;33m+\u001b[0m \u001b[1;34m\"\\n\"\u001b[0m\u001b[1;33m)\u001b[0m\u001b[1;33m\u001b[0m\u001b[0m\n\u001b[0m\u001b[0;32m    212\u001b[0m         \u001b[1;32melse\u001b[0m\u001b[1;33m:\u001b[0m\u001b[1;33m\u001b[0m\u001b[0m\n\u001b[0;32m    213\u001b[0m             \u001b[0mself\u001b[0m\u001b[1;33m.\u001b[0m\u001b[0mhandle\u001b[0m\u001b[1;33m.\u001b[0m\u001b[0mwrite\u001b[0m\u001b[1;33m(\u001b[0m\u001b[0mdata\u001b[0m \u001b[1;33m+\u001b[0m \u001b[1;34m\"\\n\"\u001b[0m\u001b[1;33m)\u001b[0m\u001b[1;33m\u001b[0m\u001b[0m\n",
      "\u001b[1;31mBrokenPipeError\u001b[0m: [Errno 32] Broken pipe"
     ]
    }
   ],
   "source": [
    "SeqIO.write(records, child.stdin, \"fasta\")"
   ]
  },
  {
   "cell_type": "code",
   "execution_count": 93,
   "metadata": {},
   "outputs": [
    {
     "ename": "BrokenPipeError",
     "evalue": "[Errno 32] Broken pipe",
     "output_type": "error",
     "traceback": [
      "\u001b[1;31m---------------------------------------------------------------------------\u001b[0m",
      "\u001b[1;31mBrokenPipeError\u001b[0m                           Traceback (most recent call last)",
      "\u001b[1;31mBrokenPipeError\u001b[0m: [Errno 32] Broken pipe",
      "\nDuring handling of the above exception, another exception occurred:\n",
      "\u001b[1;31mBrokenPipeError\u001b[0m                           Traceback (most recent call last)",
      "\u001b[1;32m<ipython-input-93-f5a7c02c7fa3>\u001b[0m in \u001b[0;36m<module>\u001b[1;34m()\u001b[0m\n\u001b[1;32m----> 1\u001b[1;33m \u001b[0mchild\u001b[0m\u001b[1;33m.\u001b[0m\u001b[0mstdin\u001b[0m\u001b[1;33m.\u001b[0m\u001b[0mclose\u001b[0m\u001b[1;33m(\u001b[0m\u001b[1;33m)\u001b[0m\u001b[1;33m\u001b[0m\u001b[0m\n\u001b[0m",
      "\u001b[1;31mBrokenPipeError\u001b[0m: [Errno 32] Broken pipe"
     ]
    }
   ],
   "source": [
    "child.stdin.close()"
   ]
  },
  {
   "cell_type": "markdown",
   "metadata": {},
   "source": [
    "\n",
    "After writing the six sequences to the handle, MUSCLE will still be\n",
    "waiting to see if that is all the FASTA sequences or not – so we must\n",
    "signal that this is all the input data by closing the handle. At that\n",
    "point MUSCLE should start to run, and we can ask for the output:\n",
    "\n"
   ]
  },
  {
   "cell_type": "code",
   "execution_count": 94,
   "metadata": {},
   "outputs": [
    {
     "ename": "ValueError",
     "evalue": "No records found in handle",
     "output_type": "error",
     "traceback": [
      "\u001b[1;31m---------------------------------------------------------------------------\u001b[0m",
      "\u001b[1;31mValueError\u001b[0m                                Traceback (most recent call last)",
      "\u001b[1;32m<ipython-input-94-240021347a83>\u001b[0m in \u001b[0;36m<module>\u001b[1;34m()\u001b[0m\n\u001b[0;32m      1\u001b[0m \u001b[1;32mfrom\u001b[0m \u001b[0mBio\u001b[0m \u001b[1;32mimport\u001b[0m \u001b[0mAlignIO\u001b[0m\u001b[1;33m\u001b[0m\u001b[0m\n\u001b[1;32m----> 2\u001b[1;33m \u001b[0malign\u001b[0m \u001b[1;33m=\u001b[0m \u001b[0mAlignIO\u001b[0m\u001b[1;33m.\u001b[0m\u001b[0mread\u001b[0m\u001b[1;33m(\u001b[0m\u001b[0mchild\u001b[0m\u001b[1;33m.\u001b[0m\u001b[0mstdout\u001b[0m\u001b[1;33m,\u001b[0m \u001b[1;34m\"clustal\"\u001b[0m\u001b[1;33m)\u001b[0m\u001b[1;33m\u001b[0m\u001b[0m\n\u001b[0m\u001b[0;32m      3\u001b[0m \u001b[0mprint\u001b[0m\u001b[1;33m(\u001b[0m\u001b[0malign\u001b[0m\u001b[1;33m)\u001b[0m\u001b[1;33m\u001b[0m\u001b[0m\n",
      "\u001b[1;32m/home/tiago_antao/miniconda/lib/python3.5/site-packages/Bio/AlignIO/__init__.py\u001b[0m in \u001b[0;36mread\u001b[1;34m(handle, format, seq_count, alphabet)\u001b[0m\n\u001b[0;32m    429\u001b[0m         \u001b[0mfirst\u001b[0m \u001b[1;33m=\u001b[0m \u001b[1;32mNone\u001b[0m\u001b[1;33m\u001b[0m\u001b[0m\n\u001b[0;32m    430\u001b[0m     \u001b[1;32mif\u001b[0m \u001b[0mfirst\u001b[0m \u001b[1;32mis\u001b[0m \u001b[1;32mNone\u001b[0m\u001b[1;33m:\u001b[0m\u001b[1;33m\u001b[0m\u001b[0m\n\u001b[1;32m--> 431\u001b[1;33m         \u001b[1;32mraise\u001b[0m \u001b[0mValueError\u001b[0m\u001b[1;33m(\u001b[0m\u001b[1;34m\"No records found in handle\"\u001b[0m\u001b[1;33m)\u001b[0m\u001b[1;33m\u001b[0m\u001b[0m\n\u001b[0m\u001b[0;32m    432\u001b[0m     \u001b[1;32mtry\u001b[0m\u001b[1;33m:\u001b[0m\u001b[1;33m\u001b[0m\u001b[0m\n\u001b[0;32m    433\u001b[0m         \u001b[0msecond\u001b[0m \u001b[1;33m=\u001b[0m \u001b[0mnext\u001b[0m\u001b[1;33m(\u001b[0m\u001b[0miterator\u001b[0m\u001b[1;33m)\u001b[0m\u001b[1;33m\u001b[0m\u001b[0m\n",
      "\u001b[1;31mValueError\u001b[0m: No records found in handle"
     ]
    }
   ],
   "source": [
    "from Bio import AlignIO\n",
    "align = AlignIO.read(child.stdout, \"clustal\")\n",
    "print(align)"
   ]
  },
  {
   "cell_type": "markdown",
   "metadata": {},
   "source": [
    "\n",
    "Wow! There we are with a new alignment of just the six records, without\n",
    "having created a temporary FASTA input file, or a temporary alignment\n",
    "output file. However, a word of caution: Dealing with errors with this\n",
    "style of calling external programs is much more complicated. It also\n",
    "becomes far harder to diagnose problems, because you can’t try running\n",
    "MUSCLE manually outside of Biopython (because you don’t have the input\n",
    "file to supply). There can also be subtle cross platform issues (e.g.\n",
    "Windows versus Linux, Python 2 versus Python 3), and how you run your\n",
    "script can have an impact (e.g. at the command line, from IDLE or an\n",
    "IDE, or as a GUI script). These are all generic Python issues though,\n",
    "and not specific to Biopython.\n",
    "\n",
    "If you find working directly with `subprocess` like this scary, there is\n",
    "an alternative. If you execute the tool with `muscle_cline()` you can\n",
    "supply any standard input as a big string, `muscle_cline(stdin=...)`.\n",
    "So, provided your data isn’t very big, you can prepare the FASTA input\n",
    "in memory as a string using `StringIO` (see\n",
    "Section \\[sec:appendix-handles\\]):\n",
    "\n"
   ]
  },
  {
   "cell_type": "code",
   "execution_count": 95,
   "metadata": {},
   "outputs": [
    {
     "data": {
      "text/plain": [
       "6"
      ]
     },
     "execution_count": 95,
     "metadata": {},
     "output_type": "execute_result"
    }
   ],
   "source": [
    "from Bio import SeqIO\n",
    "records = (r for r in SeqIO.parse(\"data/opuntia.fasta\", \"fasta\") if len(r) < 900)\n",
    "handle = StringIO()\n",
    "SeqIO.write(records, handle, \"fasta\")"
   ]
  },
  {
   "cell_type": "code",
   "execution_count": 96,
   "metadata": {
    "collapsed": true,
    "jupyter": {
     "outputs_hidden": true
    }
   },
   "outputs": [],
   "source": [
    "data = handle.getvalue()"
   ]
  },
  {
   "cell_type": "markdown",
   "metadata": {},
   "source": [
    "\n",
    "You can then run the tool and parse the alignment as follows:\n",
    "\n"
   ]
  },
  {
   "cell_type": "code",
   "execution_count": 97,
   "metadata": {},
   "outputs": [
    {
     "name": "stdout",
     "output_type": "stream",
     "text": [
      "SingleLetterAlphabet() alignment with 6 rows and 900 columns\n",
      "TATACATTAAAGGAGGGGGATGCGGATAAATGGAAAGGCGAAAG...AGA gi|6273290|gb|AF191664.1|AF19166\n",
      "TATACATTAAAGGAGGGGGATGCGGATAAATGGAAAGGCGAAAG...AGA gi|6273289|gb|AF191663.1|AF19166\n",
      "TATACATTAAAGAAGGGGGATGCGGATAAATGGAAAGGCGAAAG...AGA gi|6273287|gb|AF191661.1|AF19166\n",
      "TATACATAAAAGAAGGGGGATGCGGATAAATGGAAAGGCGAAAG...AGA gi|6273286|gb|AF191660.1|AF19166\n",
      "TATACATTAAAGAAGGGGGATGCGGATAAATGGAAAGGCGAAAG...AGA gi|6273285|gb|AF191659.1|AF19165\n",
      "TATACATTAAAGAAGGGGGATGCGGATAAATGGAAAGGCGAAAG...AGA gi|6273284|gb|AF191658.1|AF19165\n"
     ]
    }
   ],
   "source": [
    "stdout, stderr = muscle_cline(stdin=data)\n",
    "from Bio import AlignIO\n",
    "align = AlignIO.read(StringIO(stdout), \"clustal\")\n",
    "print(align)"
   ]
  },
  {
   "cell_type": "markdown",
   "metadata": {},
   "source": [
    "\n",
    "You might find this easier, but it does require more memory (RAM) for\n",
    "the strings used for the input FASTA and output Clustal formatted data.\n",
    "\n",
    "### EMBOSS needle and water {#seq:emboss-needle-water}\n",
    "\n",
    "The [EMBOSS](http://emboss.sourceforge.net/) suite includes the `water`\n",
    "and `needle` tools for Smith-Waterman algorithm local alignment, and\n",
    "Needleman-Wunsch global alignment. The tools share the same style\n",
    "interface, so switching between the two is trivial – we’ll just use\n",
    "`needle` here.\n",
    "\n",
    "Suppose you want to do a global pairwise alignment between two\n",
    "sequences, prepared in FASTA format as follows:\n",
    "\n"
   ]
  },
  {
   "cell_type": "markdown",
   "metadata": {},
   "source": [
    "```\n",
    ">HBA_HUMAN\n",
    "MVLSPADKTNVKAAWGKVGAHAGEYGAEALERMFLSFPTTKTYFPHFDLSHGSAQVKGHG\n",
    "KKVADALTNAVAHVDDMPNALSALSDLHAHKLRVDPVNFKLLSHCLLVTLAAHLPAEFTP\n",
    "AVHASLDKFLASVSTVLTSKYR\n",
    "\n",
    "```"
   ]
  },
  {
   "cell_type": "markdown",
   "metadata": {},
   "source": [
    "\n",
    "in a file `alpha.fasta`, and secondly in a file `beta.fasta`:\n",
    "\n"
   ]
  },
  {
   "cell_type": "markdown",
   "metadata": {},
   "source": [
    "```\n",
    ">HBB_HUMAN\n",
    "MVHLTPEEKSAVTALWGKVNVDEVGGEALGRLLVVYPWTQRFFESFGDLSTPDAVMGNPK\n",
    "VKAHGKKVLGAFSDGLAHLDNLKGTFATLSELHCDKLHVDPENFRLLGNVLVCVLAHHFG\n",
    "KEFTPPVQAAYQKVVAGVANALAHKYH\n",
    "\n",
    "```"
   ]
  },
  {
   "cell_type": "markdown",
   "metadata": {},
   "source": [
    "\n",
    "Let’s start by creating a complete `needle` command line object in one\n",
    "go:\n",
    "\n"
   ]
  },
  {
   "cell_type": "code",
   "execution_count": 98,
   "metadata": {},
   "outputs": [
    {
     "name": "stdout",
     "output_type": "stream",
     "text": [
      "needle -outfile=needle.txt -asequence=data/alpha.faa -bsequence=data/beta.faa -gapopen=10 -gapextend=0.5\n"
     ]
    }
   ],
   "source": [
    "from Bio.Emboss.Applications import NeedleCommandline\n",
    "needle_cline = NeedleCommandline(asequence=\"data/alpha.faa\", bsequence=\"data/beta.faa\",\n",
    "    gapopen=10, gapextend=0.5, outfile=\"needle.txt\")\n",
    "print(needle_cline)"
   ]
  },
  {
   "cell_type": "markdown",
   "metadata": {},
   "source": [
    "\n",
    "Why not try running this by hand at the command prompt? You should see\n",
    "it does a pairwise comparison and records the output in the file\n",
    "`needle.txt` (in the default EMBOSS alignment file format).\n",
    "\n",
    "Even if you have EMBOSS installed, running this command may not work –\n",
    "you might get a message about “command not found” (especially on\n",
    "Windows). This probably means that the EMBOSS tools are not on your PATH\n",
    "environment variable. You can either update your PATH setting, or simply\n",
    "tell Biopython the full path to the tool, for example:\n",
    "\n"
   ]
  },
  {
   "cell_type": "code",
   "execution_count": 99,
   "metadata": {
    "collapsed": true,
    "jupyter": {
     "outputs_hidden": true
    }
   },
   "outputs": [],
   "source": [
    "from Bio.Emboss.Applications import NeedleCommandline\n",
    "needle_cline = NeedleCommandline(r\"C:\\EMBOSS\\needle.exe\",\n",
    "    asequence=\"data/alpha.faa\", bsequence=\"data/beta.faa\",\n",
    "    gapopen=10, gapextend=0.5, outfile=\"needle.txt\")"
   ]
  },
  {
   "cell_type": "markdown",
   "metadata": {},
   "source": [
    "\n",
    "Remember in Python that for a default string `\\n` or `\\t` means a new\n",
    "line or a tab – which is why we’re put a letter “r” at the start for a\n",
    "raw string.\n",
    "\n",
    "At this point it might help to try running the EMBOSS tools yourself by\n",
    "hand at the command line, to familiarise yourself the other options and\n",
    "compare them to the Biopython help text:\n",
    "\n"
   ]
  },
  {
   "cell_type": "code",
   "execution_count": 100,
   "metadata": {},
   "outputs": [
    {
     "name": "stdout",
     "output_type": "stream",
     "text": [
      "Help on class NeedleCommandline in module Bio.Emboss.Applications:\n",
      "\n",
      "class NeedleCommandline(_EmbossCommandLine)\n",
      " |  Commandline object for the needle program from EMBOSS.\n",
      " |  \n",
      " |  Method resolution order:\n",
      " |      NeedleCommandline\n",
      " |      _EmbossCommandLine\n",
      " |      _EmbossMinimalCommandLine\n",
      " |      Bio.Application.AbstractCommandline\n",
      " |      builtins.object\n",
      " |  \n",
      " |  Methods defined here:\n",
      " |  \n",
      " |  __init__(self, cmd='needle', **kwargs)\n",
      " |      Create a new instance of a command line wrapper object.\n",
      " |  \n",
      " |  ----------------------------------------------------------------------\n",
      " |  Data descriptors defined here:\n",
      " |  \n",
      " |  aformat\n",
      " |      Display output in a different specified output format\n",
      " |      \n",
      " |      This controls the addition of the -aformat parameter and its associated value.  Set this property to the argument value required.\n",
      " |  \n",
      " |  asequence\n",
      " |      First sequence to align\n",
      " |      \n",
      " |      This controls the addition of the -asequence parameter and its associated value.  Set this property to the argument value required.\n",
      " |  \n",
      " |  auto\n",
      " |      Turn off prompts.\n",
      " |      \n",
      " |                         Automatic mode disables prompting, so we recommend you set\n",
      " |                         this argument all the time when calling an EMBOSS tool from\n",
      " |                         Biopython.\n",
      " |                         \n",
      " |      \n",
      " |      This property controls the addition of the -auto switch, treat this property as a boolean.\n",
      " |  \n",
      " |  brief\n",
      " |      Display brief identity and similarity\n",
      " |      \n",
      " |      This property controls the addition of the -brief switch, treat this property as a boolean.\n",
      " |  \n",
      " |  bsequence\n",
      " |      Second sequence to align\n",
      " |      \n",
      " |      This controls the addition of the -bsequence parameter and its associated value.  Set this property to the argument value required.\n",
      " |  \n",
      " |  datafile\n",
      " |      Matrix file\n",
      " |      \n",
      " |      This controls the addition of the -datafile parameter and its associated value.  Set this property to the argument value required.\n",
      " |  \n",
      " |  debug\n",
      " |      Write debug output to program.dbg.\n",
      " |      \n",
      " |      This property controls the addition of the -debug switch, treat this property as a boolean.\n",
      " |  \n",
      " |  die\n",
      " |      Report dying program messages.\n",
      " |      \n",
      " |      This property controls the addition of the -die switch, treat this property as a boolean.\n",
      " |  \n",
      " |  endextend\n",
      " |      The score added to the end gap penality for each base or residue in the end gap.\n",
      " |      \n",
      " |      This controls the addition of the -endextend parameter and its associated value.  Set this property to the argument value required.\n",
      " |  \n",
      " |  endopen\n",
      " |      The score taken away when an end gap is created.\n",
      " |      \n",
      " |      This controls the addition of the -endopen parameter and its associated value.  Set this property to the argument value required.\n",
      " |  \n",
      " |  endweight\n",
      " |      Apply And gap penalties\n",
      " |      \n",
      " |      This controls the addition of the -endweight parameter and its associated value.  Set this property to the argument value required.\n",
      " |  \n",
      " |  error\n",
      " |      Report errors.\n",
      " |      \n",
      " |      This property controls the addition of the -error switch, treat this property as a boolean.\n",
      " |  \n",
      " |  filter\n",
      " |      Read standard input, write standard output.\n",
      " |      \n",
      " |      This property controls the addition of the -filter switch, treat this property as a boolean.\n",
      " |  \n",
      " |  gapextend\n",
      " |      Gap extension penalty\n",
      " |      \n",
      " |      This controls the addition of the -gapextend parameter and its associated value.  Set this property to the argument value required.\n",
      " |  \n",
      " |  gapopen\n",
      " |      Gap open penalty\n",
      " |      \n",
      " |      This controls the addition of the -gapopen parameter and its associated value.  Set this property to the argument value required.\n",
      " |  \n",
      " |  help\n",
      " |      Report command line options.\n",
      " |      \n",
      " |                         More information on associated and general qualifiers can\n",
      " |                         be found with -help -verbose\n",
      " |                         \n",
      " |      \n",
      " |      This property controls the addition of the -help switch, treat this property as a boolean.\n",
      " |  \n",
      " |  nobrief\n",
      " |      Display extended identity and similarity\n",
      " |      \n",
      " |      This property controls the addition of the -nobrief switch, treat this property as a boolean.\n",
      " |  \n",
      " |  options\n",
      " |      Prompt for standard and additional values.\n",
      " |      \n",
      " |                         If you are calling an EMBOSS tool from within Biopython,\n",
      " |                         we DO NOT recommend using this option.\n",
      " |                         \n",
      " |      \n",
      " |      This property controls the addition of the -options switch, treat this property as a boolean.\n",
      " |  \n",
      " |  outfile\n",
      " |      Output filename\n",
      " |      \n",
      " |      This controls the addition of the -outfile parameter and its associated value.  Set this property to the argument value required.\n",
      " |  \n",
      " |  similarity\n",
      " |      Display percent identity and similarity\n",
      " |      \n",
      " |      This controls the addition of the -similarity parameter and its associated value.  Set this property to the argument value required.\n",
      " |  \n",
      " |  snucleotide\n",
      " |      Sequences are nucleotide (boolean)\n",
      " |      \n",
      " |      This controls the addition of the -snucleotide parameter and its associated value.  Set this property to the argument value required.\n",
      " |  \n",
      " |  sprotein\n",
      " |      Sequences are protein (boolean)\n",
      " |      \n",
      " |      This controls the addition of the -sprotein parameter and its associated value.  Set this property to the argument value required.\n",
      " |  \n",
      " |  stdout\n",
      " |      Write standard output.\n",
      " |      \n",
      " |      This property controls the addition of the -stdout switch, treat this property as a boolean.\n",
      " |  \n",
      " |  verbose\n",
      " |      Report some/full command line options\n",
      " |      \n",
      " |      This property controls the addition of the -verbose switch, treat this property as a boolean.\n",
      " |  \n",
      " |  warning\n",
      " |      Report warnings.\n",
      " |      \n",
      " |      This property controls the addition of the -warning switch, treat this property as a boolean.\n",
      " |  \n",
      " |  ----------------------------------------------------------------------\n",
      " |  Methods inherited from Bio.Application.AbstractCommandline:\n",
      " |  \n",
      " |  __call__(self, stdin=None, stdout=True, stderr=True, cwd=None, env=None)\n",
      " |      Executes the command, waits for it to finish, and returns output.\n",
      " |      \n",
      " |      Runs the command line tool and waits for it to finish. If it returns\n",
      " |      a non-zero error level, an exception is raised. Otherwise two strings\n",
      " |      are returned containing stdout and stderr.\n",
      " |      \n",
      " |      The optional stdin argument should be a string of data which will be\n",
      " |      passed to the tool as standard input.\n",
      " |      \n",
      " |      The optional stdout and stderr argument may be filenames (string),\n",
      " |      but otherwise are treated as a booleans, and control if the output\n",
      " |      should be captured as strings (True, default), or ignored by sending\n",
      " |      it to /dev/null to avoid wasting memory (False). If sent to a file\n",
      " |      or ignored, then empty string(s) are returned.\n",
      " |      \n",
      " |      The optional cwd argument is a string giving the working directory\n",
      " |      to run the command from. See Python's subprocess module documentation\n",
      " |      for more details.\n",
      " |      \n",
      " |      The optional env argument is a dictionary setting the environment\n",
      " |      variables to be used in the new process. By default the current\n",
      " |      process' environment variables are used. See Python's subprocess\n",
      " |      module documentation for more details.\n",
      " |      \n",
      " |      Default example usage::\n",
      " |      \n",
      " |          from Bio.Emboss.Applications import WaterCommandline\n",
      " |          water_cmd = WaterCommandline(gapopen=10, gapextend=0.5,\n",
      " |                                       stdout=True, auto=True,\n",
      " |                                       asequence=\"a.fasta\", bsequence=\"b.fasta\")\n",
      " |          print(\"About to run: %s\" % water_cmd)\n",
      " |          std_output, err_output = water_cmd()\n",
      " |      \n",
      " |      This functionality is similar to subprocess.check_output() added in\n",
      " |      Python 2.7. In general if you require more control over running the\n",
      " |      command, use subprocess directly.\n",
      " |      \n",
      " |      As of Biopython 1.56, when the program called returns a non-zero error\n",
      " |      level, a custom ApplicationError exception is raised. This includes\n",
      " |      any stdout and stderr strings captured as attributes of the exception\n",
      " |      object, since they may be useful for diagnosing what went wrong.\n",
      " |  \n",
      " |  __repr__(self)\n",
      " |      Return a representation of the command line object for debugging.\n",
      " |      \n",
      " |      e.g.\n",
      " |      >>> from Bio.Emboss.Applications import WaterCommandline\n",
      " |      >>> cline = WaterCommandline(gapopen=10, gapextend=0.5)\n",
      " |      >>> cline.asequence = \"asis:ACCCGGGCGCGGT\"\n",
      " |      >>> cline.bsequence = \"asis:ACCCGAGCGCGGT\"\n",
      " |      >>> cline.outfile = \"temp_water.txt\"\n",
      " |      >>> print(cline)\n",
      " |      water -outfile=temp_water.txt -asequence=asis:ACCCGGGCGCGGT -bsequence=asis:ACCCGAGCGCGGT -gapopen=10 -gapextend=0.5\n",
      " |      >>> cline\n",
      " |      WaterCommandline(cmd='water', outfile='temp_water.txt', asequence='asis:ACCCGGGCGCGGT', bsequence='asis:ACCCGAGCGCGGT', gapopen=10, gapextend=0.5)\n",
      " |  \n",
      " |  __setattr__(self, name, value)\n",
      " |      Set attribute name to value (PRIVATE).\n",
      " |      \n",
      " |      This code implements a workaround for a user interface issue.\n",
      " |      Without this __setattr__ attribute-based assignment of parameters\n",
      " |      will silently accept invalid parameters, leading to known instances\n",
      " |      of the user assuming that parameters for the application are set,\n",
      " |      when they are not.\n",
      " |      \n",
      " |      >>> from Bio.Emboss.Applications import WaterCommandline\n",
      " |      >>> cline = WaterCommandline(gapopen=10, gapextend=0.5, stdout=True)\n",
      " |      >>> cline.asequence = \"a.fasta\"\n",
      " |      >>> cline.bsequence = \"b.fasta\"\n",
      " |      >>> cline.csequence = \"c.fasta\"\n",
      " |      Traceback (most recent call last):\n",
      " |      ...\n",
      " |      ValueError: Option name csequence was not found.\n",
      " |      >>> print(cline)\n",
      " |      water -stdout -asequence=a.fasta -bsequence=b.fasta -gapopen=10 -gapextend=0.5\n",
      " |      \n",
      " |      This workaround uses a whitelist of object attributes, and sets the\n",
      " |      object attribute list as normal, for these.  Other attributes are\n",
      " |      assumed to be parameters, and passed to the self.set_parameter method\n",
      " |      for validation and assignment.\n",
      " |  \n",
      " |  __str__(self)\n",
      " |      Make the commandline string with the currently set options.\n",
      " |      \n",
      " |      e.g.\n",
      " |      >>> from Bio.Emboss.Applications import WaterCommandline\n",
      " |      >>> cline = WaterCommandline(gapopen=10, gapextend=0.5)\n",
      " |      >>> cline.asequence = \"asis:ACCCGGGCGCGGT\"\n",
      " |      >>> cline.bsequence = \"asis:ACCCGAGCGCGGT\"\n",
      " |      >>> cline.outfile = \"temp_water.txt\"\n",
      " |      >>> print(cline)\n",
      " |      water -outfile=temp_water.txt -asequence=asis:ACCCGGGCGCGGT -bsequence=asis:ACCCGAGCGCGGT -gapopen=10 -gapextend=0.5\n",
      " |      >>> str(cline)\n",
      " |      'water -outfile=temp_water.txt -asequence=asis:ACCCGGGCGCGGT -bsequence=asis:ACCCGAGCGCGGT -gapopen=10 -gapextend=0.5'\n",
      " |  \n",
      " |  set_parameter(self, name, value=None)\n",
      " |      Set a commandline option for a program (OBSOLETE).\n",
      " |      \n",
      " |      Every parameter is available via a property and as a named\n",
      " |      keyword when creating the instance. Using either of these is\n",
      " |      preferred to this legacy set_parameter method which is now\n",
      " |      OBSOLETE, and likely to be DEPRECATED and later REMOVED in\n",
      " |      future releases.\n",
      " |  \n",
      " |  ----------------------------------------------------------------------\n",
      " |  Data descriptors inherited from Bio.Application.AbstractCommandline:\n",
      " |  \n",
      " |  __dict__\n",
      " |      dictionary for instance variables (if defined)\n",
      " |  \n",
      " |  __weakref__\n",
      " |      list of weak references to the object (if defined)\n",
      " |  \n",
      " |  ----------------------------------------------------------------------\n",
      " |  Data and other attributes inherited from Bio.Application.AbstractCommandline:\n",
      " |  \n",
      " |  parameters = None\n",
      "\n"
     ]
    }
   ],
   "source": [
    "from Bio.Emboss.Applications import NeedleCommandline\n",
    "help(NeedleCommandline)"
   ]
  },
  {
   "cell_type": "markdown",
   "metadata": {},
   "source": [
    "\n",
    "Note that you can also specify (or change or look at) the settings like\n",
    "this:\n",
    "\n"
   ]
  },
  {
   "cell_type": "code",
   "execution_count": 101,
   "metadata": {},
   "outputs": [
    {
     "name": "stdout",
     "output_type": "stream",
     "text": [
      "needle -outfile=needle.txt -asequence=data/alpha.faa -bsequence=data/beta.faa -gapopen=10 -gapextend=0.5\n"
     ]
    }
   ],
   "source": [
    "from Bio.Emboss.Applications import NeedleCommandline\n",
    "needle_cline = NeedleCommandline()\n",
    "needle_cline.asequence=\"data/alpha.faa\"\n",
    "needle_cline.bsequence=\"data/beta.faa\"\n",
    "needle_cline.gapopen=10\n",
    "needle_cline.gapextend=0.5\n",
    "needle_cline.outfile=\"needle.txt\"\n",
    "print(needle_cline)\n"
   ]
  },
  {
   "cell_type": "code",
   "execution_count": 102,
   "metadata": {},
   "outputs": [
    {
     "name": "stdout",
     "output_type": "stream",
     "text": [
      "needle.txt\n"
     ]
    }
   ],
   "source": [
    "print(needle_cline.outfile)"
   ]
  },
  {
   "cell_type": "markdown",
   "metadata": {},
   "source": [
    "\n",
    "Next we want to use Python to run this command for us. As explained\n",
    "above, for full control, we recommend you use the built in Python\n",
    "`subprocess` module, but for simple usage the wrapper object usually\n",
    "suffices:\n",
    "\n"
   ]
  },
  {
   "cell_type": "code",
   "execution_count": 103,
   "metadata": {},
   "outputs": [
    {
     "ename": "ApplicationError",
     "evalue": "Non-zero return code 127 from 'needle -outfile=needle.txt -asequence=data/alpha.faa -bsequence=data/beta.faa -gapopen=10 -gapextend=0.5', message '/bin/sh: 1: needle: not found'",
     "output_type": "error",
     "traceback": [
      "\u001b[1;31m---------------------------------------------------------------------------\u001b[0m",
      "\u001b[1;31mApplicationError\u001b[0m                          Traceback (most recent call last)",
      "\u001b[1;32m<ipython-input-103-c1c0502efb05>\u001b[0m in \u001b[0;36m<module>\u001b[1;34m()\u001b[0m\n\u001b[1;32m----> 1\u001b[1;33m \u001b[0mstdout\u001b[0m\u001b[1;33m,\u001b[0m \u001b[0mstderr\u001b[0m \u001b[1;33m=\u001b[0m \u001b[0mneedle_cline\u001b[0m\u001b[1;33m(\u001b[0m\u001b[1;33m)\u001b[0m\u001b[1;33m\u001b[0m\u001b[0m\n\u001b[0m\u001b[0;32m      2\u001b[0m \u001b[0mprint\u001b[0m\u001b[1;33m(\u001b[0m\u001b[0mstdout\u001b[0m \u001b[1;33m+\u001b[0m \u001b[0mstderr\u001b[0m\u001b[1;33m)\u001b[0m\u001b[1;33m\u001b[0m\u001b[0m\n",
      "\u001b[1;32m/home/tiago_antao/miniconda/lib/python3.5/site-packages/Bio/Application/__init__.py\u001b[0m in \u001b[0;36m__call__\u001b[1;34m(self, stdin, stdout, stderr, cwd, env)\u001b[0m\n\u001b[0;32m    515\u001b[0m         \u001b[1;32mif\u001b[0m \u001b[0mreturn_code\u001b[0m\u001b[1;33m:\u001b[0m\u001b[1;33m\u001b[0m\u001b[0m\n\u001b[0;32m    516\u001b[0m             raise ApplicationError(return_code, str(self),\n\u001b[1;32m--> 517\u001b[1;33m                                    stdout_str, stderr_str)\n\u001b[0m\u001b[0;32m    518\u001b[0m         \u001b[1;32mreturn\u001b[0m \u001b[0mstdout_str\u001b[0m\u001b[1;33m,\u001b[0m \u001b[0mstderr_str\u001b[0m\u001b[1;33m\u001b[0m\u001b[0m\n\u001b[0;32m    519\u001b[0m \u001b[1;33m\u001b[0m\u001b[0m\n",
      "\u001b[1;31mApplicationError\u001b[0m: Non-zero return code 127 from 'needle -outfile=needle.txt -asequence=data/alpha.faa -bsequence=data/beta.faa -gapopen=10 -gapextend=0.5', message '/bin/sh: 1: needle: not found'"
     ]
    }
   ],
   "source": [
    "stdout, stderr = needle_cline()\n",
    "print(stdout + stderr)"
   ]
  },
  {
   "cell_type": "markdown",
   "metadata": {},
   "source": [
    "\n",
    "Next we can load the output file with `Bio.AlignIO` as discussed earlier\n",
    "in this chapter, as the `emboss` format:\n",
    "\n"
   ]
  },
  {
   "cell_type": "code",
   "execution_count": 104,
   "metadata": {},
   "outputs": [
    {
     "ename": "FileNotFoundError",
     "evalue": "[Errno 2] No such file or directory: 'needle.txt'",
     "output_type": "error",
     "traceback": [
      "\u001b[1;31m---------------------------------------------------------------------------\u001b[0m",
      "\u001b[1;31mFileNotFoundError\u001b[0m                         Traceback (most recent call last)",
      "\u001b[1;32m<ipython-input-104-cb0b4e27470d>\u001b[0m in \u001b[0;36m<module>\u001b[1;34m()\u001b[0m\n\u001b[0;32m      1\u001b[0m \u001b[1;32mfrom\u001b[0m \u001b[0mBio\u001b[0m \u001b[1;32mimport\u001b[0m \u001b[0mAlignIO\u001b[0m\u001b[1;33m\u001b[0m\u001b[0m\n\u001b[1;32m----> 2\u001b[1;33m \u001b[0malign\u001b[0m \u001b[1;33m=\u001b[0m \u001b[0mAlignIO\u001b[0m\u001b[1;33m.\u001b[0m\u001b[0mread\u001b[0m\u001b[1;33m(\u001b[0m\u001b[1;34m\"needle.txt\"\u001b[0m\u001b[1;33m,\u001b[0m \u001b[1;34m\"emboss\"\u001b[0m\u001b[1;33m)\u001b[0m\u001b[1;33m\u001b[0m\u001b[0m\n\u001b[0m\u001b[0;32m      3\u001b[0m \u001b[0mprint\u001b[0m\u001b[1;33m(\u001b[0m\u001b[0malign\u001b[0m\u001b[1;33m)\u001b[0m\u001b[1;33m\u001b[0m\u001b[0m\n",
      "\u001b[1;32m/home/tiago_antao/miniconda/lib/python3.5/site-packages/Bio/AlignIO/__init__.py\u001b[0m in \u001b[0;36mread\u001b[1;34m(handle, format, seq_count, alphabet)\u001b[0m\n\u001b[0;32m    425\u001b[0m     \u001b[0miterator\u001b[0m \u001b[1;33m=\u001b[0m \u001b[0mparse\u001b[0m\u001b[1;33m(\u001b[0m\u001b[0mhandle\u001b[0m\u001b[1;33m,\u001b[0m \u001b[0mformat\u001b[0m\u001b[1;33m,\u001b[0m \u001b[0mseq_count\u001b[0m\u001b[1;33m,\u001b[0m \u001b[0malphabet\u001b[0m\u001b[1;33m)\u001b[0m\u001b[1;33m\u001b[0m\u001b[0m\n\u001b[0;32m    426\u001b[0m     \u001b[1;32mtry\u001b[0m\u001b[1;33m:\u001b[0m\u001b[1;33m\u001b[0m\u001b[0m\n\u001b[1;32m--> 427\u001b[1;33m         \u001b[0mfirst\u001b[0m \u001b[1;33m=\u001b[0m \u001b[0mnext\u001b[0m\u001b[1;33m(\u001b[0m\u001b[0miterator\u001b[0m\u001b[1;33m)\u001b[0m\u001b[1;33m\u001b[0m\u001b[0m\n\u001b[0m\u001b[0;32m    428\u001b[0m     \u001b[1;32mexcept\u001b[0m \u001b[0mStopIteration\u001b[0m\u001b[1;33m:\u001b[0m\u001b[1;33m\u001b[0m\u001b[0m\n\u001b[0;32m    429\u001b[0m         \u001b[0mfirst\u001b[0m \u001b[1;33m=\u001b[0m \u001b[1;32mNone\u001b[0m\u001b[1;33m\u001b[0m\u001b[0m\n",
      "\u001b[1;32m/home/tiago_antao/miniconda/lib/python3.5/site-packages/Bio/AlignIO/__init__.py\u001b[0m in \u001b[0;36mparse\u001b[1;34m(handle, format, seq_count, alphabet)\u001b[0m\n\u001b[0;32m    348\u001b[0m         \u001b[1;32mraise\u001b[0m \u001b[0mTypeError\u001b[0m\u001b[1;33m(\u001b[0m\u001b[1;34m\"Need integer for seq_count (sequences per alignment)\"\u001b[0m\u001b[1;33m)\u001b[0m\u001b[1;33m\u001b[0m\u001b[0m\n\u001b[0;32m    349\u001b[0m \u001b[1;33m\u001b[0m\u001b[0m\n\u001b[1;32m--> 350\u001b[1;33m     \u001b[1;32mwith\u001b[0m \u001b[0mas_handle\u001b[0m\u001b[1;33m(\u001b[0m\u001b[0mhandle\u001b[0m\u001b[1;33m,\u001b[0m \u001b[1;34m'rU'\u001b[0m\u001b[1;33m)\u001b[0m \u001b[1;32mas\u001b[0m \u001b[0mfp\u001b[0m\u001b[1;33m:\u001b[0m\u001b[1;33m\u001b[0m\u001b[0m\n\u001b[0m\u001b[0;32m    351\u001b[0m         \u001b[1;31m# Map the file format to a sequence iterator:\u001b[0m\u001b[1;33m\u001b[0m\u001b[1;33m\u001b[0m\u001b[0m\n\u001b[0;32m    352\u001b[0m         \u001b[1;32mif\u001b[0m \u001b[0mformat\u001b[0m \u001b[1;32min\u001b[0m \u001b[0m_FormatToIterator\u001b[0m\u001b[1;33m:\u001b[0m\u001b[1;33m\u001b[0m\u001b[0m\n",
      "\u001b[1;32m/home/tiago_antao/miniconda/lib/python3.5/contextlib.py\u001b[0m in \u001b[0;36m__enter__\u001b[1;34m(self)\u001b[0m\n\u001b[0;32m     57\u001b[0m     \u001b[1;32mdef\u001b[0m \u001b[0m__enter__\u001b[0m\u001b[1;33m(\u001b[0m\u001b[0mself\u001b[0m\u001b[1;33m)\u001b[0m\u001b[1;33m:\u001b[0m\u001b[1;33m\u001b[0m\u001b[0m\n\u001b[0;32m     58\u001b[0m         \u001b[1;32mtry\u001b[0m\u001b[1;33m:\u001b[0m\u001b[1;33m\u001b[0m\u001b[0m\n\u001b[1;32m---> 59\u001b[1;33m             \u001b[1;32mreturn\u001b[0m \u001b[0mnext\u001b[0m\u001b[1;33m(\u001b[0m\u001b[0mself\u001b[0m\u001b[1;33m.\u001b[0m\u001b[0mgen\u001b[0m\u001b[1;33m)\u001b[0m\u001b[1;33m\u001b[0m\u001b[0m\n\u001b[0m\u001b[0;32m     60\u001b[0m         \u001b[1;32mexcept\u001b[0m \u001b[0mStopIteration\u001b[0m\u001b[1;33m:\u001b[0m\u001b[1;33m\u001b[0m\u001b[0m\n\u001b[0;32m     61\u001b[0m             \u001b[1;32mraise\u001b[0m \u001b[0mRuntimeError\u001b[0m\u001b[1;33m(\u001b[0m\u001b[1;34m\"generator didn't yield\"\u001b[0m\u001b[1;33m)\u001b[0m \u001b[1;32mfrom\u001b[0m \u001b[1;32mNone\u001b[0m\u001b[1;33m\u001b[0m\u001b[0m\n",
      "\u001b[1;32m/home/tiago_antao/miniconda/lib/python3.5/site-packages/Bio/File.py\u001b[0m in \u001b[0;36mas_handle\u001b[1;34m(handleish, mode, **kwargs)\u001b[0m\n\u001b[0;32m     88\u001b[0m                 \u001b[1;32myield\u001b[0m \u001b[0mfp\u001b[0m\u001b[1;33m\u001b[0m\u001b[0m\n\u001b[0;32m     89\u001b[0m         \u001b[1;32melse\u001b[0m\u001b[1;33m:\u001b[0m\u001b[1;33m\u001b[0m\u001b[0m\n\u001b[1;32m---> 90\u001b[1;33m             \u001b[1;32mwith\u001b[0m \u001b[0mopen\u001b[0m\u001b[1;33m(\u001b[0m\u001b[0mhandleish\u001b[0m\u001b[1;33m,\u001b[0m \u001b[0mmode\u001b[0m\u001b[1;33m,\u001b[0m \u001b[1;33m**\u001b[0m\u001b[0mkwargs\u001b[0m\u001b[1;33m)\u001b[0m \u001b[1;32mas\u001b[0m \u001b[0mfp\u001b[0m\u001b[1;33m:\u001b[0m\u001b[1;33m\u001b[0m\u001b[0m\n\u001b[0m\u001b[0;32m     91\u001b[0m                 \u001b[1;32myield\u001b[0m \u001b[0mfp\u001b[0m\u001b[1;33m\u001b[0m\u001b[0m\n\u001b[0;32m     92\u001b[0m     \u001b[1;32melse\u001b[0m\u001b[1;33m:\u001b[0m\u001b[1;33m\u001b[0m\u001b[0m\n",
      "\u001b[1;31mFileNotFoundError\u001b[0m: [Errno 2] No such file or directory: 'needle.txt'"
     ]
    }
   ],
   "source": [
    "from Bio import AlignIO\n",
    "align = AlignIO.read(\"needle.txt\", \"emboss\")\n",
    "print(align)"
   ]
  },
  {
   "cell_type": "code",
   "execution_count": null,
   "metadata": {
    "collapsed": true,
    "jupyter": {
     "outputs_hidden": true
    }
   },
   "outputs": [],
   "source": []
  }
 ],
 "metadata": {
  "kernelspec": {
   "display_name": "Python 3.9.12 ('base')",
   "language": "python",
   "name": "python3"
  },
  "language_info": {
   "codemirror_mode": {
    "name": "ipython",
    "version": 3
   },
   "file_extension": ".py",
   "mimetype": "text/x-python",
   "name": "python",
   "nbconvert_exporter": "python",
   "pygments_lexer": "ipython3",
   "version": "3.9.12"
  },
  "vscode": {
   "interpreter": {
    "hash": "3cb3cdbbf262fdff54efe70cd2922f0f0757dcdadbaeb09de0b9e6901692b9ab"
   }
  }
 },
 "nbformat": 4,
 "nbformat_minor": 4
}
